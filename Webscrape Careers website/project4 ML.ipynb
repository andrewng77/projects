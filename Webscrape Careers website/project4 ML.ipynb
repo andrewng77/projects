{
 "cells": [
  {
   "cell_type": "code",
   "execution_count": 1,
   "metadata": {},
   "outputs": [],
   "source": [
    "import pandas as pd\n",
    "import numpy as np\n",
    "import seaborn as sns\n",
    "import matplotlib.pyplot as plt\n",
    "import re\n",
    "import pickle\n",
    "\n",
    "from sklearn.preprocessing import StandardScaler,MinMaxScaler\n",
    "from sklearn.feature_extraction.text import CountVectorizer, TfidfTransformer\n",
    "from sklearn.feature_selection import SelectKBest,chi2\n",
    "from sklearn.model_selection import train_test_split, cross_val_score, RandomizedSearchCV\n",
    "from sklearn.metrics import classification_report,confusion_matrix,roc_auc_score,accuracy_score\n",
    "from sklearn.ensemble import RandomForestClassifier,VotingClassifier\n",
    "from sklearn.neighbors import KNeighborsClassifier\n",
    "from sklearn.naive_bayes import MultinomialNB\n",
    "from sklearn.linear_model import LogisticRegression\n",
    "from sklearn.pipeline import Pipeline\n",
    "from imblearn.over_sampling import SMOTE\n",
    "from sklearn.metrics import recall_score\n",
    "from sklearn.model_selection import StratifiedKFold\n",
    "import nltk\n",
    "\n",
    "%matplotlib inline\n",
    "\n",
    "sns.set_style(\"darkgrid\")\n",
    "\n",
    "import warnings\n",
    "warnings.filterwarnings(\"ignore\")"
   ]
  },
  {
   "cell_type": "markdown",
   "metadata": {},
   "source": [
    "# Data Loading"
   ]
  },
  {
   "cell_type": "code",
   "execution_count": 2,
   "metadata": {},
   "outputs": [],
   "source": [
    "df=pd.read_csv('./datasets/df.csv')"
   ]
  },
  {
   "cell_type": "code",
   "execution_count": 3,
   "metadata": {},
   "outputs": [
    {
     "data": {
      "text/html": [
       "<div>\n",
       "<style scoped>\n",
       "    .dataframe tbody tr th:only-of-type {\n",
       "        vertical-align: middle;\n",
       "    }\n",
       "\n",
       "    .dataframe tbody tr th {\n",
       "        vertical-align: top;\n",
       "    }\n",
       "\n",
       "    .dataframe thead th {\n",
       "        text-align: right;\n",
       "    }\n",
       "</style>\n",
       "<table border=\"1\" class=\"dataframe\">\n",
       "  <thead>\n",
       "    <tr style=\"text-align: right;\">\n",
       "      <th></th>\n",
       "      <th>job_id</th>\n",
       "      <th>company</th>\n",
       "      <th>title</th>\n",
       "      <th>location</th>\n",
       "      <th>employment_type</th>\n",
       "      <th>level</th>\n",
       "      <th>category</th>\n",
       "      <th>salary_min</th>\n",
       "      <th>category.1</th>\n",
       "      <th>salary_max</th>\n",
       "      <th>salary_time</th>\n",
       "      <th>exp</th>\n",
       "      <th>date_close</th>\n",
       "      <th>clean_role</th>\n",
       "      <th>clean_req</th>\n",
       "      <th>skills</th>\n",
       "      <th>url</th>\n",
       "      <th>date_scrape</th>\n",
       "    </tr>\n",
       "  </thead>\n",
       "  <tbody>\n",
       "    <tr>\n",
       "      <th>1907</th>\n",
       "      <td>JOB-2019-0069126</td>\n",
       "      <td>Company Undisclosed</td>\n",
       "      <td>Section Manager Supply Chain (73502)</td>\n",
       "      <td>FRONTIER, 50 UBI AVENUE 3 408866</td>\n",
       "      <td>Permanent, Full Time</td>\n",
       "      <td>Manager</td>\n",
       "      <td>Logistics / Supply Chain</td>\n",
       "      <td>$4,800</td>\n",
       "      <td>Logistics / Supply Chain</td>\n",
       "      <td>$6,900</td>\n",
       "      <td>Monthly</td>\n",
       "      <td>3 years  exp</td>\n",
       "      <td>Closing on 02 May 2019</td>\n",
       "      <td>Job Responsibilities: Management of Projects a...</td>\n",
       "      <td>Requirements Minimum Diploma, preferably Degre...</td>\n",
       "      <td>Continuous Improvement,Cross-functional Team L...</td>\n",
       "      <td>https://www.mycareersfuture.sg/job/section-man...</td>\n",
       "      <td>01-05-2019</td>\n",
       "    </tr>\n",
       "    <tr>\n",
       "      <th>1819</th>\n",
       "      <td>JOB-2018-0234335</td>\n",
       "      <td>STYLETHEORY PRIVATE LIMITED</td>\n",
       "      <td>Operations Head</td>\n",
       "      <td>HAIG COURT, 152 HAIG ROAD 438791</td>\n",
       "      <td>Permanent, Full Time</td>\n",
       "      <td>Senior Management, Manager</td>\n",
       "      <td>Logistics / Supply Chain, General Management</td>\n",
       "      <td>$8,000</td>\n",
       "      <td>Logistics / Supply Chain, General Management</td>\n",
       "      <td>$12,000</td>\n",
       "      <td>Monthly</td>\n",
       "      <td>3 years  exp</td>\n",
       "      <td>Closing on 04 May 2019</td>\n",
       "      <td>Company Overview: Style Theory is a Fashion-Te...</td>\n",
       "      <td>Requirements Requirements: Have worked in a re...</td>\n",
       "      <td>5S,BPO,Budgets,Continuous Improvement,Contract...</td>\n",
       "      <td>https://www.mycareersfuture.sg/job/operations-...</td>\n",
       "      <td>01-05-2019</td>\n",
       "    </tr>\n",
       "    <tr>\n",
       "      <th>1576</th>\n",
       "      <td>JOB-2019-0078587</td>\n",
       "      <td>NTUC ENTERPRISE CO-OPERATIVE LTD</td>\n",
       "      <td>Vice President, Enterprise Data Warehouse</td>\n",
       "      <td>21 LOWER KENT RIDGE ROAD 119077</td>\n",
       "      <td>Full Time</td>\n",
       "      <td>Middle Management</td>\n",
       "      <td>Education and Training, Information Technology</td>\n",
       "      <td>$8,000</td>\n",
       "      <td>Education and Training, Information Technology</td>\n",
       "      <td>$13,000</td>\n",
       "      <td>Monthly</td>\n",
       "      <td>5 years  exp</td>\n",
       "      <td>Closing on 12 May 2019</td>\n",
       "      <td>COMPANY DESCRIPTION NTUC Enterprise is the hol...</td>\n",
       "      <td>Requirements Must be highly technical/strong h...</td>\n",
       "      <td>Business Analysis,Business Intelligence,Data A...</td>\n",
       "      <td>https://www.mycareersfuture.sg/job/vice-presid...</td>\n",
       "      <td>01-05-2019</td>\n",
       "    </tr>\n",
       "    <tr>\n",
       "      <th>1060</th>\n",
       "      <td>JOB-2019-0090362</td>\n",
       "      <td>NANYANG TECHNOLOGICAL UNIVERSITY</td>\n",
       "      <td>Project Officer</td>\n",
       "      <td>NANYANG TECHNOLOGICAL UNIVERSITY, 50 NANYANG A...</td>\n",
       "      <td>Contract, Full Time</td>\n",
       "      <td>Professional</td>\n",
       "      <td>Engineering, Sciences / Laboratory / R&amp;D</td>\n",
       "      <td>$3,400</td>\n",
       "      <td>Engineering, Sciences / Laboratory / R&amp;D</td>\n",
       "      <td>$4,400</td>\n",
       "      <td>Monthly</td>\n",
       "      <td>10 years  exp</td>\n",
       "      <td>Closing on 28 May 2019</td>\n",
       "      <td>The Rapid-Rich Object SEarch (ROSE) Lab is a j...</td>\n",
       "      <td>Requirements Bachelor degree in Computer Scien...</td>\n",
       "      <td>Algorithms,Artificial Intelligence,C,C++,Compu...</td>\n",
       "      <td>https://www.mycareersfuture.sg/job/project-off...</td>\n",
       "      <td>01-05-2019</td>\n",
       "    </tr>\n",
       "    <tr>\n",
       "      <th>710</th>\n",
       "      <td>JOB-2019-0085815</td>\n",
       "      <td>KELLY SERVICES (SINGAPORE) PTE. LTD.</td>\n",
       "      <td>Programme Coordinator</td>\n",
       "      <td>ASIA SQUARE TOWER 1, 8 MARINA VIEW 018960</td>\n",
       "      <td>Contract</td>\n",
       "      <td>Executive</td>\n",
       "      <td>Information Technology</td>\n",
       "      <td>$5,000</td>\n",
       "      <td>Information Technology</td>\n",
       "      <td>$7,000</td>\n",
       "      <td>Monthly</td>\n",
       "      <td>6 years  exp</td>\n",
       "      <td>Closing on 23 May 2019</td>\n",
       "      <td>We are looking for an exceptional Program Coor...</td>\n",
       "      <td>Requirements Minimum 2 years of programme/proj...</td>\n",
       "      <td>Community Outreach,Customer Service,Editing,Ev...</td>\n",
       "      <td>https://www.mycareersfuture.sg/job/programme-c...</td>\n",
       "      <td>01-05-2019</td>\n",
       "    </tr>\n",
       "  </tbody>\n",
       "</table>\n",
       "</div>"
      ],
      "text/plain": [
       "                  job_id                               company  \\\n",
       "1907   JOB-2019-0069126                    Company Undisclosed   \n",
       "1819   JOB-2018-0234335            STYLETHEORY PRIVATE LIMITED   \n",
       "1576   JOB-2019-0078587       NTUC ENTERPRISE CO-OPERATIVE LTD   \n",
       "1060   JOB-2019-0090362       NANYANG TECHNOLOGICAL UNIVERSITY   \n",
       "710    JOB-2019-0085815   KELLY SERVICES (SINGAPORE) PTE. LTD.   \n",
       "\n",
       "                                          title  \\\n",
       "1907       Section Manager Supply Chain (73502)   \n",
       "1819                            Operations Head   \n",
       "1576  Vice President, Enterprise Data Warehouse   \n",
       "1060                            Project Officer   \n",
       "710                       Programme Coordinator   \n",
       "\n",
       "                                               location       employment_type  \\\n",
       "1907                   FRONTIER, 50 UBI AVENUE 3 408866  Permanent, Full Time   \n",
       "1819                   HAIG COURT, 152 HAIG ROAD 438791  Permanent, Full Time   \n",
       "1576                    21 LOWER KENT RIDGE ROAD 119077             Full Time   \n",
       "1060  NANYANG TECHNOLOGICAL UNIVERSITY, 50 NANYANG A...   Contract, Full Time   \n",
       "710           ASIA SQUARE TOWER 1, 8 MARINA VIEW 018960              Contract   \n",
       "\n",
       "                           level  \\\n",
       "1907                     Manager   \n",
       "1819  Senior Management, Manager   \n",
       "1576           Middle Management   \n",
       "1060                Professional   \n",
       "710                    Executive   \n",
       "\n",
       "                                            category salary_min  \\\n",
       "1907                        Logistics / Supply Chain     $4,800   \n",
       "1819    Logistics / Supply Chain, General Management     $8,000   \n",
       "1576  Education and Training, Information Technology     $8,000   \n",
       "1060        Engineering, Sciences / Laboratory / R&D     $3,400   \n",
       "710                           Information Technology     $5,000   \n",
       "\n",
       "                                          category.1 salary_max salary_time  \\\n",
       "1907                        Logistics / Supply Chain     $6,900     Monthly   \n",
       "1819    Logistics / Supply Chain, General Management    $12,000     Monthly   \n",
       "1576  Education and Training, Information Technology    $13,000     Monthly   \n",
       "1060        Engineering, Sciences / Laboratory / R&D     $4,400     Monthly   \n",
       "710                           Information Technology     $7,000     Monthly   \n",
       "\n",
       "                exp              date_close  \\\n",
       "1907   3 years  exp  Closing on 02 May 2019   \n",
       "1819   3 years  exp  Closing on 04 May 2019   \n",
       "1576   5 years  exp  Closing on 12 May 2019   \n",
       "1060  10 years  exp  Closing on 28 May 2019   \n",
       "710    6 years  exp  Closing on 23 May 2019   \n",
       "\n",
       "                                             clean_role  \\\n",
       "1907  Job Responsibilities: Management of Projects a...   \n",
       "1819  Company Overview: Style Theory is a Fashion-Te...   \n",
       "1576  COMPANY DESCRIPTION NTUC Enterprise is the hol...   \n",
       "1060  The Rapid-Rich Object SEarch (ROSE) Lab is a j...   \n",
       "710   We are looking for an exceptional Program Coor...   \n",
       "\n",
       "                                              clean_req  \\\n",
       "1907  Requirements Minimum Diploma, preferably Degre...   \n",
       "1819  Requirements Requirements: Have worked in a re...   \n",
       "1576  Requirements Must be highly technical/strong h...   \n",
       "1060  Requirements Bachelor degree in Computer Scien...   \n",
       "710   Requirements Minimum 2 years of programme/proj...   \n",
       "\n",
       "                                                 skills  \\\n",
       "1907  Continuous Improvement,Cross-functional Team L...   \n",
       "1819  5S,BPO,Budgets,Continuous Improvement,Contract...   \n",
       "1576  Business Analysis,Business Intelligence,Data A...   \n",
       "1060  Algorithms,Artificial Intelligence,C,C++,Compu...   \n",
       "710   Community Outreach,Customer Service,Editing,Ev...   \n",
       "\n",
       "                                                    url date_scrape  \n",
       "1907  https://www.mycareersfuture.sg/job/section-man...  01-05-2019  \n",
       "1819  https://www.mycareersfuture.sg/job/operations-...  01-05-2019  \n",
       "1576  https://www.mycareersfuture.sg/job/vice-presid...  01-05-2019  \n",
       "1060  https://www.mycareersfuture.sg/job/project-off...  01-05-2019  \n",
       "710   https://www.mycareersfuture.sg/job/programme-c...  01-05-2019  "
      ]
     },
     "execution_count": 3,
     "metadata": {},
     "output_type": "execute_result"
    }
   ],
   "source": [
    "df.sample(5)"
   ]
  },
  {
   "cell_type": "code",
   "execution_count": 4,
   "metadata": {},
   "outputs": [
    {
     "data": {
      "text/plain": [
       "job_id               0\n",
       "company              0\n",
       "title                0\n",
       "location             0\n",
       "employment_type      0\n",
       "level                0\n",
       "category             0\n",
       "salary_min           0\n",
       "category.1           0\n",
       "salary_max           0\n",
       "salary_time          0\n",
       "exp                  0\n",
       "date_close           0\n",
       "clean_role          74\n",
       "clean_req          252\n",
       "skills              74\n",
       "url                  0\n",
       "date_scrape          0\n",
       "dtype: int64"
      ]
     },
     "execution_count": 4,
     "metadata": {},
     "output_type": "execute_result"
    }
   ],
   "source": [
    "#check for number of null values after scraping\n",
    "df.isnull().sum()"
   ]
  },
  {
   "cell_type": "code",
   "execution_count": 5,
   "metadata": {},
   "outputs": [
    {
     "name": "stdout",
     "output_type": "stream",
     "text": [
      "<class 'pandas.core.frame.DataFrame'>\n",
      "RangeIndex: 2234 entries, 0 to 2233\n",
      "Data columns (total 18 columns):\n",
      "job_id             2234 non-null object\n",
      "company            2234 non-null object\n",
      "title              2234 non-null object\n",
      "location           2234 non-null object\n",
      "employment_type    2234 non-null object\n",
      "level              2234 non-null object\n",
      "category           2234 non-null object\n",
      "salary_min         2234 non-null object\n",
      "category.1         2234 non-null object\n",
      "salary_max         2234 non-null object\n",
      "salary_time        2234 non-null object\n",
      "exp                2234 non-null object\n",
      "date_close         2234 non-null object\n",
      "clean_role         2160 non-null object\n",
      "clean_req          1982 non-null object\n",
      "skills             2160 non-null object\n",
      "url                2234 non-null object\n",
      "date_scrape        2234 non-null object\n",
      "dtypes: object(18)\n",
      "memory usage: 314.2+ KB\n"
     ]
    }
   ],
   "source": [
    "#check datatypes\n",
    "df.info()"
   ]
  },
  {
   "cell_type": "code",
   "execution_count": 6,
   "metadata": {},
   "outputs": [
    {
     "data": {
      "text/plain": [
       "(2234, 18)"
      ]
     },
     "execution_count": 6,
     "metadata": {},
     "output_type": "execute_result"
    }
   ],
   "source": [
    "#check number of rows and columns\n",
    "df.shape"
   ]
  },
  {
   "cell_type": "code",
   "execution_count": 7,
   "metadata": {
    "scrolled": false
   },
   "outputs": [
    {
     "data": {
      "text/plain": [
       "(1339, 18)"
      ]
     },
     "execution_count": 7,
     "metadata": {},
     "output_type": "execute_result"
    }
   ],
   "source": [
    "#drop duplicates with the same job_id\n",
    "df.drop_duplicates(subset =\"job_id\", keep = False, inplace=True) \n",
    "df.shape"
   ]
  },
  {
   "cell_type": "code",
   "execution_count": 8,
   "metadata": {},
   "outputs": [
    {
     "data": {
      "text/plain": [
       "(1339, 14)"
      ]
     },
     "execution_count": 8,
     "metadata": {},
     "output_type": "execute_result"
    }
   ],
   "source": [
    "#drop columns that are definitely not required\n",
    "useless = ['job_id','date_close','url','date_scrape']\n",
    "df.drop(columns=useless,inplace=True)\n",
    "df.shape"
   ]
  },
  {
   "cell_type": "markdown",
   "metadata": {},
   "source": [
    "## Column : Title "
   ]
  },
  {
   "cell_type": "code",
   "execution_count": 9,
   "metadata": {},
   "outputs": [],
   "source": [
    "#start to clean for title column\n",
    "#perform lowercase \n",
    "    \n",
    "df['title']=df.title.str.lower()"
   ]
  },
  {
   "cell_type": "code",
   "execution_count": 10,
   "metadata": {},
   "outputs": [],
   "source": [
    "#function to manually classify the data job titles\n",
    "\n",
    "def clean_title(x):  \n",
    "    \n",
    "    if 'vp' in x:\n",
    "        return 'management'\n",
    "    \n",
    "    elif 'data analyst' in x:\n",
    "        if 'senior data analyst' in x or 'senior analyst' in x or 'senior analytics' in x or 'lead' in x:\n",
    "            return 'data scientist'     \n",
    "        else:\n",
    "            return 'data analyst'\n",
    "        \n",
    "    elif 'data scientist' in x or 'machine' in x or 'deep' in x or 'algorithm' in x:\n",
    "        return 'data scientist'\n",
    "    \n",
    "    elif 'research' in x or 'robotic' in x or 'consultant' in x or 'image' in x or 'nlp' in x or 'language' in x or 'ai' in x:\n",
    "        return 'data scientist'\n",
    "  \n",
    "    elif 'architect' in x or 'engineer' in x:\n",
    "        return 'data engineer'\n",
    "\n",
    "    elif 'business analyst' in x:\n",
    "        if 'senior business analyst' in x:\n",
    "            return 'data scientist'\n",
    "        else:\n",
    "            return 'business analyst'\n",
    "   \n",
    "    elif 'software' in x or 'business system analyst' in x:\n",
    "        return 'software engineer'\n",
    "    \n",
    "    elif 'recruitment' in x:\n",
    "        return np.nan\n",
    "    \n",
    "    else: \n",
    "        return np.nan"
   ]
  },
  {
   "cell_type": "code",
   "execution_count": 11,
   "metadata": {},
   "outputs": [
    {
     "data": {
      "text/plain": [
       "data scientist       278\n",
       "business analyst     167\n",
       "data engineer        149\n",
       "management            55\n",
       "software engineer     26\n",
       "data analyst          20\n",
       "Name: title_clean, dtype: int64"
      ]
     },
     "execution_count": 11,
     "metadata": {},
     "output_type": "execute_result"
    }
   ],
   "source": [
    "#final categorization done\n",
    "df['title_clean']=df.title.map(clean_title)\n",
    "df.title_clean.value_counts()"
   ]
  },
  {
   "cell_type": "code",
   "execution_count": 12,
   "metadata": {},
   "outputs": [
    {
     "data": {
      "text/plain": [
       "644"
      ]
     },
     "execution_count": 12,
     "metadata": {},
     "output_type": "execute_result"
    }
   ],
   "source": [
    "df.title_clean.isnull().sum()"
   ]
  },
  {
   "cell_type": "code",
   "execution_count": 13,
   "metadata": {},
   "outputs": [
    {
     "data": {
      "text/plain": [
       "(695, 15)"
      ]
     },
     "execution_count": 13,
     "metadata": {},
     "output_type": "execute_result"
    }
   ],
   "source": [
    "#drop job titles that are not useful(np.nan) at all\n",
    "df.dropna(subset = ['title_clean'],inplace=True)\n",
    "df.shape"
   ]
  },
  {
   "cell_type": "markdown",
   "metadata": {},
   "source": [
    "## Column = employment_type"
   ]
  },
  {
   "cell_type": "code",
   "execution_count": 14,
   "metadata": {},
   "outputs": [
    {
     "data": {
      "text/plain": [
       "array(['Contract', 'Full Time', 'Permanent', 'Permanent, Full Time',\n",
       "       'Permanent, Contract', 'Contract, Full Time',\n",
       "       'Part Time, Permanent, Temporary, Freelance, Full Time, Internship',\n",
       "       'Permanent, Contract, Full Time', 'Part Time, Contract',\n",
       "       'Full Time, Internship', 'Temporary',\n",
       "       'Part Time, Permanent, Full Time', 'Temporary, Contract'],\n",
       "      dtype=object)"
      ]
     },
     "execution_count": 14,
     "metadata": {},
     "output_type": "execute_result"
    }
   ],
   "source": [
    "df.employment_type.unique()"
   ]
  },
  {
   "cell_type": "code",
   "execution_count": 15,
   "metadata": {},
   "outputs": [],
   "source": [
    "#start to clean for employment_type column\n",
    "#perform lowercase \n",
    "df['employment_type']=df.employment_type.str.lower()"
   ]
  },
  {
   "cell_type": "code",
   "execution_count": 16,
   "metadata": {},
   "outputs": [
    {
     "data": {
      "text/plain": [
       "array(['contract', 'full time', 'permanent', 'permanent, full time',\n",
       "       'permanent, contract', 'contract, full time',\n",
       "       'part time, permanent, temporary, freelance, full time, internship',\n",
       "       'permanent, contract, full time', 'part time, contract',\n",
       "       'full time, internship', 'temporary',\n",
       "       'part time, permanent, full time', 'temporary, contract'],\n",
       "      dtype=object)"
      ]
     },
     "execution_count": 16,
     "metadata": {},
     "output_type": "execute_result"
    }
   ],
   "source": [
    "df.employment_type.unique()"
   ]
  },
  {
   "cell_type": "code",
   "execution_count": 17,
   "metadata": {},
   "outputs": [],
   "source": [
    "#function to manually classify the employment_type\n",
    "\n",
    "def clean_employ(x):\n",
    "    \n",
    "    if x=='permanent, full time' or x=='full time' or x=='permanent':\n",
    "        return 'permanent'\n",
    "    \n",
    "    elif x=='permanent, contract' or x=='temporary, contract' or x=='permanent, contract, full time':\n",
    "        return 'contract'\n",
    "\n",
    "    elif x=='part time, permanent, temporary, freelance, full time, internship' or x=='part time, permanent, full time':\n",
    "        return 'permanent'\n",
    "    \n",
    "    elif x=='permanent, contract' or x=='part time, contract' or x=='contract, full time':\n",
    "        return 'contract'\n",
    "    \n",
    "    elif x=='full time, internship':\n",
    "        return 'permanent'\n",
    "    \n",
    "    elif x=='temporary':\n",
    "        return 'temporary'\n",
    "    \n",
    "    elif x=='internship':\n",
    "        return 'internship'\n",
    "\n",
    "    else: \n",
    "        return x"
   ]
  },
  {
   "cell_type": "code",
   "execution_count": 18,
   "metadata": {},
   "outputs": [
    {
     "data": {
      "text/plain": [
       "permanent    522\n",
       "contract     172\n",
       "temporary      1\n",
       "Name: employment_type, dtype: int64"
      ]
     },
     "execution_count": 18,
     "metadata": {},
     "output_type": "execute_result"
    }
   ],
   "source": [
    "df['employment_type']=df.employment_type.map(clean_employ)\n",
    "df.employment_type.value_counts()"
   ]
  },
  {
   "cell_type": "markdown",
   "metadata": {},
   "source": [
    "## Column = exp"
   ]
  },
  {
   "cell_type": "code",
   "execution_count": 19,
   "metadata": {},
   "outputs": [
    {
     "data": {
      "text/plain": [
       "array(['3 years  exp', '4 years  exp', '7 years  exp', '8 years  exp',\n",
       "       '5 years  exp', '1 year  exp', '10 years  exp', '9 years  exp',\n",
       "       '6 years  exp', '2 years  exp', '12 years  exp', '15 years  exp'],\n",
       "      dtype=object)"
      ]
     },
     "execution_count": 19,
     "metadata": {},
     "output_type": "execute_result"
    }
   ],
   "source": [
    "df.exp.unique()"
   ]
  },
  {
   "cell_type": "code",
   "execution_count": 20,
   "metadata": {},
   "outputs": [],
   "source": [
    "#retain only numbers\n",
    "df['exp']=df.exp.str.findall(pat='(\\d+)')"
   ]
  },
  {
   "cell_type": "code",
   "execution_count": 21,
   "metadata": {
    "scrolled": true
   },
   "outputs": [],
   "source": [
    "#use only the first element\n",
    "df['exp']=df.exp.apply(lambda x: x[0])"
   ]
  },
  {
   "cell_type": "code",
   "execution_count": 22,
   "metadata": {},
   "outputs": [],
   "source": [
    "#change to int\n",
    "df['exp']=pd.to_numeric(df.exp)"
   ]
  },
  {
   "cell_type": "code",
   "execution_count": 23,
   "metadata": {},
   "outputs": [
    {
     "data": {
      "text/plain": [
       "1     3\n",
       "4     3\n",
       "5     4\n",
       "6     3\n",
       "10    7\n",
       "Name: exp, dtype: int64"
      ]
     },
     "execution_count": 23,
     "metadata": {},
     "output_type": "execute_result"
    }
   ],
   "source": [
    "#cleaned\n",
    "df.exp[:5]"
   ]
  },
  {
   "cell_type": "markdown",
   "metadata": {},
   "source": [
    "## Column = salary_min, salary_max, salary_time"
   ]
  },
  {
   "cell_type": "code",
   "execution_count": 24,
   "metadata": {
    "scrolled": true
   },
   "outputs": [],
   "source": [
    "#remove '$',',' so that it can be converted to numeric\n",
    "df['salary_min']=df.salary_min.str.replace('$','').str.replace(',','')\n",
    "df['salary_max']=df.salary_max.str.replace('$','').str.replace(',','')\n",
    "\n",
    "#need to use apply method to impute np.nan\n",
    "df['salary_min']=df.salary_min.apply(lambda x : np.nan if x=='Salary undisclosed' else x)\n",
    "\n",
    "#convert to to int columns else we can't perform maths operation\n",
    "df['salary_max']=df.salary_max.astype('int64')\n",
    "df['salary_min']=pd.to_numeric(df.salary_min)"
   ]
  },
  {
   "cell_type": "code",
   "execution_count": 25,
   "metadata": {},
   "outputs": [],
   "source": [
    "#df.salary_max divide by 12 for those that are annual\n",
    "\n",
    "def clean_max_sal(x):\n",
    "    if x['salary_time']=='Annually':\n",
    "        return x['salary_max']/12\n",
    "    else:\n",
    "        return x['salary_max']\n",
    "\n",
    "df['salary_max']=df.apply(clean_max_sal,axis=1)"
   ]
  },
  {
   "cell_type": "code",
   "execution_count": 26,
   "metadata": {},
   "outputs": [],
   "source": [
    "#df.salary_min divide by 12 for those that are annual\n",
    "\n",
    "def clean_min_sal(x):\n",
    "    if x['salary_time']=='Annually':\n",
    "        return x['salary_min']/12\n",
    "    else:\n",
    "        return x['salary_min']\n",
    "\n",
    "df['salary_min']=df.apply(clean_min_sal,axis=1)"
   ]
  },
  {
   "cell_type": "code",
   "execution_count": 27,
   "metadata": {},
   "outputs": [],
   "source": [
    "#impute df.salary_min that is undisclosed using a median ratio of min/max\n",
    "ratio = df.salary_min.median()/df.salary_max.median()\n",
    "df.loc[df.salary_min.isnull(),'salary_min']=df.salary_max*ratio"
   ]
  },
  {
   "cell_type": "code",
   "execution_count": 28,
   "metadata": {},
   "outputs": [],
   "source": [
    "#feature engineering as mean of a salary range might provide a better indication as sometimes the range is too wide\n",
    "df['salary_mean']=(df['salary_max'] + df['salary_min']) /2"
   ]
  },
  {
   "cell_type": "code",
   "execution_count": 29,
   "metadata": {},
   "outputs": [],
   "source": [
    "#dropping both of them as they are not required\n",
    "#salary_min is considered as freshies would look at the min salary rather than max salary\n",
    "df.drop(columns=['salary_max','salary_time','salary_min'],inplace=True)"
   ]
  },
  {
   "cell_type": "markdown",
   "metadata": {},
   "source": [
    "## Column = level"
   ]
  },
  {
   "cell_type": "code",
   "execution_count": 30,
   "metadata": {
    "scrolled": true
   },
   "outputs": [
    {
     "data": {
      "text/plain": [
       "array(['Executive', 'Professional', 'Senior Executive',\n",
       "       'Junior Executive', 'Professional, Executive, Senior Executive',\n",
       "       'Non-executive', 'Manager', 'Fresh/entry level',\n",
       "       'Professional, Executive', 'Middle Management',\n",
       "       'Executive, Senior Executive', 'Senior Management',\n",
       "       'Manager, Professional, Senior Executive',\n",
       "       'Professional, Senior Executive', 'Middle Management, Manager',\n",
       "       'Junior Executive, Senior Executive',\n",
       "       'Middle Management, Professional',\n",
       "       'Middle Management, Senior Executive',\n",
       "       'Executive, Junior Executive',\n",
       "       'Fresh/entry level, Executive, Non-executive',\n",
       "       'Senior Management, Manager', 'Professional, Junior Executive',\n",
       "       'Manager, Fresh/entry level, Professional', 'Manager, Executive',\n",
       "       'Fresh/entry level, Junior Executive, Senior Executive',\n",
       "       'Fresh/entry level, Executive, Junior Executive',\n",
       "       'Professional, Non-executive',\n",
       "       'Manager, Fresh/entry level, Senior Executive',\n",
       "       'Manager, Senior Executive', 'Non-executive, Junior Executive',\n",
       "       'Senior Management, Professional',\n",
       "       'Middle Management, Manager, Senior Executive',\n",
       "       'Middle Management, Manager, Professional, Executive',\n",
       "       'Fresh/entry level, Executive',\n",
       "       'Fresh/entry level, Junior Executive',\n",
       "       'Senior Management, Middle Management',\n",
       "       'Fresh/entry level, Non-executive'], dtype=object)"
      ]
     },
     "execution_count": 30,
     "metadata": {},
     "output_type": "execute_result"
    }
   ],
   "source": [
    "df.level.unique()"
   ]
  },
  {
   "cell_type": "code",
   "execution_count": 31,
   "metadata": {
    "scrolled": true
   },
   "outputs": [
    {
     "data": {
      "text/plain": [
       "level\n",
       "Executive                                                 2.0\n",
       "Middle Management, Manager                                2.0\n",
       "Middle Management, Manager, Senior Executive              2.0\n",
       "Middle Management, Senior Executive                       2.0\n",
       "Junior Executive, Senior Executive                        2.0\n",
       "Junior Executive                                          2.0\n",
       "Professional, Junior Executive                            2.0\n",
       "Professional, Executive, Senior Executive                 2.0\n",
       "Professional, Non-executive                               2.0\n",
       "Professional, Senior Executive                            2.0\n",
       "Senior Executive                                          2.0\n",
       "Fresh/entry level, Executive, Non-executive               2.0\n",
       "Manager, Professional, Senior Executive                   2.0\n",
       "Senior Management, Manager                                2.5\n",
       "Senior Management, Middle Management                      3.0\n",
       "Professional                                              3.0\n",
       "Senior Management                                         3.0\n",
       "Middle Management                                         3.0\n",
       "Manager, Fresh/entry level, Professional                  3.0\n",
       "Executive, Junior Executive                               3.0\n",
       "Manager                                                   3.0\n",
       "Executive, Senior Executive                               3.0\n",
       "Fresh/entry level, Junior Executive                       3.0\n",
       "Professional, Executive                                   3.5\n",
       "Middle Management, Manager, Professional, Executive       3.5\n",
       "Middle Management, Professional                           3.5\n",
       "Manager, Senior Executive                                 3.5\n",
       "Non-executive                                             5.0\n",
       "Non-executive, Junior Executive                           5.0\n",
       "Fresh/entry level, Non-executive                          5.0\n",
       "Fresh/entry level                                         5.0\n",
       "Fresh/entry level, Executive                              5.0\n",
       "Manager, Fresh/entry level, Senior Executive              6.0\n",
       "Fresh/entry level, Junior Executive, Senior Executive     8.0\n",
       "Manager, Executive                                        8.0\n",
       "Fresh/entry level, Executive, Junior Executive            8.0\n",
       "Senior Management, Professional                          15.0\n",
       "Name: exp, dtype: float64"
      ]
     },
     "execution_count": 31,
     "metadata": {},
     "output_type": "execute_result"
    }
   ],
   "source": [
    "#this level column is very haphazard\n",
    "#if you look at the extreme ends senior exective can be 2 years exp\n",
    "#fresh/entry level can be 8 years exp\n",
    "#from here, I think using exp is better than to use this column as an input\n",
    "\n",
    "df.groupby('level')['exp'].median().sort_values()"
   ]
  },
  {
   "cell_type": "code",
   "execution_count": 32,
   "metadata": {},
   "outputs": [],
   "source": [
    "#drop level column\n",
    "df.drop(columns=['level'],inplace=True)"
   ]
  },
  {
   "cell_type": "markdown",
   "metadata": {},
   "source": [
    "## Column = category"
   ]
  },
  {
   "cell_type": "code",
   "execution_count": 33,
   "metadata": {},
   "outputs": [],
   "source": [
    "#drop duplicate columns\n",
    "df.drop(['category.1'],axis=1,inplace=True)"
   ]
  },
  {
   "cell_type": "code",
   "execution_count": 34,
   "metadata": {},
   "outputs": [
    {
     "data": {
      "text/plain": [
       "Information Technology    301\n",
       "Banking                   112\n",
       "Engineering                62\n",
       "R&D                        59\n",
       "Consulting                 42\n",
       "Civil Service              35\n",
       "Others                     22\n",
       "Education and Training     10\n",
       "Advertising / Media         8\n",
       "Logistics                   8\n",
       "Design                      5\n",
       "Human Resource              5\n",
       "Professional Services       5\n",
       "Accounting                  4\n",
       "Healthcare                  3\n",
       "Insurance                   3\n",
       "Marketing                   3\n",
       "Sales / Retail              2\n",
       "Telecommunications          2\n",
       "Admin / Secretarial         2\n",
       "Customer Service            1\n",
       "Travel                      1\n",
       "Name: category_clean, dtype: int64"
      ]
     },
     "execution_count": 34,
     "metadata": {},
     "output_type": "execute_result"
    }
   ],
   "source": [
    "def clean_category(x):      \n",
    "    \n",
    "    if 'Banking' in x :\n",
    "        return 'Banking'\n",
    "    elif 'R&D' in x : \n",
    "        return 'R&D'\n",
    "    elif 'Civil Service' in x: \n",
    "        return 'Civil Service'\n",
    "    elif 'Health' in x: \n",
    "        return 'Healthcare'\n",
    "    elif 'Logistics' in x: \n",
    "        return 'Logistics'\n",
    "    elif 'Engineering' in x: \n",
    "        return 'Engineering'\n",
    "    elif 'Consulting' in x: \n",
    "        return 'Consulting'\n",
    "    elif 'Marketing' in x: \n",
    "        return 'Marketing'\n",
    "    elif 'Human Resource' in x: \n",
    "        return 'Human Resource'\n",
    "    elif 'Professional Services' in x:\n",
    "        return 'Professional Services'\n",
    "    elif 'Accounting' in x:\n",
    "        return 'Accounting'\n",
    "    elif 'Others' in x or 'General Management' in x :\n",
    "        return 'Others'\n",
    "    elif 'Design' in x:\n",
    "        return 'Design'\n",
    "    elif 'Travel ' in x:\n",
    "        return 'Travel'\n",
    "    elif 'Customer' in x:\n",
    "        return 'Customer Service'\n",
    "    else:\n",
    "        return x\n",
    "    \n",
    "df['category_clean']=df.category.map(clean_category)\n",
    "df.category_clean.value_counts()"
   ]
  },
  {
   "cell_type": "markdown",
   "metadata": {},
   "source": [
    "## Column = loc"
   ]
  },
  {
   "cell_type": "code",
   "execution_count": 35,
   "metadata": {},
   "outputs": [],
   "source": [
    "#function to manually classify the data job titles\n",
    "\n",
    "def clean_loc(x):  \n",
    "    \n",
    "    if 'RAFFLES' in x or 'MARINA' in x or 'ROBINSON' in x or 'SHENTON' in x or 'ANSON' in x or 'CIRCULAR' in x:\n",
    "        return 'CENTRAL'\n",
    "    \n",
    "    elif 'SUNTEC' in x or 'SHORT STREET' in x or 'MARKET STREET' in x or 'HOSPITAL' in x or 'WALLICH' in x: \n",
    "        return 'CENTRAL'\n",
    "    \n",
    "    elif 'BATTERY' in x or 'SHORT STREET' in x or 'KEPPEL' in x or 'BAYFRONT' in x or 'CROSS STREET' in x: \n",
    "        return 'CENTRAL'\n",
    "    \n",
    "    elif 'CECIL' in x or 'SCOTTS' in x or 'CHULIA' in x or 'HIGH STREET' in x or 'COLEMAN' in x or 'FINANCIAL' in x: \n",
    "        return 'CENTRAL'\n",
    "    \n",
    "    elif 'PHILLIP' in x or 'COLLYER' in x or 'EXETER' in x or 'ORCHARD' in x or 'CHURCH' in x or 'BRAS' in x:\n",
    "        return 'CENTRAL'\n",
    "    \n",
    "    elif 'SOMERSET' in x or 'TEMASEK' in x or 'CARPENTER' in x or 'CLEMENCEAU' in x or 'TRAS' in x or 'MAGAZINE' in x:\n",
    "        return 'CENTRAL'\n",
    "    \n",
    "    elif 'IRRAWADDY' in x or 'PICKERING' in x or 'NEWTON' in x or 'ANTHONY' in x or 'CHIN SWEE' in x or 'TANGLIN' in x: \n",
    "        return 'CENTRAL'\n",
    "    \n",
    "    elif 'NANYANG TECH' in x or 'MAPLETREE' in x or 'KENT' in x or 'AYER RAJAH' in x or 'SCIENCE PARK' in x:\n",
    "        return 'WEST'\n",
    "\n",
    "    elif 'TEMPLE' in x or 'CANTONMENT' in x or 'GERMAN CENTRE' in x or 'HOSPITAL' in x or 'FUSIONOPOLIS' in x:\n",
    "        return 'WEST'\n",
    "    \n",
    "    elif 'TEMPLE' in x or 'BEACH' in x or 'HAVELOCK' in x or 'AYER RAJAH' in x or 'SCIENCE PARK' in x or 'JURONG' in x:\n",
    "        return 'WEST'\n",
    "\n",
    "    elif 'CREATE' in x or 'BESAR' in x or 'PANDAN' in x or 'BATOK' in x or 'VENTURE' in x or 'DEPOT' in x or 'BUROH' in x:\n",
    "        return 'WEST'\n",
    "    \n",
    "    elif 'NORTH BRIDGE' in x or 'NEW BRIDGE' in x or 'TIMAH' in x or 'PIONEER' in x or 'LENG KEE' in x or 'HENDERSON' in x:\n",
    "        return 'WEST'\n",
    "    \n",
    "    elif 'ALEXANDRA' in x or 'BUKIT MERAH' in x or 'SYNERGY' in x or 'NEIL' in x or 'VENTURE' in x or 'BALESTIER' in x:\n",
    "        return 'WEST'\n",
    "    \n",
    "    elif 'PRESTON' in x or 'TELOK AYER' in x or 'WEST' in x or 'COMMONWEALTH' in x or 'KLING' in x or 'BALESTIER' in x:\n",
    "        return 'WEST'\n",
    "    \n",
    "    elif 'STRATEGY' in x:\n",
    "        return 'WEST'\n",
    "    \n",
    "    elif 'CHANGI' in x or 'PAYA LEBAR' in x or 'KALLANG' in x or 'UBI' in x or 'BENDEMEER' in x  or 'AIRLINE' in x:\n",
    "        return 'EAST'\n",
    "    \n",
    "    elif 'BENCOOLEN' in x or 'RIS' in x or 'MIDDLE' in x or 'ALJUNIED' in x or 'LAVENDER' in x or 'AIRLINE' in x:\n",
    "        return 'EAST'\n",
    "    \n",
    "    elif 'RIS' in x or 'PAYA LEBAR' in x or 'KALLANG' in x or 'UBI' in x or 'HUDSON' in x  or 'EXPO' in x:\n",
    "        return 'EAST'\n",
    "    \n",
    "    elif 'TAI SENG' in x or 'WILKIE' in x or 'TAMPINES' in x or 'HOWARD' in x or 'BURN' in x:\n",
    "        return 'EAST'\n",
    "    \n",
    "    elif 'WATERLOO' in x or 'BUSSORAH' in x or 'CHAI CHEE' in x:\n",
    "        return 'EAST'\n",
    "    \n",
    "    elif 'ANG MO KIO' in x or 'WOODLANDS' in x or 'CHUAN' in x or 'THOMSON' in x or 'PEMIMPIN' in x or 'SIN MING' in x:\n",
    "        return 'NORTH'\n",
    "  \n",
    "    elif 'TANNERY' in x or 'SELETAR' in x or 'TOA PAYOH' in x or 'SENOKO' in x or 'JOAN' in x:\n",
    "        return 'NORTH'    \n",
    "    else: \n",
    "        return x\n",
    "    \n",
    "df['loc_clean']=df.location.apply(clean_loc)\n"
   ]
  },
  {
   "cell_type": "markdown",
   "metadata": {},
   "source": [
    "# EDA"
   ]
  },
  {
   "cell_type": "code",
   "execution_count": 36,
   "metadata": {},
   "outputs": [],
   "source": [
    "#we will EDA based on data science related roles\n",
    "df_eda=df[(df.title_clean!='software engineer') & (df.title_clean!='management')]"
   ]
  },
  {
   "cell_type": "code",
   "execution_count": 37,
   "metadata": {},
   "outputs": [
    {
     "data": {
      "image/png": "[encoded data removed]",
      "text/plain": [
       "<Figure size 432x288 with 1 Axes>"
      ]
     },
     "metadata": {
      "needs_background": "light"
     },
     "output_type": "display_data"
    }
   ],
   "source": [
    "#Most data science jobs are avaiable in the central,followed by west\n",
    "df_eda.loc_clean.value_counts().to_frame().plot(kind='bar');\n",
    "plt.title('Data Science jobs based on location in SG')\n",
    "plt.xlabel('Area')\n",
    "plt.ylabel('No. of jobs');"
   ]
  },
  {
   "cell_type": "code",
   "execution_count": 38,
   "metadata": {},
   "outputs": [
    {
     "data": {
      "image/png": "[encoded data removed]",
      "text/plain": [
       "<Figure size 432x288 with 1 Axes>"
      ]
     },
     "metadata": {
      "needs_background": "light"
     },
     "output_type": "display_data"
    }
   ],
   "source": [
    "# Data Engineer has the highest salary at $7,000\n",
    "# followed by business analyst at $6,700\n",
    "# Data Scientist at $6,500\n",
    "# and lastly data analyst at $4,500\n",
    "\n",
    "df_eda.groupby(['title_clean'])['salary_mean'].median().sort_values(ascending=False).plot(kind='bar');\n",
    "plt.title('Average salary of Data Science jobs in SG')\n",
    "plt.xlabel('Area')\n",
    "plt.ylabel('Avg Salary $');"
   ]
  },
  {
   "cell_type": "code",
   "execution_count": 39,
   "metadata": {},
   "outputs": [
    {
     "data": {
      "image/png": "[encoded data removed]",
      "text/plain": [
       "<Figure size 432x288 with 1 Axes>"
      ]
     },
     "metadata": {
      "needs_background": "light"
     },
     "output_type": "display_data"
    }
   ],
   "source": [
    "#It's slightly skewed to right for Data Analyst\n",
    "#It could be due to HR misclassify some of the Data Analyst jobs as Data Scientist\n",
    "# Median pay is around $3,500\n",
    "\n",
    "df_eda[df_eda.title_clean=='data analyst']['salary_mean'].plot(kind='hist')\n",
    "plt.title('Distribution of Data Analyst jobs in SG')\n",
    "plt.ylabel('Frequency')\n",
    "plt.xlabel('Avg Salary $');"
   ]
  },
  {
   "cell_type": "code",
   "execution_count": 40,
   "metadata": {},
   "outputs": [
    {
     "data": {
      "image/png": "[encoded data removed]",
      "text/plain": [
       "<Figure size 432x288 with 1 Axes>"
      ]
     },
     "metadata": {
      "needs_background": "light"
     },
     "output_type": "display_data"
    }
   ],
   "source": [
    "#It's skewed to the right for Data Scientist\n",
    "# Median pay is around $6,000\n",
    "\n",
    "df_eda[df_eda.title_clean=='data scientist']['salary_mean'].plot(kind='hist')\n",
    "plt.title('Distribution of Data Scientist jobs in SG')\n",
    "plt.ylabel('Frequency')\n",
    "plt.xlabel('Avg Salary $');"
   ]
  },
  {
   "cell_type": "code",
   "execution_count": 41,
   "metadata": {
    "scrolled": false
   },
   "outputs": [
    {
     "data": {
      "image/png": "[encoded data removed]",
      "text/plain": [
       "<Figure size 864x432 with 1 Axes>"
      ]
     },
     "metadata": {
      "needs_background": "light"
     },
     "output_type": "display_data"
    }
   ],
   "source": [
    "#highest for data scientist is Central followed by East and West\n",
    "#highest for data analyst is in the North followed by West and Central\n",
    "#data scientist are paid highest in central\n",
    "#data analyst are paid highest in north\n",
    "\n",
    "df_eda.groupby(['loc_clean','title_clean'])['salary_mean'].median().unstack(1).plot(kind='bar',figsize=(12, 6))\n",
    "plt.title('Average salary of Data Science job in SG by location')\n",
    "plt.xlabel('Area')\n",
    "plt.ylabel('Avg Salary $')\n",
    "plt.legend(loc='best');"
   ]
  },
  {
   "cell_type": "code",
   "execution_count": 42,
   "metadata": {
    "scrolled": true
   },
   "outputs": [
    {
     "data": {
      "image/png": "[encoded data removed]",
      "text/plain": [
       "<Figure size 432x288 with 1 Axes>"
      ]
     },
     "metadata": {
      "needs_background": "light"
     },
     "output_type": "display_data"
    }
   ],
   "source": [
    "# IT requires data science the most, followed by banks, engineering, R&D , consulting\n",
    "\n",
    "df_eda['category_clean'].value_counts()[:10].plot(kind='barh')\n",
    "plt.title('Data Science job in SG based on industry')\n",
    "plt.xlabel('# of jobs')\n",
    "plt.ylabel('Industry');"
   ]
  },
  {
   "cell_type": "code",
   "execution_count": 43,
   "metadata": {},
   "outputs": [
    {
     "data": {
      "image/png": "[encoded data removed]",
      "text/plain": [
       "<Figure size 864x576 with 1 Axes>"
      ]
     },
     "metadata": {
      "needs_background": "light"
     },
     "output_type": "display_data"
    }
   ],
   "source": [
    "#for contract , business and data analyst is higher\n",
    "#for permanent , data engineer and data scientist is higher \n",
    "\n",
    "df_eda.groupby(['employment_type','title_clean'])['salary_mean'].median().unstack(1).plot(kind='bar',figsize=(12, 8))\n",
    "plt.title('Average salary of Data Science job in SG by employment type')\n",
    "plt.xlabel('Employment Type')\n",
    "plt.ylabel('Avg Salary $')\n",
    "plt.legend(loc='best');"
   ]
  },
  {
   "cell_type": "code",
   "execution_count": 44,
   "metadata": {},
   "outputs": [
    {
     "data": {
      "text/html": [
       "<div>\n",
       "<style scoped>\n",
       "    .dataframe tbody tr th:only-of-type {\n",
       "        vertical-align: middle;\n",
       "    }\n",
       "\n",
       "    .dataframe tbody tr th {\n",
       "        vertical-align: top;\n",
       "    }\n",
       "\n",
       "    .dataframe thead th {\n",
       "        text-align: right;\n",
       "    }\n",
       "</style>\n",
       "<table border=\"1\" class=\"dataframe\">\n",
       "  <thead>\n",
       "    <tr style=\"text-align: right;\">\n",
       "      <th></th>\n",
       "      <th>company</th>\n",
       "      <th>title</th>\n",
       "      <th>location</th>\n",
       "      <th>employment_type</th>\n",
       "      <th>category</th>\n",
       "      <th>exp</th>\n",
       "      <th>clean_role</th>\n",
       "      <th>clean_req</th>\n",
       "      <th>skills</th>\n",
       "      <th>title_clean</th>\n",
       "      <th>salary_mean</th>\n",
       "      <th>category_clean</th>\n",
       "      <th>loc_clean</th>\n",
       "    </tr>\n",
       "  </thead>\n",
       "  <tbody>\n",
       "    <tr>\n",
       "      <th>1425</th>\n",
       "      <td>AD ASTRA CONSULTANTS PRIVATE LTD.</td>\n",
       "      <td>research analyst</td>\n",
       "      <td>THE OCTAGON, 105 CECIL STREET 069534</td>\n",
       "      <td>temporary</td>\n",
       "      <td>Sales / Retail</td>\n",
       "      <td>5</td>\n",
       "      <td>5+ years experience in Market Research or cons...</td>\n",
       "      <td>Requirements Experience working in retail/ con...</td>\n",
       "      <td>Algorithms,Biochemistry,Biotechnology,C++,Cell...</td>\n",
       "      <td>data scientist</td>\n",
       "      <td>9506.25</td>\n",
       "      <td>Sales / Retail</td>\n",
       "      <td>CENTRAL</td>\n",
       "    </tr>\n",
       "  </tbody>\n",
       "</table>\n",
       "</div>"
      ],
      "text/plain": [
       "                                company             title  \\\n",
       "1425  AD ASTRA CONSULTANTS PRIVATE LTD.  research analyst   \n",
       "\n",
       "                                  location employment_type         category  \\\n",
       "1425  THE OCTAGON, 105 CECIL STREET 069534       temporary  Sales / Retail    \n",
       "\n",
       "      exp                                         clean_role  \\\n",
       "1425    5  5+ years experience in Market Research or cons...   \n",
       "\n",
       "                                              clean_req  \\\n",
       "1425  Requirements Experience working in retail/ con...   \n",
       "\n",
       "                                                 skills     title_clean  \\\n",
       "1425  Algorithms,Biochemistry,Biotechnology,C++,Cell...  data scientist   \n",
       "\n",
       "      salary_mean   category_clean loc_clean  \n",
       "1425      9506.25  Sales / Retail    CENTRAL  "
      ]
     },
     "execution_count": 44,
     "metadata": {},
     "output_type": "execute_result"
    }
   ],
   "source": [
    "# the outlier of the temporary job is high is because it's a data scientist ( temporary consultant job)\n",
    "df_eda[df_eda.employment_type=='temporary']"
   ]
  },
  {
   "cell_type": "code",
   "execution_count": 45,
   "metadata": {},
   "outputs": [
    {
     "data": {
      "text/html": [
       "<div>\n",
       "<style scoped>\n",
       "    .dataframe tbody tr th:only-of-type {\n",
       "        vertical-align: middle;\n",
       "    }\n",
       "\n",
       "    .dataframe tbody tr th {\n",
       "        vertical-align: top;\n",
       "    }\n",
       "\n",
       "    .dataframe thead th {\n",
       "        text-align: right;\n",
       "    }\n",
       "</style>\n",
       "<table border=\"1\" class=\"dataframe\">\n",
       "  <thead>\n",
       "    <tr style=\"text-align: right;\">\n",
       "      <th></th>\n",
       "      <th>exp</th>\n",
       "      <th>salary_mean</th>\n",
       "    </tr>\n",
       "  </thead>\n",
       "  <tbody>\n",
       "    <tr>\n",
       "      <th>exp</th>\n",
       "      <td>1.000000</td>\n",
       "      <td>0.049161</td>\n",
       "    </tr>\n",
       "    <tr>\n",
       "      <th>salary_mean</th>\n",
       "      <td>0.049161</td>\n",
       "      <td>1.000000</td>\n",
       "    </tr>\n",
       "  </tbody>\n",
       "</table>\n",
       "</div>"
      ],
      "text/plain": [
       "                  exp  salary_mean\n",
       "exp          1.000000     0.049161\n",
       "salary_mean  0.049161     1.000000"
      ]
     },
     "execution_count": 45,
     "metadata": {},
     "output_type": "execute_result"
    }
   ],
   "source": [
    "#the exp is moderately corelatted to salary_mean\n",
    "df_eda.corr()"
   ]
  },
  {
   "cell_type": "markdown",
   "metadata": {},
   "source": [
    "# Modelling"
   ]
  },
  {
   "cell_type": "code",
   "execution_count": 46,
   "metadata": {
    "scrolled": false
   },
   "outputs": [],
   "source": [
    "#remove some of the default text before combining\n",
    "\n",
    "df_eda['clean_role']=df_eda.clean_role.str.replace('roles responsibilities','').str.lower()\n",
    "df_eda['clean_req']=df_eda.clean_req.str.replace('requirements','').str.lower()\n",
    "\n",
    "#combine all the job descriptions, roles and skills for nlp\n",
    "df_eda['nlp']=df_eda['clean_role']+df_eda['clean_req']+df_eda['skills']"
   ]
  },
  {
   "cell_type": "code",
   "execution_count": 47,
   "metadata": {},
   "outputs": [
    {
     "data": {
      "text/plain": [
       "(614, 5)"
      ]
     },
     "execution_count": 47,
     "metadata": {},
     "output_type": "execute_result"
    }
   ],
   "source": [
    "non_nlp=['employment_type','category_clean','loc_clean','title_clean','exp']\n",
    "df_eda[non_nlp].shape"
   ]
  },
  {
   "cell_type": "code",
   "execution_count": 48,
   "metadata": {
    "scrolled": false
   },
   "outputs": [],
   "source": [
    "#re-create new df for ML\n",
    "require =['employment_type','exp','nlp','title_clean', \n",
    "          'salary_mean','category_clean', 'loc_clean']\n",
    "ml=df_eda[require]"
   ]
  },
  {
   "cell_type": "code",
   "execution_count": 49,
   "metadata": {},
   "outputs": [
    {
     "name": "stdout",
     "output_type": "stream",
     "text": [
      "<class 'pandas.core.frame.DataFrame'>\n",
      "Int64Index: 614 entries, 1 to 2223\n",
      "Data columns (total 8 columns):\n",
      "employment_type    614 non-null object\n",
      "exp                614 non-null int64\n",
      "nlp                614 non-null object\n",
      "title_clean        614 non-null object\n",
      "salary_mean        614 non-null float64\n",
      "category_clean     614 non-null object\n",
      "loc_clean          614 non-null object\n",
      "y                  614 non-null int64\n",
      "dtypes: float64(1), int64(2), object(5)\n",
      "memory usage: 43.2+ KB\n"
     ]
    }
   ],
   "source": [
    "#to prepare for classification\n",
    "#encode 1 if more than median salary else 0\n",
    "\n",
    "ml['y']=ml.salary_mean.apply(lambda x : 1 if x > ml.salary_mean.median() else 0)\n",
    "\n",
    "#fillna with 0 so that CountVectorizer can be done\n",
    "ml.fillna(0,inplace=True)\n",
    "ml.info()"
   ]
  },
  {
   "cell_type": "code",
   "execution_count": 50,
   "metadata": {},
   "outputs": [],
   "source": [
    "#text preprocessing\n",
    "lemma = nltk.wordnet.WordNetLemmatizer()\n",
    "ml['nlp'] = ml['nlp'].apply(lambda x : str(x))\n",
    "ml['nlp'] = ml['nlp'].apply(lambda x : re.sub('\\W+',' ', x).lower()) #remove punctuations and lower text\n",
    "ml['nlp'] = ml['nlp'].apply(lambda x: \" \".join(x.split())) #remove additional spaces\n",
    "ml['nlp'] = ml['nlp'].apply(lambda x: lemma.lemmatize(x)) #lemmatize\n"
   ]
  },
  {
   "cell_type": "code",
   "execution_count": 51,
   "metadata": {},
   "outputs": [
    {
     "data": {
      "text/plain": [
       "'frontline team members who have to mix solid understanding of the business goals and directions with a wide range of technical skills produce detailed analysis for business immersed in the data on a day to day basis provide best insights into data quality and spark some of the best new ideas report on data quality skilled in a wide range of data modeling and data analytic tools experienced in etl and have a working knowledge of the big data ecosystem tool tableu power birequirements frontline team members who have to mix solid understanding of the business goals and directions with a wide range of technical skills produce detailed analysis for business immersed in the data on a day to day basis provide best insights into data quality and spark some of the best new ideas report on data quality skilled in a wide range of data modeling and data analytic tools experienced in etl and have a working knowledge of the big data ecosystem tool tableau power biactive directory cisco technologies data center disaster recovery firewalls integration network administration network engineering network security networking routers security servers switches tcp ip telecommunications troubleshooting vpn wan windows server'"
      ]
     },
     "execution_count": 51,
     "metadata": {},
     "output_type": "execute_result"
    }
   ],
   "source": [
    "#sample of processed text\n",
    "ml.nlp.values[2]"
   ]
  },
  {
   "cell_type": "code",
   "execution_count": 52,
   "metadata": {},
   "outputs": [],
   "source": [
    "from nltk.corpus import stopwords\n",
    "stop = stopwords.words('english')\n",
    "stop += ['http', 'https', 'rt']"
   ]
  },
  {
   "cell_type": "code",
   "execution_count": 53,
   "metadata": {},
   "outputs": [],
   "source": [
    "# So .. we'll use np.sum() to convert it directly from the sparse matrix!\n",
    "# This is enormously more memory-efficient ...\n",
    "#   It only requires one int per column since summing across columns is the total word count.\n",
    "\n",
    "def get_freq_words(sparse_counts, columns):\n",
    "    # X_all is a sparse matrix, so sum() returns a 'matrix' datatype ...\n",
    "    #   which we then convert into a 1-D ndarray for sorting\n",
    "    word_counts = np.asarray(X_all.sum(axis=0)).reshape(-1)\n",
    "\n",
    "    # argsort() returns smallest first, so we reverse the result\n",
    "    largest_count_indices = word_counts.argsort()[::-1]\n",
    "\n",
    "    # pretty-print the results! Remember to always ask whether they make sense ...\n",
    "    freq_words = pd.Series(word_counts[largest_count_indices], \n",
    "                           index=columns[largest_count_indices])\n",
    "\n",
    "    return freq_words"
   ]
  },
  {
   "cell_type": "code",
   "execution_count": 54,
   "metadata": {
    "scrolled": true
   },
   "outputs": [
    {
     "data": {
      "text/plain": [
       "business        3091\n",
       "management      2372\n",
       "data            2247\n",
       "experience      1920\n",
       "analysis        1446\n",
       "requirements    1314\n",
       "project         1232\n",
       "team            1047\n",
       "development      993\n",
       "process          970\n",
       "dtype: int64"
      ]
     },
     "execution_count": 54,
     "metadata": {},
     "output_type": "execute_result"
    }
   ],
   "source": [
    "#following are words that are most often used in the corpus\n",
    "cvt      =  CountVectorizer(stop_words=stop, ngram_range=(1,2))\n",
    "X_all    =  cvt.fit_transform(ml['nlp'])\n",
    "columns  =  np.array(cvt.get_feature_names())\n",
    "\n",
    "freq_words = get_freq_words(X_all, columns)\n",
    "\n",
    "freq_words[:10]"
   ]
  },
  {
   "cell_type": "code",
   "execution_count": 55,
   "metadata": {},
   "outputs": [],
   "source": [
    "#One Hot Encoding\n",
    "OHE_1=pd.get_dummies(ml.employment_type,drop_first=True)\n",
    "OHE_2=pd.get_dummies(ml.title_clean,drop_first=True)\n",
    "OHE_3=pd.get_dummies(ml.category_clean,drop_first=True)\n",
    "OHE_4=pd.get_dummies(ml.loc_clean,drop_first=True)\n",
    "\n",
    "#drop columns that are dummied and concat back to original ml df\n",
    "ml.drop(columns=['employment_type','title_clean','category_clean','loc_clean'],inplace=True)\n",
    "ml=pd.concat([ml,OHE_1,OHE_2,OHE_3,OHE_4],axis=1)"
   ]
  },
  {
   "cell_type": "markdown",
   "metadata": {},
   "source": [
    "# Question 1"
   ]
  },
  {
   "cell_type": "code",
   "execution_count": 56,
   "metadata": {},
   "outputs": [
    {
     "name": "stdout",
     "output_type": "stream",
     "text": [
      "baseline : 0.52\n"
     ]
    }
   ],
   "source": [
    "#Calculate baseline\n",
    "#we need to be better than this , (▀̿Ĺ̯▀̿ ̿) \n",
    "print('baseline : {}'.format((1-ml.y.sum()/len(ml.y)).round(2)))"
   ]
  },
  {
   "cell_type": "code",
   "execution_count": 57,
   "metadata": {},
   "outputs": [
    {
     "data": {
      "text/html": [
       "<div>\n",
       "<style scoped>\n",
       "    .dataframe tbody tr th:only-of-type {\n",
       "        vertical-align: middle;\n",
       "    }\n",
       "\n",
       "    .dataframe tbody tr th {\n",
       "        vertical-align: top;\n",
       "    }\n",
       "\n",
       "    .dataframe thead th {\n",
       "        text-align: right;\n",
       "    }\n",
       "</style>\n",
       "<table border=\"1\" class=\"dataframe\">\n",
       "  <thead>\n",
       "    <tr style=\"text-align: right;\">\n",
       "      <th></th>\n",
       "      <th>exp</th>\n",
       "      <th>nlp</th>\n",
       "      <th>salary_mean</th>\n",
       "      <th>y</th>\n",
       "      <th>permanent</th>\n",
       "      <th>temporary</th>\n",
       "      <th>data analyst</th>\n",
       "      <th>data engineer</th>\n",
       "      <th>data scientist</th>\n",
       "      <th>Admin / Secretarial</th>\n",
       "      <th>...</th>\n",
       "      <th>Marketing</th>\n",
       "      <th>Others</th>\n",
       "      <th>Professional Services</th>\n",
       "      <th>R&amp;D</th>\n",
       "      <th>Sales / Retail</th>\n",
       "      <th>Telecommunications</th>\n",
       "      <th>Travel</th>\n",
       "      <th>EAST</th>\n",
       "      <th>NORTH</th>\n",
       "      <th>WEST</th>\n",
       "    </tr>\n",
       "  </thead>\n",
       "  <tbody>\n",
       "    <tr>\n",
       "      <th>0</th>\n",
       "      <td>3</td>\n",
       "      <td>location outram salary up to 14 50 per hour re...</td>\n",
       "      <td>2050.00</td>\n",
       "      <td>0</td>\n",
       "      <td>0</td>\n",
       "      <td>0</td>\n",
       "      <td>1</td>\n",
       "      <td>0</td>\n",
       "      <td>0</td>\n",
       "      <td>1</td>\n",
       "      <td>...</td>\n",
       "      <td>0</td>\n",
       "      <td>0</td>\n",
       "      <td>0</td>\n",
       "      <td>0</td>\n",
       "      <td>0</td>\n",
       "      <td>0</td>\n",
       "      <td>0</td>\n",
       "      <td>0</td>\n",
       "      <td>0</td>\n",
       "      <td>0</td>\n",
       "    </tr>\n",
       "    <tr>\n",
       "      <th>1</th>\n",
       "      <td>3</td>\n",
       "      <td>sky premium international is looking for it ex...</td>\n",
       "      <td>3250.00</td>\n",
       "      <td>0</td>\n",
       "      <td>1</td>\n",
       "      <td>0</td>\n",
       "      <td>1</td>\n",
       "      <td>0</td>\n",
       "      <td>0</td>\n",
       "      <td>0</td>\n",
       "      <td>...</td>\n",
       "      <td>0</td>\n",
       "      <td>0</td>\n",
       "      <td>0</td>\n",
       "      <td>0</td>\n",
       "      <td>0</td>\n",
       "      <td>0</td>\n",
       "      <td>0</td>\n",
       "      <td>0</td>\n",
       "      <td>0</td>\n",
       "      <td>0</td>\n",
       "    </tr>\n",
       "    <tr>\n",
       "      <th>2</th>\n",
       "      <td>4</td>\n",
       "      <td>frontline team members who have to mix solid u...</td>\n",
       "      <td>6250.00</td>\n",
       "      <td>0</td>\n",
       "      <td>1</td>\n",
       "      <td>0</td>\n",
       "      <td>1</td>\n",
       "      <td>0</td>\n",
       "      <td>0</td>\n",
       "      <td>0</td>\n",
       "      <td>...</td>\n",
       "      <td>0</td>\n",
       "      <td>0</td>\n",
       "      <td>0</td>\n",
       "      <td>0</td>\n",
       "      <td>0</td>\n",
       "      <td>0</td>\n",
       "      <td>0</td>\n",
       "      <td>0</td>\n",
       "      <td>0</td>\n",
       "      <td>0</td>\n",
       "    </tr>\n",
       "    <tr>\n",
       "      <th>3</th>\n",
       "      <td>3</td>\n",
       "      <td>job description responsibilities provide strat...</td>\n",
       "      <td>6093.75</td>\n",
       "      <td>0</td>\n",
       "      <td>1</td>\n",
       "      <td>0</td>\n",
       "      <td>0</td>\n",
       "      <td>1</td>\n",
       "      <td>0</td>\n",
       "      <td>0</td>\n",
       "      <td>...</td>\n",
       "      <td>0</td>\n",
       "      <td>0</td>\n",
       "      <td>0</td>\n",
       "      <td>0</td>\n",
       "      <td>0</td>\n",
       "      <td>0</td>\n",
       "      <td>0</td>\n",
       "      <td>1</td>\n",
       "      <td>0</td>\n",
       "      <td>0</td>\n",
       "    </tr>\n",
       "    <tr>\n",
       "      <th>4</th>\n",
       "      <td>7</td>\n",
       "      <td>data analyst at traveloka is at the forefront ...</td>\n",
       "      <td>5950.00</td>\n",
       "      <td>0</td>\n",
       "      <td>1</td>\n",
       "      <td>0</td>\n",
       "      <td>1</td>\n",
       "      <td>0</td>\n",
       "      <td>0</td>\n",
       "      <td>0</td>\n",
       "      <td>...</td>\n",
       "      <td>0</td>\n",
       "      <td>0</td>\n",
       "      <td>0</td>\n",
       "      <td>0</td>\n",
       "      <td>0</td>\n",
       "      <td>0</td>\n",
       "      <td>0</td>\n",
       "      <td>0</td>\n",
       "      <td>1</td>\n",
       "      <td>0</td>\n",
       "    </tr>\n",
       "  </tbody>\n",
       "</table>\n",
       "<p>5 rows × 33 columns</p>\n",
       "</div>"
      ],
      "text/plain": [
       "   exp                                                nlp  salary_mean  y  \\\n",
       "0    3  location outram salary up to 14 50 per hour re...      2050.00  0   \n",
       "1    3  sky premium international is looking for it ex...      3250.00  0   \n",
       "2    4  frontline team members who have to mix solid u...      6250.00  0   \n",
       "3    3  job description responsibilities provide strat...      6093.75  0   \n",
       "4    7  data analyst at traveloka is at the forefront ...      5950.00  0   \n",
       "\n",
       "   permanent  temporary  data analyst  data engineer  data scientist  \\\n",
       "0          0          0             1              0               0   \n",
       "1          1          0             1              0               0   \n",
       "2          1          0             1              0               0   \n",
       "3          1          0             0              1               0   \n",
       "4          1          0             1              0               0   \n",
       "\n",
       "   Admin / Secretarial  ...  Marketing  Others  Professional Services  R&D  \\\n",
       "0                    1  ...          0       0                      0    0   \n",
       "1                    0  ...          0       0                      0    0   \n",
       "2                    0  ...          0       0                      0    0   \n",
       "3                    0  ...          0       0                      0    0   \n",
       "4                    0  ...          0       0                      0    0   \n",
       "\n",
       "   Sales / Retail   Telecommunications  Travel  EAST  NORTH  WEST  \n",
       "0                0                   0       0     0      0     0  \n",
       "1                0                   0       0     0      0     0  \n",
       "2                0                   0       0     0      0     0  \n",
       "3                0                   0       0     1      0     0  \n",
       "4                0                   0       0     0      1     0  \n",
       "\n",
       "[5 rows x 33 columns]"
      ]
     },
     "execution_count": 57,
     "metadata": {},
     "output_type": "execute_result"
    }
   ],
   "source": [
    "#reset index before modelling\n",
    "ml.reset_index(inplace=True)\n",
    "ml.drop(labels='index',inplace=True,axis=1)\n",
    "ml.head()"
   ]
  },
  {
   "cell_type": "code",
   "execution_count": 58,
   "metadata": {
    "scrolled": true
   },
   "outputs": [
    {
     "name": "stdout",
     "output_type": "stream",
     "text": [
      "cross val score : 0.63\n",
      "Logistic Regression: 0.68\n",
      "               precision    recall  f1-score   support\n",
      "\n",
      " lower salary       0.71      0.65      0.68        97\n",
      "higher salary       0.65      0.70      0.67        88\n",
      "\n",
      "    micro avg       0.68      0.68      0.68       185\n",
      "    macro avg       0.68      0.68      0.68       185\n",
      " weighted avg       0.68      0.68      0.68       185\n",
      "\n",
      "auc score : 0.68.\n"
     ]
    }
   ],
   "source": [
    "# Use logistic regression for the first model to get a sense of what we can make out of\n",
    "# inputs used are exp, dummified : employment_type, title, category,location\n",
    "\n",
    "X=ml.drop(columns=['salary_mean','y','nlp'])\n",
    "y=ml.y\n",
    "\n",
    "lr = LogisticRegression()\n",
    "\n",
    "print('cross val score : {}'.format(cross_val_score(lr, X, y, cv=5).mean().round(2)))\n",
    "\n",
    "X_train,X_test,y_train,y_test = train_test_split(X,y,test_size=0.3,random_state=1,stratify=y)\n",
    "lr.fit(X_train,y_train)\n",
    "y_pred = lr.predict(X_test)\n",
    "print(\"Logistic Regression: {}\".format(lr.score(X_test,y_test).round(2)))\n",
    "\n",
    "print(classification_report(y_test, y_pred, target_names=['lower salary', 'higher salary']))\n",
    "print('auc score : {}.'.format(roc_auc_score(y_test, y_pred).round(2)))\n"
   ]
  },
  {
   "cell_type": "code",
   "execution_count": 59,
   "metadata": {
    "scrolled": true
   },
   "outputs": [
    {
     "name": "stdout",
     "output_type": "stream",
     "text": [
      "cross-validation score: 0.67\n",
      "Logistic Regression: 0.724\n",
      "               precision    recall  f1-score   support\n",
      "\n",
      " lower salary       0.72      0.78      0.75        97\n",
      "higher salary       0.73      0.66      0.69        88\n",
      "\n",
      "    micro avg       0.72      0.72      0.72       185\n",
      "    macro avg       0.73      0.72      0.72       185\n",
      " weighted avg       0.73      0.72      0.72       185\n",
      "\n",
      "auc score : 0.72.\n"
     ]
    }
   ],
   "source": [
    "# Use Logistic Regression using the nlp columns ONLY\n",
    "# nlp columns = column combination of role, requirement and skills \n",
    "X=ml.nlp\n",
    "y=ml.y\n",
    "\n",
    "#Transform X to TF-IDF\n",
    "cvt = CountVectorizer(stop_words='english',ngram_range=(1, 2),min_df=2)\n",
    "X_cvt = cvt.fit_transform(X)\n",
    "tfidf=TfidfTransformer()\n",
    "X_tfidf=tfidf.fit_transform(X_cvt)\n",
    "X_tfidf=X_tfidf.todense()\n",
    "lr=LogisticRegression()\n",
    "\n",
    "#cross validation\n",
    "scores = cross_val_score(lr,X_tfidf, y, cv=5)\n",
    "print('cross-validation score: {}'.format(round(np.mean(scores),2), round(np.std(scores),2)))\n",
    "\n",
    "X_train,X_test,y_train,y_test = train_test_split(X_tfidf,y,test_size=0.3,random_state=1,stratify=y)\n",
    "lr.fit(X_train,y_train)\n",
    "y_pred = lr.predict(X_test)\n",
    "print(\"Logistic Regression: {}\".format(lr.score(X_test,y_test).round(3)))\n",
    "\n",
    "print(classification_report(y_test, y_pred, target_names=['lower salary', 'higher salary']))\n",
    "print('auc score : {}.'.format(roc_auc_score(y_test, y_pred).round(2)))"
   ]
  },
  {
   "cell_type": "code",
   "execution_count": 60,
   "metadata": {
    "scrolled": true
   },
   "outputs": [
    {
     "data": {
      "text/html": [
       "<div>\n",
       "<style scoped>\n",
       "    .dataframe tbody tr th:only-of-type {\n",
       "        vertical-align: middle;\n",
       "    }\n",
       "\n",
       "    .dataframe tbody tr th {\n",
       "        vertical-align: top;\n",
       "    }\n",
       "\n",
       "    .dataframe thead th {\n",
       "        text-align: right;\n",
       "    }\n",
       "</style>\n",
       "<table border=\"1\" class=\"dataframe\">\n",
       "  <thead>\n",
       "    <tr style=\"text-align: right;\">\n",
       "      <th></th>\n",
       "      <th>0</th>\n",
       "    </tr>\n",
       "  </thead>\n",
       "  <tbody>\n",
       "    <tr>\n",
       "      <th>architecture</th>\n",
       "      <td>0.869961</td>\n",
       "    </tr>\n",
       "    <tr>\n",
       "      <th>experience</th>\n",
       "      <td>0.755023</td>\n",
       "    </tr>\n",
       "    <tr>\n",
       "      <th>banking</th>\n",
       "      <td>0.719437</td>\n",
       "    </tr>\n",
       "    <tr>\n",
       "      <th>solutions</th>\n",
       "      <td>0.555327</td>\n",
       "    </tr>\n",
       "    <tr>\n",
       "      <th>enterprise</th>\n",
       "      <td>0.537744</td>\n",
       "    </tr>\n",
       "    <tr>\n",
       "      <th>lead</th>\n",
       "      <td>0.486621</td>\n",
       "    </tr>\n",
       "    <tr>\n",
       "      <th>management</th>\n",
       "      <td>0.435577</td>\n",
       "    </tr>\n",
       "    <tr>\n",
       "      <th>quantitative</th>\n",
       "      <td>0.427586</td>\n",
       "    </tr>\n",
       "    <tr>\n",
       "      <th>ability</th>\n",
       "      <td>0.418077</td>\n",
       "    </tr>\n",
       "    <tr>\n",
       "      <th>solution</th>\n",
       "      <td>0.388789</td>\n",
       "    </tr>\n",
       "  </tbody>\n",
       "</table>\n",
       "</div>"
      ],
      "text/plain": [
       "                     0\n",
       "architecture  0.869961\n",
       "experience    0.755023\n",
       "banking       0.719437\n",
       "solutions     0.555327\n",
       "enterprise    0.537744\n",
       "lead          0.486621\n",
       "management    0.435577\n",
       "quantitative  0.427586\n",
       "ability       0.418077\n",
       "solution      0.388789"
      ]
     },
     "execution_count": 60,
     "metadata": {},
     "output_type": "execute_result"
    }
   ],
   "source": [
    "coef=pd.DataFrame(lr.coef_,columns=[cvt.get_feature_names()]).transpose()\n",
    "coef.sort_values(by=0,ascending=False).head(10)"
   ]
  },
  {
   "cell_type": "code",
   "execution_count": 61,
   "metadata": {},
   "outputs": [
    {
     "data": {
      "text/html": [
       "<div>\n",
       "<style scoped>\n",
       "    .dataframe tbody tr th:only-of-type {\n",
       "        vertical-align: middle;\n",
       "    }\n",
       "\n",
       "    .dataframe tbody tr th {\n",
       "        vertical-align: top;\n",
       "    }\n",
       "\n",
       "    .dataframe thead th {\n",
       "        text-align: right;\n",
       "    }\n",
       "</style>\n",
       "<table border=\"1\" class=\"dataframe\">\n",
       "  <thead>\n",
       "    <tr style=\"text-align: right;\">\n",
       "      <th></th>\n",
       "      <th>0</th>\n",
       "    </tr>\n",
       "  </thead>\n",
       "  <tbody>\n",
       "    <tr>\n",
       "      <th>university</th>\n",
       "      <td>-0.357640</td>\n",
       "    </tr>\n",
       "    <tr>\n",
       "      <th>campaign</th>\n",
       "      <td>-0.360017</td>\n",
       "    </tr>\n",
       "    <tr>\n",
       "      <th>school</th>\n",
       "      <td>-0.364460</td>\n",
       "    </tr>\n",
       "    <tr>\n",
       "      <th>network</th>\n",
       "      <td>-0.366660</td>\n",
       "    </tr>\n",
       "    <tr>\n",
       "      <th>diploma</th>\n",
       "      <td>-0.374336</td>\n",
       "    </tr>\n",
       "    <tr>\n",
       "      <th>needs</th>\n",
       "      <td>-0.416825</td>\n",
       "    </tr>\n",
       "    <tr>\n",
       "      <th>detection</th>\n",
       "      <td>-0.434993</td>\n",
       "    </tr>\n",
       "    <tr>\n",
       "      <th>sales</th>\n",
       "      <td>-0.438383</td>\n",
       "    </tr>\n",
       "    <tr>\n",
       "      <th>engineering</th>\n",
       "      <td>-0.445588</td>\n",
       "    </tr>\n",
       "    <tr>\n",
       "      <th>security</th>\n",
       "      <td>-0.453569</td>\n",
       "    </tr>\n",
       "  </tbody>\n",
       "</table>\n",
       "</div>"
      ],
      "text/plain": [
       "                    0\n",
       "university  -0.357640\n",
       "campaign    -0.360017\n",
       "school      -0.364460\n",
       "network     -0.366660\n",
       "diploma     -0.374336\n",
       "needs       -0.416825\n",
       "detection   -0.434993\n",
       "sales       -0.438383\n",
       "engineering -0.445588\n",
       "security    -0.453569"
      ]
     },
     "execution_count": 61,
     "metadata": {},
     "output_type": "execute_result"
    }
   ],
   "source": [
    "coef.sort_values(by=0,ascending=False).tail(10)"
   ]
  },
  {
   "cell_type": "code",
   "execution_count": 62,
   "metadata": {},
   "outputs": [
    {
     "name": "stdout",
     "output_type": "stream",
     "text": [
      "cross-validation score: 0.67\n",
      "Random Forest: 0.714\n",
      "               precision    recall  f1-score   support\n",
      "\n",
      " lower salary       0.70      0.78      0.74        97\n",
      "higher salary       0.73      0.64      0.68        88\n",
      "\n",
      "    micro avg       0.71      0.71      0.71       185\n",
      "    macro avg       0.72      0.71      0.71       185\n",
      " weighted avg       0.71      0.71      0.71       185\n",
      "\n",
      "auc score : 0.71.\n"
     ]
    }
   ],
   "source": [
    "# Use Random Forests using the nlp columns ONLY\n",
    "\n",
    "rf_nlp = RandomForestClassifier(n_estimators = 100, n_jobs = -1,random_state = 1)\n",
    "\n",
    "#cross validation\n",
    "scores = cross_val_score(rf_nlp,X_tfidf, y, cv=5,)\n",
    "print('cross-validation score: {}'.format(round(np.mean(scores),2), round(np.std(scores),2)))\n",
    "\n",
    "X_train,X_test,y_train,y_test = train_test_split(X_tfidf,y,test_size=0.3,random_state=1,stratify=y)\n",
    "rf_nlp.fit(X_train,y_train)\n",
    "y_pred = rf_nlp.predict(X_test)\n",
    "print(\"Random Forest: {}\".format(rf_nlp.score(X_test,y_test).round(3)))\n",
    "\n",
    "print(classification_report(y_test, y_pred, target_names=['lower salary', 'higher salary']))\n",
    "print('auc score : {}.'.format(roc_auc_score(y_test, y_pred).round(2)))"
   ]
  },
  {
   "cell_type": "code",
   "execution_count": 63,
   "metadata": {
    "scrolled": true
   },
   "outputs": [
    {
     "name": "stdout",
     "output_type": "stream",
     "text": [
      "cross-validation score: 0.63\n",
      "Logistic Regression: 0.68\n",
      "               precision    recall  f1-score   support\n",
      "\n",
      " lower salary       0.71      0.64      0.67        97\n",
      "higher salary       0.64      0.72      0.68        88\n",
      "\n",
      "    micro avg       0.68      0.68      0.68       185\n",
      "    macro avg       0.68      0.68      0.68       185\n",
      " weighted avg       0.68      0.68      0.68       185\n",
      "\n",
      "auc score : 0.68.\n"
     ]
    }
   ],
   "source": [
    "#Prepare df by combining relevant columns\n",
    "# Use logistic regression on NLP and the the columns that we use at base ML\n",
    "\n",
    "tfidf_pd=pd.DataFrame(X_tfidf,columns=cvt.get_feature_names())\n",
    "\n",
    "#StandardScale the exp column to concat\n",
    "ss=StandardScaler()\n",
    "exp= df_eda['exp'].values\n",
    "exp = np.array(exp).reshape(-1,1)\n",
    "exp = ss.fit_transform(exp)\n",
    "exp=pd.DataFrame(exp,columns=['exp'])\n",
    "\n",
    "#sync the df index as some newly created df is not the same\n",
    "tfidf_pd.index = OHE_1.index\n",
    "exp.index = OHE_1.index\n",
    "\n",
    "#concat all the columns\n",
    "df_combined = pd.concat([exp,OHE_1,OHE_2,OHE_3,tfidf_pd],axis=1)\n",
    "\n",
    "\n",
    "X=df_combined.values\n",
    "y=ml.y\n",
    "\n",
    "lr_combined=LogisticRegression()\n",
    "\n",
    "#cross validation\n",
    "scores = cross_val_score(lr,X, y, cv=5)\n",
    "print('cross-validation score: {}'.format(round(np.mean(scores),2), round(np.std(scores),2)))\n",
    "\n",
    "X_train,X_test,y_train,y_test = train_test_split(X,y,test_size=0.3,random_state=1,stratify=y)\n",
    "lr_combined.fit(X_train,y_train)\n",
    "y_pred = lr_combined.predict(X_test)\n",
    "print(\"Logistic Regression: {}\".format(lr_combined.score(X_test,y_test).round(2)))\n",
    "\n",
    "print(classification_report(y_test, y_pred, target_names=['lower salary', 'higher salary']))\n",
    "print('auc score : {}.'.format(roc_auc_score(y_test, y_pred).round(2)))"
   ]
  },
  {
   "cell_type": "code",
   "execution_count": 64,
   "metadata": {
    "scrolled": true
   },
   "outputs": [
    {
     "name": "stdout",
     "output_type": "stream",
     "text": [
      "cross-validation score: 0.64\n",
      "Naive bayes: 0.65\n",
      "               precision    recall  f1-score   support\n",
      "\n",
      " lower salary       0.68      0.65      0.66        97\n",
      "higher salary       0.63      0.66      0.64        88\n",
      "\n",
      "    micro avg       0.65      0.65      0.65       185\n",
      "    macro avg       0.65      0.65      0.65       185\n",
      " weighted avg       0.66      0.65      0.65       185\n",
      "\n",
      "auc score : 0.65.\n"
     ]
    }
   ],
   "source": [
    "# Use Naive Bayes on NLP and the the columns that we use at base ML\n",
    "\n",
    "#MinMaxScaler the exp column to concat. MultinomialNB() doesn't accept -ve\n",
    "mm=MinMaxScaler()\n",
    "exp= df_eda['exp'].values\n",
    "exp = np.array(exp).reshape(-1,1)\n",
    "exp = mm.fit_transform(exp)\n",
    "df_combined['exp']=exp\n",
    "\n",
    "X=df_combined.values\n",
    "y=ml.y\n",
    "\n",
    "mnb = MultinomialNB()\n",
    "\n",
    "#cross validation\n",
    "scores = cross_val_score(mnb,X, y, cv=5)\n",
    "print('cross-validation score: {}'.format(round(np.mean(scores),2), round(np.std(scores),2)))\n",
    "\n",
    "X_train,X_test,y_train,y_test = train_test_split(X,y,test_size=0.3,random_state=1,stratify=y)\n",
    "mnb.fit(X_train,y_train)\n",
    "y_pred = mnb.predict(X_test)\n",
    "print(\"Naive bayes: {}\".format(mnb.score(X_test,y_test).round(2)))\n",
    "\n",
    "print(classification_report(y_test, y_pred, target_names=['lower salary', 'higher salary']))\n",
    "print('auc score : {}.'.format(roc_auc_score(y_test, y_pred).round(2)))"
   ]
  },
  {
   "cell_type": "code",
   "execution_count": 65,
   "metadata": {},
   "outputs": [
    {
     "name": "stdout",
     "output_type": "stream",
     "text": [
      "cross-validation score: 0.63\n",
      "Logistic Regression: 0.724\n",
      "               precision    recall  f1-score   support\n",
      "\n",
      " lower salary       0.72      0.78      0.75        97\n",
      "higher salary       0.73      0.66      0.69        88\n",
      "\n",
      "    micro avg       0.72      0.72      0.72       185\n",
      "    macro avg       0.73      0.72      0.72       185\n",
      " weighted avg       0.73      0.72      0.72       185\n",
      "\n",
      "auc score : 0.72.\n"
     ]
    }
   ],
   "source": [
    "# Use Logistic Regression using the nlp columns + experience + employment_type\n",
    "# nlp columns = column combination of role, requirement and skills and exp \n",
    "# OHE_1 ( employment_type)\n",
    "# OHE_2 (title )\n",
    "\n",
    "#StandardScale the exp column to concat\n",
    "ss=StandardScaler()\n",
    "exp= df_eda['exp'].values\n",
    "exp = np.array(exp).reshape(-1,1)\n",
    "exp = ss.fit_transform(exp)\n",
    "exp=pd.DataFrame(exp,columns=['exp'])\n",
    "tfidf_pd.index = tfidf_pd.index\n",
    "\n",
    "df_exp_NLP = pd.concat([exp,OHE_1.reset_index(),tfidf_pd.reset_index()],axis=1)\n",
    "\n",
    "X=df_exp_NLP.values\n",
    "y=ml.y\n",
    "\n",
    "lr_nlp_exp=LogisticRegression()\n",
    "\n",
    "#cross validation\n",
    "scores = cross_val_score(lr_nlp_exp,X, y, cv=5)\n",
    "print('cross-validation score: {}'.format(round(np.mean(scores),2), round(np.std(scores),2)))\n",
    "\n",
    "X_train,X_test,y_train,y_test = train_test_split(X_tfidf,y,test_size=0.3,random_state=1,stratify=y)\n",
    "lr_nlp_exp.fit(X_train,y_train)\n",
    "y_pred = lr_nlp_exp.predict(X_test)\n",
    "print(\"Logistic Regression: {}\".format(lr_nlp_exp.score(X_test,y_test).round(3)))\n",
    "\n",
    "print(classification_report(y_test, y_pred, target_names=['lower salary', 'higher salary']))\n",
    "print('auc score : {}.'.format(roc_auc_score(y_test, y_pred).round(2)))"
   ]
  },
  {
   "cell_type": "code",
   "execution_count": 66,
   "metadata": {
    "scrolled": true
   },
   "outputs": [
    {
     "name": "stdout",
     "output_type": "stream",
     "text": [
      "Fitting 3 folds for each of 100 candidates, totalling 300 fits\n"
     ]
    },
    {
     "name": "stderr",
     "output_type": "stream",
     "text": [
      "[Parallel(n_jobs=-1)]: Using backend LokyBackend with 8 concurrent workers.\n"
     ]
    },
    {
     "ename": "KeyboardInterrupt",
     "evalue": "",
     "output_type": "error",
     "traceback": [
      "\u001b[1;31m---------------------------------------------------------------------------\u001b[0m",
      "\u001b[1;31mKeyboardInterrupt\u001b[0m                         Traceback (most recent call last)",
      "\u001b[1;32m<ipython-input-66-a99bda9ff1d4>\u001b[0m in \u001b[0;36m<module>\u001b[1;34m\u001b[0m\n\u001b[0;32m     36\u001b[0m \u001b[0mrf_random\u001b[0m \u001b[1;33m=\u001b[0m \u001b[0mRandomizedSearchCV\u001b[0m\u001b[1;33m(\u001b[0m\u001b[0mestimator\u001b[0m \u001b[1;33m=\u001b[0m \u001b[0mrf\u001b[0m\u001b[1;33m,\u001b[0m \u001b[0mparam_distributions\u001b[0m \u001b[1;33m=\u001b[0m \u001b[0mrandom_grid\u001b[0m\u001b[1;33m,\u001b[0m \u001b[0mn_iter\u001b[0m \u001b[1;33m=\u001b[0m \u001b[1;36m100\u001b[0m\u001b[1;33m,\u001b[0m \u001b[0mcv\u001b[0m \u001b[1;33m=\u001b[0m \u001b[1;36m3\u001b[0m\u001b[1;33m,\u001b[0m \u001b[0mverbose\u001b[0m\u001b[1;33m=\u001b[0m\u001b[1;36m2\u001b[0m\u001b[1;33m,\u001b[0m \u001b[0mrandom_state\u001b[0m\u001b[1;33m=\u001b[0m\u001b[1;36m42\u001b[0m\u001b[1;33m,\u001b[0m \u001b[0mn_jobs\u001b[0m \u001b[1;33m=\u001b[0m \u001b[1;33m-\u001b[0m\u001b[1;36m1\u001b[0m\u001b[1;33m)\u001b[0m\u001b[1;33m\u001b[0m\u001b[1;33m\u001b[0m\u001b[0m\n\u001b[0;32m     37\u001b[0m \u001b[1;31m# Fit the random search model\u001b[0m\u001b[1;33m\u001b[0m\u001b[1;33m\u001b[0m\u001b[1;33m\u001b[0m\u001b[0m\n\u001b[1;32m---> 38\u001b[1;33m \u001b[0mrf_random\u001b[0m\u001b[1;33m.\u001b[0m\u001b[0mfit\u001b[0m\u001b[1;33m(\u001b[0m\u001b[0mX\u001b[0m\u001b[1;33m,\u001b[0m \u001b[0my\u001b[0m\u001b[1;33m)\u001b[0m\u001b[1;33m\u001b[0m\u001b[1;33m\u001b[0m\u001b[0m\n\u001b[0m",
      "\u001b[1;32m~\\Anaconda3\\lib\\site-packages\\sklearn\\model_selection\\_search.py\u001b[0m in \u001b[0;36mfit\u001b[1;34m(self, X, y, groups, **fit_params)\u001b[0m\n\u001b[0;32m    720\u001b[0m                 \u001b[1;32mreturn\u001b[0m \u001b[0mresults_container\u001b[0m\u001b[1;33m[\u001b[0m\u001b[1;36m0\u001b[0m\u001b[1;33m]\u001b[0m\u001b[1;33m\u001b[0m\u001b[1;33m\u001b[0m\u001b[0m\n\u001b[0;32m    721\u001b[0m \u001b[1;33m\u001b[0m\u001b[0m\n\u001b[1;32m--> 722\u001b[1;33m             \u001b[0mself\u001b[0m\u001b[1;33m.\u001b[0m\u001b[0m_run_search\u001b[0m\u001b[1;33m(\u001b[0m\u001b[0mevaluate_candidates\u001b[0m\u001b[1;33m)\u001b[0m\u001b[1;33m\u001b[0m\u001b[1;33m\u001b[0m\u001b[0m\n\u001b[0m\u001b[0;32m    723\u001b[0m \u001b[1;33m\u001b[0m\u001b[0m\n\u001b[0;32m    724\u001b[0m         \u001b[0mresults\u001b[0m \u001b[1;33m=\u001b[0m \u001b[0mresults_container\u001b[0m\u001b[1;33m[\u001b[0m\u001b[1;36m0\u001b[0m\u001b[1;33m]\u001b[0m\u001b[1;33m\u001b[0m\u001b[1;33m\u001b[0m\u001b[0m\n",
      "\u001b[1;32m~\\Anaconda3\\lib\\site-packages\\sklearn\\model_selection\\_search.py\u001b[0m in \u001b[0;36m_run_search\u001b[1;34m(self, evaluate_candidates)\u001b[0m\n\u001b[0;32m   1513\u001b[0m         evaluate_candidates(ParameterSampler(\n\u001b[0;32m   1514\u001b[0m             \u001b[0mself\u001b[0m\u001b[1;33m.\u001b[0m\u001b[0mparam_distributions\u001b[0m\u001b[1;33m,\u001b[0m \u001b[0mself\u001b[0m\u001b[1;33m.\u001b[0m\u001b[0mn_iter\u001b[0m\u001b[1;33m,\u001b[0m\u001b[1;33m\u001b[0m\u001b[1;33m\u001b[0m\u001b[0m\n\u001b[1;32m-> 1515\u001b[1;33m             random_state=self.random_state))\n\u001b[0m",
      "\u001b[1;32m~\\Anaconda3\\lib\\site-packages\\sklearn\\model_selection\\_search.py\u001b[0m in \u001b[0;36mevaluate_candidates\u001b[1;34m(candidate_params)\u001b[0m\n\u001b[0;32m    709\u001b[0m                                \u001b[1;32mfor\u001b[0m \u001b[0mparameters\u001b[0m\u001b[1;33m,\u001b[0m \u001b[1;33m(\u001b[0m\u001b[0mtrain\u001b[0m\u001b[1;33m,\u001b[0m \u001b[0mtest\u001b[0m\u001b[1;33m)\u001b[0m\u001b[1;33m\u001b[0m\u001b[1;33m\u001b[0m\u001b[0m\n\u001b[0;32m    710\u001b[0m                                in product(candidate_params,\n\u001b[1;32m--> 711\u001b[1;33m                                           cv.split(X, y, groups)))\n\u001b[0m\u001b[0;32m    712\u001b[0m \u001b[1;33m\u001b[0m\u001b[0m\n\u001b[0;32m    713\u001b[0m                 \u001b[0mall_candidate_params\u001b[0m\u001b[1;33m.\u001b[0m\u001b[0mextend\u001b[0m\u001b[1;33m(\u001b[0m\u001b[0mcandidate_params\u001b[0m\u001b[1;33m)\u001b[0m\u001b[1;33m\u001b[0m\u001b[1;33m\u001b[0m\u001b[0m\n",
      "\u001b[1;32m~\\Anaconda3\\lib\\site-packages\\sklearn\\externals\\joblib\\parallel.py\u001b[0m in \u001b[0;36m__call__\u001b[1;34m(self, iterable)\u001b[0m\n\u001b[0;32m    928\u001b[0m \u001b[1;33m\u001b[0m\u001b[0m\n\u001b[0;32m    929\u001b[0m             \u001b[1;32mwith\u001b[0m \u001b[0mself\u001b[0m\u001b[1;33m.\u001b[0m\u001b[0m_backend\u001b[0m\u001b[1;33m.\u001b[0m\u001b[0mretrieval_context\u001b[0m\u001b[1;33m(\u001b[0m\u001b[1;33m)\u001b[0m\u001b[1;33m:\u001b[0m\u001b[1;33m\u001b[0m\u001b[1;33m\u001b[0m\u001b[0m\n\u001b[1;32m--> 930\u001b[1;33m                 \u001b[0mself\u001b[0m\u001b[1;33m.\u001b[0m\u001b[0mretrieve\u001b[0m\u001b[1;33m(\u001b[0m\u001b[1;33m)\u001b[0m\u001b[1;33m\u001b[0m\u001b[1;33m\u001b[0m\u001b[0m\n\u001b[0m\u001b[0;32m    931\u001b[0m             \u001b[1;31m# Make sure that we get a last message telling us we are done\u001b[0m\u001b[1;33m\u001b[0m\u001b[1;33m\u001b[0m\u001b[1;33m\u001b[0m\u001b[0m\n\u001b[0;32m    932\u001b[0m             \u001b[0melapsed_time\u001b[0m \u001b[1;33m=\u001b[0m \u001b[0mtime\u001b[0m\u001b[1;33m.\u001b[0m\u001b[0mtime\u001b[0m\u001b[1;33m(\u001b[0m\u001b[1;33m)\u001b[0m \u001b[1;33m-\u001b[0m \u001b[0mself\u001b[0m\u001b[1;33m.\u001b[0m\u001b[0m_start_time\u001b[0m\u001b[1;33m\u001b[0m\u001b[1;33m\u001b[0m\u001b[0m\n",
      "\u001b[1;32m~\\Anaconda3\\lib\\site-packages\\sklearn\\externals\\joblib\\parallel.py\u001b[0m in \u001b[0;36mretrieve\u001b[1;34m(self)\u001b[0m\n\u001b[0;32m    831\u001b[0m             \u001b[1;32mtry\u001b[0m\u001b[1;33m:\u001b[0m\u001b[1;33m\u001b[0m\u001b[1;33m\u001b[0m\u001b[0m\n\u001b[0;32m    832\u001b[0m                 \u001b[1;32mif\u001b[0m \u001b[0mgetattr\u001b[0m\u001b[1;33m(\u001b[0m\u001b[0mself\u001b[0m\u001b[1;33m.\u001b[0m\u001b[0m_backend\u001b[0m\u001b[1;33m,\u001b[0m \u001b[1;34m'supports_timeout'\u001b[0m\u001b[1;33m,\u001b[0m \u001b[1;32mFalse\u001b[0m\u001b[1;33m)\u001b[0m\u001b[1;33m:\u001b[0m\u001b[1;33m\u001b[0m\u001b[1;33m\u001b[0m\u001b[0m\n\u001b[1;32m--> 833\u001b[1;33m                     \u001b[0mself\u001b[0m\u001b[1;33m.\u001b[0m\u001b[0m_output\u001b[0m\u001b[1;33m.\u001b[0m\u001b[0mextend\u001b[0m\u001b[1;33m(\u001b[0m\u001b[0mjob\u001b[0m\u001b[1;33m.\u001b[0m\u001b[0mget\u001b[0m\u001b[1;33m(\u001b[0m\u001b[0mtimeout\u001b[0m\u001b[1;33m=\u001b[0m\u001b[0mself\u001b[0m\u001b[1;33m.\u001b[0m\u001b[0mtimeout\u001b[0m\u001b[1;33m)\u001b[0m\u001b[1;33m)\u001b[0m\u001b[1;33m\u001b[0m\u001b[1;33m\u001b[0m\u001b[0m\n\u001b[0m\u001b[0;32m    834\u001b[0m                 \u001b[1;32melse\u001b[0m\u001b[1;33m:\u001b[0m\u001b[1;33m\u001b[0m\u001b[1;33m\u001b[0m\u001b[0m\n\u001b[0;32m    835\u001b[0m                     \u001b[0mself\u001b[0m\u001b[1;33m.\u001b[0m\u001b[0m_output\u001b[0m\u001b[1;33m.\u001b[0m\u001b[0mextend\u001b[0m\u001b[1;33m(\u001b[0m\u001b[0mjob\u001b[0m\u001b[1;33m.\u001b[0m\u001b[0mget\u001b[0m\u001b[1;33m(\u001b[0m\u001b[1;33m)\u001b[0m\u001b[1;33m)\u001b[0m\u001b[1;33m\u001b[0m\u001b[1;33m\u001b[0m\u001b[0m\n",
      "\u001b[1;32m~\\Anaconda3\\lib\\site-packages\\sklearn\\externals\\joblib\\_parallel_backends.py\u001b[0m in \u001b[0;36mwrap_future_result\u001b[1;34m(future, timeout)\u001b[0m\n\u001b[0;32m    519\u001b[0m         AsyncResults.get from multiprocessing.\"\"\"\n\u001b[0;32m    520\u001b[0m         \u001b[1;32mtry\u001b[0m\u001b[1;33m:\u001b[0m\u001b[1;33m\u001b[0m\u001b[1;33m\u001b[0m\u001b[0m\n\u001b[1;32m--> 521\u001b[1;33m             \u001b[1;32mreturn\u001b[0m \u001b[0mfuture\u001b[0m\u001b[1;33m.\u001b[0m\u001b[0mresult\u001b[0m\u001b[1;33m(\u001b[0m\u001b[0mtimeout\u001b[0m\u001b[1;33m=\u001b[0m\u001b[0mtimeout\u001b[0m\u001b[1;33m)\u001b[0m\u001b[1;33m\u001b[0m\u001b[1;33m\u001b[0m\u001b[0m\n\u001b[0m\u001b[0;32m    522\u001b[0m         \u001b[1;32mexcept\u001b[0m \u001b[0mLokyTimeoutError\u001b[0m\u001b[1;33m:\u001b[0m\u001b[1;33m\u001b[0m\u001b[1;33m\u001b[0m\u001b[0m\n\u001b[0;32m    523\u001b[0m             \u001b[1;32mraise\u001b[0m \u001b[0mTimeoutError\u001b[0m\u001b[1;33m(\u001b[0m\u001b[1;33m)\u001b[0m\u001b[1;33m\u001b[0m\u001b[1;33m\u001b[0m\u001b[0m\n",
      "\u001b[1;32m~\\Anaconda3\\lib\\concurrent\\futures\\_base.py\u001b[0m in \u001b[0;36mresult\u001b[1;34m(self, timeout)\u001b[0m\n\u001b[0;32m    425\u001b[0m                 \u001b[1;32mreturn\u001b[0m \u001b[0mself\u001b[0m\u001b[1;33m.\u001b[0m\u001b[0m__get_result\u001b[0m\u001b[1;33m(\u001b[0m\u001b[1;33m)\u001b[0m\u001b[1;33m\u001b[0m\u001b[1;33m\u001b[0m\u001b[0m\n\u001b[0;32m    426\u001b[0m \u001b[1;33m\u001b[0m\u001b[0m\n\u001b[1;32m--> 427\u001b[1;33m             \u001b[0mself\u001b[0m\u001b[1;33m.\u001b[0m\u001b[0m_condition\u001b[0m\u001b[1;33m.\u001b[0m\u001b[0mwait\u001b[0m\u001b[1;33m(\u001b[0m\u001b[0mtimeout\u001b[0m\u001b[1;33m)\u001b[0m\u001b[1;33m\u001b[0m\u001b[1;33m\u001b[0m\u001b[0m\n\u001b[0m\u001b[0;32m    428\u001b[0m \u001b[1;33m\u001b[0m\u001b[0m\n\u001b[0;32m    429\u001b[0m             \u001b[1;32mif\u001b[0m \u001b[0mself\u001b[0m\u001b[1;33m.\u001b[0m\u001b[0m_state\u001b[0m \u001b[1;32min\u001b[0m \u001b[1;33m[\u001b[0m\u001b[0mCANCELLED\u001b[0m\u001b[1;33m,\u001b[0m \u001b[0mCANCELLED_AND_NOTIFIED\u001b[0m\u001b[1;33m]\u001b[0m\u001b[1;33m:\u001b[0m\u001b[1;33m\u001b[0m\u001b[1;33m\u001b[0m\u001b[0m\n",
      "\u001b[1;32m~\\Anaconda3\\lib\\threading.py\u001b[0m in \u001b[0;36mwait\u001b[1;34m(self, timeout)\u001b[0m\n\u001b[0;32m    294\u001b[0m         \u001b[1;32mtry\u001b[0m\u001b[1;33m:\u001b[0m    \u001b[1;31m# restore state no matter what (e.g., KeyboardInterrupt)\u001b[0m\u001b[1;33m\u001b[0m\u001b[1;33m\u001b[0m\u001b[0m\n\u001b[0;32m    295\u001b[0m             \u001b[1;32mif\u001b[0m \u001b[0mtimeout\u001b[0m \u001b[1;32mis\u001b[0m \u001b[1;32mNone\u001b[0m\u001b[1;33m:\u001b[0m\u001b[1;33m\u001b[0m\u001b[1;33m\u001b[0m\u001b[0m\n\u001b[1;32m--> 296\u001b[1;33m                 \u001b[0mwaiter\u001b[0m\u001b[1;33m.\u001b[0m\u001b[0macquire\u001b[0m\u001b[1;33m(\u001b[0m\u001b[1;33m)\u001b[0m\u001b[1;33m\u001b[0m\u001b[1;33m\u001b[0m\u001b[0m\n\u001b[0m\u001b[0;32m    297\u001b[0m                 \u001b[0mgotit\u001b[0m \u001b[1;33m=\u001b[0m \u001b[1;32mTrue\u001b[0m\u001b[1;33m\u001b[0m\u001b[1;33m\u001b[0m\u001b[0m\n\u001b[0;32m    298\u001b[0m             \u001b[1;32melse\u001b[0m\u001b[1;33m:\u001b[0m\u001b[1;33m\u001b[0m\u001b[1;33m\u001b[0m\u001b[0m\n",
      "\u001b[1;31mKeyboardInterrupt\u001b[0m: "
     ]
    }
   ],
   "source": [
    "#####################################################\n",
    "#                                                   #\n",
    "# I have pickled the model at './datasets/rf_random'#\n",
    "#                                                   #\n",
    "####################################################\n",
    "\n",
    "# Use RF on  all columns \n",
    "# using random grid search to optimize effiency\n",
    "\n",
    "# Number of trees in random forest\n",
    "n_estimators = [int(x) for x in np.linspace(start = 200, stop = 2000, num = 10)]\n",
    "# Number of features to consider at every split\n",
    "max_features = ['auto', 'sqrt']\n",
    "# Maximum number of levels in tree\n",
    "max_depth = [int(x) for x in np.linspace(10, 110, num = 11)]\n",
    "max_depth.append(None)\n",
    "# Minimum number of samples required to split a node\n",
    "min_samples_split = [2, 5, 10]\n",
    "# Minimum number of samples required at each leaf node\n",
    "min_samples_leaf = [1, 2, 4]\n",
    "# Method of selecting samples for training each tree\n",
    "bootstrap = [True, False]\n",
    "# Create the random grid\n",
    "random_grid = {'n_estimators': n_estimators,\n",
    "               'max_features': max_features,\n",
    "               'max_depth': max_depth,\n",
    "               'min_samples_split': min_samples_split,\n",
    "               'min_samples_leaf': min_samples_leaf,\n",
    "               'bootstrap': bootstrap}\n",
    "\n",
    "# Use the random grid to search for best hyperparameters\n",
    "# First create the base model to tune\n",
    "rf = RandomForestClassifier()\n",
    "# Random search of parameters, using 3 fold cross validation, \n",
    "# search across 100 different combinations, and use all available cores\n",
    "rf_random = RandomizedSearchCV(estimator = rf, param_distributions = random_grid, n_iter = 100, cv = 3, verbose=2, random_state=42, n_jobs = -1)\n",
    "# Fit the random search model\n",
    "rf_random.fit(X, y)"
   ]
  },
  {
   "cell_type": "code",
   "execution_count": 68,
   "metadata": {},
   "outputs": [
    {
     "data": {
      "text/plain": [
       "RandomForestClassifier(bootstrap=True, class_weight=None, criterion='gini',\n",
       "            max_depth=10, max_features='sqrt', max_leaf_nodes=None,\n",
       "            min_impurity_decrease=0.0, min_impurity_split=None,\n",
       "            min_samples_leaf=4, min_samples_split=2,\n",
       "            min_weight_fraction_leaf=0.0, n_estimators=400, n_jobs=None,\n",
       "            oob_score=False, random_state=None, verbose=0,\n",
       "            warm_start=False)"
      ]
     },
     "execution_count": 68,
     "metadata": {},
     "output_type": "execute_result"
    }
   ],
   "source": [
    "import pickle\n",
    "rf_random = pickle.load(open('./datasets/rf_random', 'rb'))\n",
    "#Obtain best estimator from Randomized SearchCV\n",
    "best_grid=rf_random.best_estimator_\n",
    "best_grid"
   ]
  },
  {
   "cell_type": "code",
   "execution_count": 69,
   "metadata": {},
   "outputs": [
    {
     "data": {
      "text/plain": [
       "{'n_estimators': 400,\n",
       " 'min_samples_split': 2,\n",
       " 'min_samples_leaf': 4,\n",
       " 'max_features': 'sqrt',\n",
       " 'max_depth': 10,\n",
       " 'bootstrap': True}"
      ]
     },
     "execution_count": 69,
     "metadata": {},
     "output_type": "execute_result"
    }
   ],
   "source": [
    "#Obtain best parameter for RF\n",
    "best_params = rf_random.best_params_\n",
    "best_params"
   ]
  },
  {
   "cell_type": "code",
   "execution_count": 70,
   "metadata": {},
   "outputs": [
    {
     "name": "stdout",
     "output_type": "stream",
     "text": [
      "0.69\n",
      "Random Forest: 0.74\n",
      "               precision    recall  f1-score   support\n",
      "\n",
      " lower salary       0.72      0.81      0.76        97\n",
      "higher salary       0.76      0.65      0.70        88\n",
      "\n",
      "    micro avg       0.74      0.74      0.74       185\n",
      "    macro avg       0.74      0.73      0.73       185\n",
      " weighted avg       0.74      0.74      0.73       185\n",
      "\n",
      "auc score : 0.73.\n"
     ]
    }
   ],
   "source": [
    "#Best Score for RF\n",
    "print(rf_random.best_score_.round(2)) \n",
    "\n",
    "X_train,X_test,y_train,y_test = train_test_split(X,y,test_size=0.3,random_state=1,stratify=y)\n",
    "best_grid.fit(X_train,y_train)\n",
    "y_pred = best_grid.predict(X_test)\n",
    "print(\"Random Forest: {}\".format(best_grid.score(X_test,y_test).round(2)))\n",
    "\n",
    "print(classification_report(y_test, y_pred, target_names=['lower salary', 'higher salary']))\n",
    "print('auc score : {}.'.format(roc_auc_score(y_test, y_pred).round(2)))"
   ]
  },
  {
   "cell_type": "code",
   "execution_count": 71,
   "metadata": {
    "scrolled": false
   },
   "outputs": [
    {
     "data": {
      "text/html": [
       "<div>\n",
       "<style scoped>\n",
       "    .dataframe tbody tr th:only-of-type {\n",
       "        vertical-align: middle;\n",
       "    }\n",
       "\n",
       "    .dataframe tbody tr th {\n",
       "        vertical-align: top;\n",
       "    }\n",
       "\n",
       "    .dataframe thead th {\n",
       "        text-align: right;\n",
       "    }\n",
       "</style>\n",
       "<table border=\"1\" class=\"dataframe\">\n",
       "  <thead>\n",
       "    <tr style=\"text-align: right;\">\n",
       "      <th></th>\n",
       "      <th>importance</th>\n",
       "    </tr>\n",
       "  </thead>\n",
       "  <tbody>\n",
       "    <tr>\n",
       "      <th>experience</th>\n",
       "      <td>0.006549</td>\n",
       "    </tr>\n",
       "    <tr>\n",
       "      <th>statistics teaching</th>\n",
       "      <td>0.005611</td>\n",
       "    </tr>\n",
       "    <tr>\n",
       "      <th>lead</th>\n",
       "      <td>0.005494</td>\n",
       "    </tr>\n",
       "    <tr>\n",
       "      <th>stakeholders</th>\n",
       "      <td>0.005332</td>\n",
       "    </tr>\n",
       "    <tr>\n",
       "      <th>solutions</th>\n",
       "      <td>0.005204</td>\n",
       "    </tr>\n",
       "    <tr>\n",
       "      <th>change</th>\n",
       "      <td>0.005135</td>\n",
       "    </tr>\n",
       "    <tr>\n",
       "      <th>banking</th>\n",
       "      <td>0.005044</td>\n",
       "    </tr>\n",
       "    <tr>\n",
       "      <th>teams</th>\n",
       "      <td>0.004927</td>\n",
       "    </tr>\n",
       "    <tr>\n",
       "      <th>deliver</th>\n",
       "      <td>0.004833</td>\n",
       "    </tr>\n",
       "    <tr>\n",
       "      <th>products</th>\n",
       "      <td>0.004821</td>\n",
       "    </tr>\n",
       "  </tbody>\n",
       "</table>\n",
       "</div>"
      ],
      "text/plain": [
       "                     importance\n",
       "experience             0.006549\n",
       "statistics teaching    0.005611\n",
       "lead                   0.005494\n",
       "stakeholders           0.005332\n",
       "solutions              0.005204\n",
       "change                 0.005135\n",
       "banking                0.005044\n",
       "teams                  0.004927\n",
       "deliver                0.004833\n",
       "products               0.004821"
      ]
     },
     "execution_count": 71,
     "metadata": {},
     "output_type": "execute_result"
    }
   ],
   "source": [
    "feature_importances = pd.DataFrame(best_grid.feature_importances_,\n",
    "                                   index = df_exp_NLP.columns,\n",
    "                                    columns=['importance']).sort_values('importance',ascending=False)\n",
    "feature_importances.head(10)"
   ]
  },
  {
   "cell_type": "markdown",
   "metadata": {},
   "source": [
    "# Question 2a . Distinguish between Data Scientist and the rest"
   ]
  },
  {
   "cell_type": "code",
   "execution_count": 72,
   "metadata": {},
   "outputs": [],
   "source": [
    "#re-create new df for ML2\n",
    "require =['employment_type','exp','nlp','title_clean', \n",
    "          'salary_mean','category_clean', 'loc_clean']\n",
    "ml=df_eda[require]"
   ]
  },
  {
   "cell_type": "code",
   "execution_count": 73,
   "metadata": {},
   "outputs": [
    {
     "data": {
      "text/plain": [
       "data scientist      278\n",
       "business analyst    167\n",
       "data engineer       149\n",
       "data analyst         20\n",
       "Name: title_clean, dtype: int64"
      ]
     },
     "execution_count": 73,
     "metadata": {},
     "output_type": "execute_result"
    }
   ],
   "source": [
    "ml.title_clean.value_counts()"
   ]
  },
  {
   "cell_type": "code",
   "execution_count": 74,
   "metadata": {
    "scrolled": true
   },
   "outputs": [],
   "source": [
    "#create new output, y=1 for data scientist, else 0\n",
    "ml['y']=ml.title_clean.apply(lambda x : 1 if x=='data scientist' else 0)\n",
    "\n",
    "#remove null values\n",
    "ml=ml[~ml.nlp.isnull()].reset_index()\n"
   ]
  },
  {
   "cell_type": "code",
   "execution_count": 75,
   "metadata": {},
   "outputs": [
    {
     "data": {
      "text/html": [
       "<div>\n",
       "<style scoped>\n",
       "    .dataframe tbody tr th:only-of-type {\n",
       "        vertical-align: middle;\n",
       "    }\n",
       "\n",
       "    .dataframe tbody tr th {\n",
       "        vertical-align: top;\n",
       "    }\n",
       "\n",
       "    .dataframe thead th {\n",
       "        text-align: right;\n",
       "    }\n",
       "</style>\n",
       "<table border=\"1\" class=\"dataframe\">\n",
       "  <thead>\n",
       "    <tr style=\"text-align: right;\">\n",
       "      <th></th>\n",
       "      <th>employment_type</th>\n",
       "      <th>exp</th>\n",
       "      <th>nlp</th>\n",
       "      <th>title_clean</th>\n",
       "      <th>salary_mean</th>\n",
       "      <th>category_clean</th>\n",
       "      <th>loc_clean</th>\n",
       "      <th>y</th>\n",
       "    </tr>\n",
       "  </thead>\n",
       "  <tbody>\n",
       "    <tr>\n",
       "      <th>0</th>\n",
       "      <td>contract</td>\n",
       "      <td>3</td>\n",
       "      <td>location: outram salary: up to $14.50 per hour...</td>\n",
       "      <td>data analyst</td>\n",
       "      <td>2050.00</td>\n",
       "      <td>Admin / Secretarial</td>\n",
       "      <td>CENTRAL</td>\n",
       "      <td>0</td>\n",
       "    </tr>\n",
       "    <tr>\n",
       "      <th>1</th>\n",
       "      <td>permanent</td>\n",
       "      <td>3</td>\n",
       "      <td>sky premium international is looking for it ex...</td>\n",
       "      <td>data analyst</td>\n",
       "      <td>3250.00</td>\n",
       "      <td>Information Technology</td>\n",
       "      <td>CENTRAL</td>\n",
       "      <td>0</td>\n",
       "    </tr>\n",
       "    <tr>\n",
       "      <th>2</th>\n",
       "      <td>permanent</td>\n",
       "      <td>4</td>\n",
       "      <td>•frontline team members who have to mix solid ...</td>\n",
       "      <td>data analyst</td>\n",
       "      <td>6250.00</td>\n",
       "      <td>Engineering</td>\n",
       "      <td>CENTRAL</td>\n",
       "      <td>0</td>\n",
       "    </tr>\n",
       "    <tr>\n",
       "      <th>3</th>\n",
       "      <td>permanent</td>\n",
       "      <td>3</td>\n",
       "      <td>job description responsibilities provide strat...</td>\n",
       "      <td>data engineer</td>\n",
       "      <td>6093.75</td>\n",
       "      <td>Information Technology</td>\n",
       "      <td>EAST</td>\n",
       "      <td>0</td>\n",
       "    </tr>\n",
       "    <tr>\n",
       "      <th>4</th>\n",
       "      <td>permanent</td>\n",
       "      <td>7</td>\n",
       "      <td>data analyst at traveloka is at the forefront ...</td>\n",
       "      <td>data analyst</td>\n",
       "      <td>5950.00</td>\n",
       "      <td>Information Technology</td>\n",
       "      <td>NORTH</td>\n",
       "      <td>0</td>\n",
       "    </tr>\n",
       "  </tbody>\n",
       "</table>\n",
       "</div>"
      ],
      "text/plain": [
       "  employment_type  exp                                                nlp  \\\n",
       "0        contract    3  location: outram salary: up to $14.50 per hour...   \n",
       "1       permanent    3  sky premium international is looking for it ex...   \n",
       "2       permanent    4  •frontline team members who have to mix solid ...   \n",
       "3       permanent    3  job description responsibilities provide strat...   \n",
       "4       permanent    7  data analyst at traveloka is at the forefront ...   \n",
       "\n",
       "     title_clean  salary_mean          category_clean loc_clean  y  \n",
       "0   data analyst      2050.00     Admin / Secretarial   CENTRAL  0  \n",
       "1   data analyst      3250.00  Information Technology   CENTRAL  0  \n",
       "2   data analyst      6250.00             Engineering   CENTRAL  0  \n",
       "3  data engineer      6093.75  Information Technology      EAST  0  \n",
       "4   data analyst      5950.00  Information Technology     NORTH  0  "
      ]
     },
     "execution_count": 75,
     "metadata": {},
     "output_type": "execute_result"
    }
   ],
   "source": [
    "ml2=ml.drop('index',axis=1)\n",
    "ml2.head(5)"
   ]
  },
  {
   "cell_type": "code",
   "execution_count": 76,
   "metadata": {},
   "outputs": [
    {
     "data": {
      "text/plain": [
       "0.54"
      ]
     },
     "execution_count": 76,
     "metadata": {},
     "output_type": "execute_result"
    }
   ],
   "source": [
    "#baseline\n",
    "1-(ml2.y.sum() / len(ml2)).round(2)"
   ]
  },
  {
   "cell_type": "code",
   "execution_count": 77,
   "metadata": {},
   "outputs": [],
   "source": [
    "#One Hot Encoding\n",
    "OHE_1=pd.get_dummies(ml.employment_type,drop_first=True)\n",
    "OHE_2=pd.get_dummies(ml.title_clean,drop_first=True)\n",
    "OHE_3=pd.get_dummies(ml.category_clean,drop_first=True)\n",
    "OHE_4=pd.get_dummies(ml.loc_clean,drop_first=True)\n",
    "\n",
    "#drop columns that are dummied and concat back to original ml df\n",
    "ml2=ml.drop(columns=['employment_type','title_clean','category_clean','loc_clean'])"
   ]
  },
  {
   "cell_type": "code",
   "execution_count": 78,
   "metadata": {},
   "outputs": [],
   "source": [
    "ml2=pd.concat([ml,OHE_1,OHE_2,OHE_3,OHE_4,],axis=1)"
   ]
  },
  {
   "cell_type": "code",
   "execution_count": 79,
   "metadata": {},
   "outputs": [
    {
     "name": "stdout",
     "output_type": "stream",
     "text": [
      "cross val score : 0.64\n",
      "------------------------------------------ \n",
      "\n",
      "confusion matrix\n",
      "[[50 11]\n",
      " [24 32]]\n",
      "------------------------------------------ \n",
      "\n",
      "                            precision    recall  f1-score   support\n",
      "\n",
      "predict NOT Data_Scientist       0.68      0.82      0.74        61\n",
      "    predict Data_Scientist       0.74      0.57      0.65        56\n",
      "\n",
      "                 micro avg       0.70      0.70      0.70       117\n",
      "                 macro avg       0.71      0.70      0.69       117\n",
      "              weighted avg       0.71      0.70      0.70       117\n",
      "\n",
      "auc score : 0.7.\n"
     ]
    }
   ],
   "source": [
    "# Use logistic regression for first model to get some sense\n",
    "X=ml2.loc[:,['exp','salary_mean']].values #.reshape(-1,1)\n",
    "y=ml2.y\n",
    "\n",
    "X_train, X_test, y_train, y_test = train_test_split(X, y, test_size=0.2, random_state=42)\n",
    "\n",
    "lr = LogisticRegression(solver='lbfgs', max_iter=200)\n",
    "lr.fit(X_train, y_train)\n",
    "y_pred = lr.predict(X_test)\n",
    "\n",
    "print('cross val score : {}'.format(cross_val_score(lr, X_train, y_train, cv=10).mean().round(2)))\n",
    "print('-'*42, '\\n')\n",
    "print('confusion matrix')\n",
    "print(confusion_matrix(y_test, y_pred))\n",
    "print('-'*42, '\\n')\n",
    "print(classification_report(y_test, y_pred, target_names=['predict NOT Data_Scientist', 'predict Data_Scientist']))\n",
    "print('auc score : {}.'.format(roc_auc_score(y_test, y_pred).round(2)))"
   ]
  },
  {
   "cell_type": "code",
   "execution_count": 80,
   "metadata": {},
   "outputs": [
    {
     "name": "stdout",
     "output_type": "stream",
     "text": [
      "cross-validation score: 0.75\n",
      "Random Forest: 0.834\n",
      "               precision    recall  f1-score   support\n",
      "\n",
      " lower salary       0.81      0.92      0.86        95\n",
      "higher salary       0.88      0.74      0.80        80\n",
      "\n",
      "    micro avg       0.83      0.83      0.83       175\n",
      "    macro avg       0.84      0.83      0.83       175\n",
      " weighted avg       0.84      0.83      0.83       175\n",
      "\n",
      "auc score : 0.83.\n"
     ]
    },
    {
     "data": {
      "text/html": [
       "<div>\n",
       "<style scoped>\n",
       "    .dataframe tbody tr th:only-of-type {\n",
       "        vertical-align: middle;\n",
       "    }\n",
       "\n",
       "    .dataframe tbody tr th {\n",
       "        vertical-align: top;\n",
       "    }\n",
       "\n",
       "    .dataframe thead th {\n",
       "        text-align: right;\n",
       "    }\n",
       "</style>\n",
       "<table border=\"1\" class=\"dataframe\">\n",
       "  <thead>\n",
       "    <tr style=\"text-align: right;\">\n",
       "      <th></th>\n",
       "      <th>importance</th>\n",
       "    </tr>\n",
       "  </thead>\n",
       "  <tbody>\n",
       "    <tr>\n",
       "      <th>research science</th>\n",
       "      <td>0.035405</td>\n",
       "    </tr>\n",
       "    <tr>\n",
       "      <th>machine</th>\n",
       "      <td>0.032619</td>\n",
       "    </tr>\n",
       "    <tr>\n",
       "      <th>sdlc sql</th>\n",
       "      <td>0.019749</td>\n",
       "    </tr>\n",
       "    <tr>\n",
       "      <th>sql strategy</th>\n",
       "      <td>0.018729</td>\n",
       "    </tr>\n",
       "    <tr>\n",
       "      <th>business strategy</th>\n",
       "      <td>0.013813</td>\n",
       "    </tr>\n",
       "    <tr>\n",
       "      <th>requirements gathering</th>\n",
       "      <td>0.013366</td>\n",
       "    </tr>\n",
       "    <tr>\n",
       "      <th>requirements analysis</th>\n",
       "      <td>0.012514</td>\n",
       "    </tr>\n",
       "    <tr>\n",
       "      <th>phd</th>\n",
       "      <td>0.011021</td>\n",
       "    </tr>\n",
       "    <tr>\n",
       "      <th>business development</th>\n",
       "      <td>0.010226</td>\n",
       "    </tr>\n",
       "    <tr>\n",
       "      <th>cloud</th>\n",
       "      <td>0.009955</td>\n",
       "    </tr>\n",
       "    <tr>\n",
       "      <th>biology</th>\n",
       "      <td>0.009775</td>\n",
       "    </tr>\n",
       "    <tr>\n",
       "      <th>learning matlab</th>\n",
       "      <td>0.009691</td>\n",
       "    </tr>\n",
       "    <tr>\n",
       "      <th>learning</th>\n",
       "      <td>0.009361</td>\n",
       "    </tr>\n",
       "    <tr>\n",
       "      <th>activities</th>\n",
       "      <td>0.008424</td>\n",
       "    </tr>\n",
       "    <tr>\n",
       "      <th>office process</th>\n",
       "      <td>0.007948</td>\n",
       "    </tr>\n",
       "    <tr>\n",
       "      <th>engineer</th>\n",
       "      <td>0.007945</td>\n",
       "    </tr>\n",
       "    <tr>\n",
       "      <th>business process</th>\n",
       "      <td>0.007943</td>\n",
       "    </tr>\n",
       "    <tr>\n",
       "      <th>devops</th>\n",
       "      <td>0.007588</td>\n",
       "    </tr>\n",
       "    <tr>\n",
       "      <th>business</th>\n",
       "      <td>0.007449</td>\n",
       "    </tr>\n",
       "    <tr>\n",
       "      <th>opportunities meet</th>\n",
       "      <td>0.007417</td>\n",
       "    </tr>\n",
       "  </tbody>\n",
       "</table>\n",
       "</div>"
      ],
      "text/plain": [
       "                        importance\n",
       "research science          0.035405\n",
       "machine                   0.032619\n",
       "sdlc sql                  0.019749\n",
       "sql strategy              0.018729\n",
       "business strategy         0.013813\n",
       "requirements gathering    0.013366\n",
       "requirements analysis     0.012514\n",
       "phd                       0.011021\n",
       "business development      0.010226\n",
       "cloud                     0.009955\n",
       "biology                   0.009775\n",
       "learning matlab           0.009691\n",
       "learning                  0.009361\n",
       "activities                0.008424\n",
       "office process            0.007948\n",
       "engineer                  0.007945\n",
       "business process          0.007943\n",
       "devops                    0.007588\n",
       "business                  0.007449\n",
       "opportunities meet        0.007417"
      ]
     },
     "execution_count": 80,
     "metadata": {},
     "output_type": "execute_result"
    }
   ],
   "source": [
    "# Use Random Forest using the nlp columns ONLY\n",
    "# nlp columns = column combination of role, requirement and skills \n",
    "X=ml2.nlp\n",
    "y=ml2.y\n",
    "\n",
    "#Transform X to TF-IDF\n",
    "cvt = CountVectorizer(stop_words='english',ngram_range=(1, 2),min_df=2)\n",
    "X_cvt = cvt.fit_transform(X)\n",
    "tfidf=TfidfTransformer()\n",
    "X_tfidf=tfidf.fit_transform(X_cvt)\n",
    "X_tfidf=X_tfidf.todense()\n",
    "rf=RandomForestClassifier()\n",
    "\n",
    "#cross validation\n",
    "scores = cross_val_score(lr,X_tfidf, y, cv=5)\n",
    "print('cross-validation score: {}'.format(round(np.mean(scores),2), round(np.std(scores),2)))\n",
    "\n",
    "X_train,X_test,y_train,y_test = train_test_split(X_tfidf,y,test_size=0.3,random_state=1,stratify=y)\n",
    "rf.fit(X_train,y_train)\n",
    "y_pred = rf.predict(X_test)\n",
    "print(\"Random Forest: {}\".format(rf.score(X_test,y_test).round(3)))\n",
    "\n",
    "print(classification_report(y_test, y_pred, target_names=['lower salary', 'higher salary']))\n",
    "print('auc score : {}.'.format(roc_auc_score(y_test, y_pred).round(2)))\n",
    "\n",
    "pd.DataFrame(rf.feature_importances_,index=cvt.get_feature_names(),\n",
    "             columns=['importance']).sort_values('importance',ascending=False).head(20)"
   ]
  },
  {
   "cell_type": "code",
   "execution_count": 81,
   "metadata": {},
   "outputs": [],
   "source": [
    "# We are selecting RF because of the high precision and high cross val score and also a higher AUC score as compared to \n",
    "# Logistic Regression. \n",
    "# some of the factors contributed are described above\n",
    "# take note that RF's feature importance means we only know what is IMPORTANT and we do actually know if the feature is \n",
    "# contributing positively or not, as compared to Logistic Regression."
   ]
  },
  {
   "cell_type": "markdown",
   "metadata": {},
   "source": [
    "# Question 2b . Distinguish between Data Analyst and the rest"
   ]
  },
  {
   "cell_type": "code",
   "execution_count": 82,
   "metadata": {},
   "outputs": [
    {
     "data": {
      "text/html": [
       "<div>\n",
       "<style scoped>\n",
       "    .dataframe tbody tr th:only-of-type {\n",
       "        vertical-align: middle;\n",
       "    }\n",
       "\n",
       "    .dataframe tbody tr th {\n",
       "        vertical-align: top;\n",
       "    }\n",
       "\n",
       "    .dataframe thead th {\n",
       "        text-align: right;\n",
       "    }\n",
       "</style>\n",
       "<table border=\"1\" class=\"dataframe\">\n",
       "  <thead>\n",
       "    <tr style=\"text-align: right;\">\n",
       "      <th></th>\n",
       "      <th>employment_type</th>\n",
       "      <th>exp</th>\n",
       "      <th>nlp</th>\n",
       "      <th>title_clean</th>\n",
       "      <th>salary_mean</th>\n",
       "      <th>category_clean</th>\n",
       "      <th>loc_clean</th>\n",
       "    </tr>\n",
       "  </thead>\n",
       "  <tbody>\n",
       "    <tr>\n",
       "      <th>0</th>\n",
       "      <td>contract</td>\n",
       "      <td>3</td>\n",
       "      <td>location: outram salary: up to $14.50 per hour...</td>\n",
       "      <td>data analyst</td>\n",
       "      <td>2050.00</td>\n",
       "      <td>Admin / Secretarial</td>\n",
       "      <td>CENTRAL</td>\n",
       "    </tr>\n",
       "    <tr>\n",
       "      <th>1</th>\n",
       "      <td>permanent</td>\n",
       "      <td>3</td>\n",
       "      <td>sky premium international is looking for it ex...</td>\n",
       "      <td>data analyst</td>\n",
       "      <td>3250.00</td>\n",
       "      <td>Information Technology</td>\n",
       "      <td>CENTRAL</td>\n",
       "    </tr>\n",
       "    <tr>\n",
       "      <th>2</th>\n",
       "      <td>permanent</td>\n",
       "      <td>4</td>\n",
       "      <td>•frontline team members who have to mix solid ...</td>\n",
       "      <td>data analyst</td>\n",
       "      <td>6250.00</td>\n",
       "      <td>Engineering</td>\n",
       "      <td>CENTRAL</td>\n",
       "    </tr>\n",
       "    <tr>\n",
       "      <th>3</th>\n",
       "      <td>permanent</td>\n",
       "      <td>3</td>\n",
       "      <td>job description responsibilities provide strat...</td>\n",
       "      <td>data engineer</td>\n",
       "      <td>6093.75</td>\n",
       "      <td>Information Technology</td>\n",
       "      <td>EAST</td>\n",
       "    </tr>\n",
       "    <tr>\n",
       "      <th>4</th>\n",
       "      <td>permanent</td>\n",
       "      <td>7</td>\n",
       "      <td>data analyst at traveloka is at the forefront ...</td>\n",
       "      <td>data analyst</td>\n",
       "      <td>5950.00</td>\n",
       "      <td>Information Technology</td>\n",
       "      <td>NORTH</td>\n",
       "    </tr>\n",
       "  </tbody>\n",
       "</table>\n",
       "</div>"
      ],
      "text/plain": [
       "  employment_type  exp                                                nlp  \\\n",
       "0        contract    3  location: outram salary: up to $14.50 per hour...   \n",
       "1       permanent    3  sky premium international is looking for it ex...   \n",
       "2       permanent    4  •frontline team members who have to mix solid ...   \n",
       "3       permanent    3  job description responsibilities provide strat...   \n",
       "4       permanent    7  data analyst at traveloka is at the forefront ...   \n",
       "\n",
       "     title_clean  salary_mean          category_clean loc_clean  \n",
       "0   data analyst      2050.00     Admin / Secretarial   CENTRAL  \n",
       "1   data analyst      3250.00  Information Technology   CENTRAL  \n",
       "2   data analyst      6250.00             Engineering   CENTRAL  \n",
       "3  data engineer      6093.75  Information Technology      EAST  \n",
       "4   data analyst      5950.00  Information Technology     NORTH  "
      ]
     },
     "execution_count": 82,
     "metadata": {},
     "output_type": "execute_result"
    }
   ],
   "source": [
    "#create new output, y=1 for 'data analyst', else 0\n",
    "#asi want to learn how to classify an imbalance class\n",
    "\n",
    "#re-create new df for ML2\n",
    "require =['employment_type','exp','nlp','title_clean', \n",
    "          'salary_mean','category_clean', 'loc_clean']\n",
    "ml=df_eda[require]\n",
    "\n",
    "#remove null values\n",
    "ml=ml[~ml.nlp.isnull()].reset_index()\n",
    "ml=ml.drop('index',axis=1)\n",
    "ml.head(5)"
   ]
  },
  {
   "cell_type": "code",
   "execution_count": 83,
   "metadata": {},
   "outputs": [
    {
     "data": {
      "text/html": [
       "<div>\n",
       "<style scoped>\n",
       "    .dataframe tbody tr th:only-of-type {\n",
       "        vertical-align: middle;\n",
       "    }\n",
       "\n",
       "    .dataframe tbody tr th {\n",
       "        vertical-align: top;\n",
       "    }\n",
       "\n",
       "    .dataframe thead th {\n",
       "        text-align: right;\n",
       "    }\n",
       "</style>\n",
       "<table border=\"1\" class=\"dataframe\">\n",
       "  <thead>\n",
       "    <tr style=\"text-align: right;\">\n",
       "      <th></th>\n",
       "      <th>employment_type</th>\n",
       "      <th>exp</th>\n",
       "      <th>nlp</th>\n",
       "      <th>title_clean</th>\n",
       "      <th>salary_mean</th>\n",
       "      <th>category_clean</th>\n",
       "      <th>loc_clean</th>\n",
       "      <th>y</th>\n",
       "    </tr>\n",
       "  </thead>\n",
       "  <tbody>\n",
       "    <tr>\n",
       "      <th>0</th>\n",
       "      <td>contract</td>\n",
       "      <td>3</td>\n",
       "      <td>location: outram salary: up to $14.50 per hour...</td>\n",
       "      <td>data analyst</td>\n",
       "      <td>2050.00</td>\n",
       "      <td>Admin / Secretarial</td>\n",
       "      <td>CENTRAL</td>\n",
       "      <td>1</td>\n",
       "    </tr>\n",
       "    <tr>\n",
       "      <th>1</th>\n",
       "      <td>permanent</td>\n",
       "      <td>3</td>\n",
       "      <td>sky premium international is looking for it ex...</td>\n",
       "      <td>data analyst</td>\n",
       "      <td>3250.00</td>\n",
       "      <td>Information Technology</td>\n",
       "      <td>CENTRAL</td>\n",
       "      <td>1</td>\n",
       "    </tr>\n",
       "    <tr>\n",
       "      <th>2</th>\n",
       "      <td>permanent</td>\n",
       "      <td>4</td>\n",
       "      <td>•frontline team members who have to mix solid ...</td>\n",
       "      <td>data analyst</td>\n",
       "      <td>6250.00</td>\n",
       "      <td>Engineering</td>\n",
       "      <td>CENTRAL</td>\n",
       "      <td>1</td>\n",
       "    </tr>\n",
       "    <tr>\n",
       "      <th>3</th>\n",
       "      <td>permanent</td>\n",
       "      <td>3</td>\n",
       "      <td>job description responsibilities provide strat...</td>\n",
       "      <td>data engineer</td>\n",
       "      <td>6093.75</td>\n",
       "      <td>Information Technology</td>\n",
       "      <td>EAST</td>\n",
       "      <td>0</td>\n",
       "    </tr>\n",
       "    <tr>\n",
       "      <th>4</th>\n",
       "      <td>permanent</td>\n",
       "      <td>7</td>\n",
       "      <td>data analyst at traveloka is at the forefront ...</td>\n",
       "      <td>data analyst</td>\n",
       "      <td>5950.00</td>\n",
       "      <td>Information Technology</td>\n",
       "      <td>NORTH</td>\n",
       "      <td>1</td>\n",
       "    </tr>\n",
       "  </tbody>\n",
       "</table>\n",
       "</div>"
      ],
      "text/plain": [
       "  employment_type  exp                                                nlp  \\\n",
       "0        contract    3  location: outram salary: up to $14.50 per hour...   \n",
       "1       permanent    3  sky premium international is looking for it ex...   \n",
       "2       permanent    4  •frontline team members who have to mix solid ...   \n",
       "3       permanent    3  job description responsibilities provide strat...   \n",
       "4       permanent    7  data analyst at traveloka is at the forefront ...   \n",
       "\n",
       "     title_clean  salary_mean          category_clean loc_clean  y  \n",
       "0   data analyst      2050.00     Admin / Secretarial   CENTRAL  1  \n",
       "1   data analyst      3250.00  Information Technology   CENTRAL  1  \n",
       "2   data analyst      6250.00             Engineering   CENTRAL  1  \n",
       "3  data engineer      6093.75  Information Technology      EAST  0  \n",
       "4   data analyst      5950.00  Information Technology     NORTH  1  "
      ]
     },
     "execution_count": 83,
     "metadata": {},
     "output_type": "execute_result"
    }
   ],
   "source": [
    "ml['y']=ml2.title_clean.apply(lambda x : 1 if x=='data analyst' else 0)\n",
    "ml.head(5)"
   ]
  },
  {
   "cell_type": "code",
   "execution_count": 84,
   "metadata": {},
   "outputs": [
    {
     "data": {
      "text/plain": [
       "0.9656946826758147"
      ]
     },
     "execution_count": 84,
     "metadata": {},
     "output_type": "execute_result"
    }
   ],
   "source": [
    "#baseline\n",
    "1-ml.y.sum() / len(ml) # imbalance dataset"
   ]
  },
  {
   "cell_type": "code",
   "execution_count": 85,
   "metadata": {},
   "outputs": [
    {
     "name": "stdout",
     "output_type": "stream",
     "text": [
      "cross-validation score: 0.97\n",
      "mnb: 0.966\n",
      "                  precision    recall  f1-score   support\n",
      "\n",
      "not_data_analyst       0.97      1.00      0.98       169\n",
      " is_data_analyst       0.00      0.00      0.00         6\n",
      "\n",
      "       micro avg       0.97      0.97      0.97       175\n",
      "       macro avg       0.48      0.50      0.49       175\n",
      "    weighted avg       0.93      0.97      0.95       175\n",
      "\n"
     ]
    }
   ],
   "source": [
    "# Use MNB for first model to get some sense\n",
    "X=ml.nlp\n",
    "y=ml.y\n",
    "\n",
    "#Transform X to TF-IDF\n",
    "cvt = CountVectorizer(stop_words='english',ngram_range=(1, 2),min_df=2)\n",
    "X_cvt = cvt.fit_transform(X)\n",
    "tfidf=TfidfTransformer()\n",
    "X_tfidf=tfidf.fit_transform(X_cvt)\n",
    "X_tfidf=X_tfidf.todense()\n",
    "mnb=MultinomialNB()\n",
    "\n",
    "#cross validation\n",
    "scores = cross_val_score(mnb,X_tfidf, y, cv=5)\n",
    "print('cross-validation score: {}'.format(round(np.mean(scores),2), round(np.std(scores),2)))\n",
    "\n",
    "X_train,X_test,y_train,y_test = train_test_split(X_tfidf,y,test_size=0.3,random_state=1,stratify=y)\n",
    "mnb.fit(X_train,y_train)\n",
    "y_pred = mnb.predict(X_test)\n",
    "print(\"mnb: {}\".format(mnb.score(X_test,y_test).round(3)))\n",
    "\n",
    "print(classification_report(y_test, y_pred, target_names=['not_data_analyst', 'is_data_analyst']))"
   ]
  },
  {
   "cell_type": "code",
   "execution_count": 86,
   "metadata": {},
   "outputs": [],
   "source": [
    "# Use logistic regression with smote up sampling\n",
    "X=ml.nlp\n",
    "y=ml.y\n",
    "\n",
    "#Transform X to TF-IDF\n",
    "cvt = CountVectorizer(stop_words='english',ngram_range=(1, 2),min_df=2)\n",
    "X_cvt = cvt.fit_transform(X)\n",
    "tfidf=TfidfTransformer()\n",
    "X_tfidf=tfidf.fit_transform(X_cvt)\n",
    "X_tfidf=X_tfidf.todense()\n",
    "lr_imb=LogisticRegression()\n",
    "\n",
    "skf = StratifiedKFold(n_splits=5)\n",
    "score = []\n",
    "\n",
    "for train_index, test_index in skf.split(X_tfidf, y):\n",
    "    X_train, X_test = X_tfidf[train_index], X_tfidf[test_index]\n",
    "    y_train, y_test = y[train_index], y[test_index]\n",
    "    \n",
    "sm = SMOTE(ratio='minority',k_neighbors=13, random_state=240)\n",
    "X_smote, y_smote = sm.fit_sample(X_train, y_train)"
   ]
  },
  {
   "cell_type": "code",
   "execution_count": 87,
   "metadata": {},
   "outputs": [
    {
     "name": "stdout",
     "output_type": "stream",
     "text": [
      "Upsample Test Score: 0.5\n",
      "                  precision    recall  f1-score   support\n",
      "\n",
      "not_data_analyst       0.98      1.00      0.99       112\n",
      " is_data_analyst       1.00      0.50      0.67         4\n",
      "\n",
      "       micro avg       0.98      0.98      0.98       116\n",
      "       macro avg       0.99      0.75      0.83       116\n",
      "    weighted avg       0.98      0.98      0.98       116\n",
      "\n"
     ]
    }
   ],
   "source": [
    "lr_imb.fit(X_smote,y_smote)\n",
    "smote_predict = lr_imb.predict(X_test)\n",
    "smote_recall = recall_score(y_test, smote_predict)\n",
    "\n",
    "print (\"Upsample Test Score:\", smote_recall.round(2))\n",
    "\n",
    "print(classification_report(y_test, smote_predict, target_names=['not_data_analyst', 'is_data_analyst']))"
   ]
  },
  {
   "cell_type": "code",
   "execution_count": 97,
   "metadata": {},
   "outputs": [
    {
     "data": {
      "text/plain": [
       "(1, 24300)"
      ]
     },
     "execution_count": 97,
     "metadata": {},
     "output_type": "execute_result"
    }
   ],
   "source": [
    "lr_imb.coef_.shape"
   ]
  },
  {
   "cell_type": "code",
   "execution_count": 99,
   "metadata": {},
   "outputs": [
    {
     "data": {
      "text/plain": [
       "24300"
      ]
     },
     "execution_count": 99,
     "metadata": {},
     "output_type": "execute_result"
    }
   ],
   "source": [
    "len(cvt.get_feature_names())"
   ]
  },
  {
   "cell_type": "code",
   "execution_count": 88,
   "metadata": {},
   "outputs": [
    {
     "data": {
      "text/html": [
       "<div>\n",
       "<style scoped>\n",
       "    .dataframe tbody tr th:only-of-type {\n",
       "        vertical-align: middle;\n",
       "    }\n",
       "\n",
       "    .dataframe tbody tr th {\n",
       "        vertical-align: top;\n",
       "    }\n",
       "\n",
       "    .dataframe thead th {\n",
       "        text-align: right;\n",
       "    }\n",
       "</style>\n",
       "<table border=\"1\" class=\"dataframe\">\n",
       "  <thead>\n",
       "    <tr style=\"text-align: right;\">\n",
       "      <th></th>\n",
       "      <th>0</th>\n",
       "    </tr>\n",
       "  </thead>\n",
       "  <tbody>\n",
       "    <tr>\n",
       "      <th>data</th>\n",
       "      <td>3.347346</td>\n",
       "    </tr>\n",
       "    <tr>\n",
       "      <th>reports</th>\n",
       "      <td>1.941829</td>\n",
       "    </tr>\n",
       "    <tr>\n",
       "      <th>data analyst</th>\n",
       "      <td>1.870011</td>\n",
       "    </tr>\n",
       "    <tr>\n",
       "      <th>tableau</th>\n",
       "      <td>1.103690</td>\n",
       "    </tr>\n",
       "    <tr>\n",
       "      <th>data quality</th>\n",
       "      <td>1.096942</td>\n",
       "    </tr>\n",
       "    <tr>\n",
       "      <th>new reports</th>\n",
       "      <td>1.014660</td>\n",
       "    </tr>\n",
       "    <tr>\n",
       "      <th>excel</th>\n",
       "      <td>0.984012</td>\n",
       "    </tr>\n",
       "    <tr>\n",
       "      <th>scrum</th>\n",
       "      <td>0.983725</td>\n",
       "    </tr>\n",
       "    <tr>\n",
       "      <th>experience data</th>\n",
       "      <td>0.973175</td>\n",
       "    </tr>\n",
       "    <tr>\n",
       "      <th>insights</th>\n",
       "      <td>0.924028</td>\n",
       "    </tr>\n",
       "    <tr>\n",
       "      <th>dashboards</th>\n",
       "      <td>0.901163</td>\n",
       "    </tr>\n",
       "    <tr>\n",
       "      <th>clinical</th>\n",
       "      <td>0.866214</td>\n",
       "    </tr>\n",
       "    <tr>\n",
       "      <th>management research</th>\n",
       "      <td>0.842634</td>\n",
       "    </tr>\n",
       "    <tr>\n",
       "      <th>making</th>\n",
       "      <td>0.811722</td>\n",
       "    </tr>\n",
       "    <tr>\n",
       "      <th>decision making</th>\n",
       "      <td>0.807796</td>\n",
       "    </tr>\n",
       "    <tr>\n",
       "      <th>microsoft excel</th>\n",
       "      <td>0.802413</td>\n",
       "    </tr>\n",
       "    <tr>\n",
       "      <th>vietnamese</th>\n",
       "      <td>0.764676</td>\n",
       "    </tr>\n",
       "    <tr>\n",
       "      <th>databases</th>\n",
       "      <td>0.742068</td>\n",
       "    </tr>\n",
       "    <tr>\n",
       "      <th>report</th>\n",
       "      <td>0.693520</td>\n",
       "    </tr>\n",
       "    <tr>\n",
       "      <th>maintaining</th>\n",
       "      <td>0.687826</td>\n",
       "    </tr>\n",
       "  </tbody>\n",
       "</table>\n",
       "</div>"
      ],
      "text/plain": [
       "                            0\n",
       "data                 3.347346\n",
       "reports              1.941829\n",
       "data analyst         1.870011\n",
       "tableau              1.103690\n",
       "data quality         1.096942\n",
       "new reports          1.014660\n",
       "excel                0.984012\n",
       "scrum                0.983725\n",
       "experience data      0.973175\n",
       "insights             0.924028\n",
       "dashboards           0.901163\n",
       "clinical             0.866214\n",
       "management research  0.842634\n",
       "making               0.811722\n",
       "decision making      0.807796\n",
       "microsoft excel      0.802413\n",
       "vietnamese           0.764676\n",
       "databases            0.742068\n",
       "report               0.693520\n",
       "maintaining          0.687826"
      ]
     },
     "execution_count": 88,
     "metadata": {},
     "output_type": "execute_result"
    }
   ],
   "source": [
    "pd.DataFrame(lr_imb.coef_, columns=cvt.get_feature_names()).transpose().sort_values(by=0,ascending=False).head(20)"
   ]
  },
  {
   "cell_type": "code",
   "execution_count": 100,
   "metadata": {},
   "outputs": [
    {
     "data": {
      "text/plain": [
       "array([[-0.09753257, -0.0275227 , -0.01181001, ..., -0.00868685,\n",
       "        -0.0048864 ,  0.        ]])"
      ]
     },
     "execution_count": 100,
     "metadata": {},
     "output_type": "execute_result"
    }
   ],
   "source": [
    "lr_imb.coef_.sha"
   ]
  },
  {
   "cell_type": "code",
   "execution_count": 89,
   "metadata": {},
   "outputs": [
    {
     "data": {
      "text/html": [
       "<div>\n",
       "<style scoped>\n",
       "    .dataframe tbody tr th:only-of-type {\n",
       "        vertical-align: middle;\n",
       "    }\n",
       "\n",
       "    .dataframe tbody tr th {\n",
       "        vertical-align: top;\n",
       "    }\n",
       "\n",
       "    .dataframe thead th {\n",
       "        text-align: right;\n",
       "    }\n",
       "</style>\n",
       "<table border=\"1\" class=\"dataframe\">\n",
       "  <thead>\n",
       "    <tr style=\"text-align: right;\">\n",
       "      <th></th>\n",
       "      <th>0</th>\n",
       "    </tr>\n",
       "  </thead>\n",
       "  <tbody>\n",
       "    <tr>\n",
       "      <th>manage</th>\n",
       "      <td>-0.431910</td>\n",
       "    </tr>\n",
       "    <tr>\n",
       "      <th>solution</th>\n",
       "      <td>-0.442082</td>\n",
       "    </tr>\n",
       "    <tr>\n",
       "      <th>cloud</th>\n",
       "      <td>-0.454190</td>\n",
       "    </tr>\n",
       "    <tr>\n",
       "      <th>science</th>\n",
       "      <td>-0.467025</td>\n",
       "    </tr>\n",
       "    <tr>\n",
       "      <th>gathering</th>\n",
       "      <td>-0.467277</td>\n",
       "    </tr>\n",
       "    <tr>\n",
       "      <th>performance</th>\n",
       "      <td>-0.485089</td>\n",
       "    </tr>\n",
       "    <tr>\n",
       "      <th>process</th>\n",
       "      <td>-0.486626</td>\n",
       "    </tr>\n",
       "    <tr>\n",
       "      <th>functional</th>\n",
       "      <td>-0.490247</td>\n",
       "    </tr>\n",
       "    <tr>\n",
       "      <th>business</th>\n",
       "      <td>-0.500074</td>\n",
       "    </tr>\n",
       "    <tr>\n",
       "      <th>business process</th>\n",
       "      <td>-0.535130</td>\n",
       "    </tr>\n",
       "    <tr>\n",
       "      <th>architecture</th>\n",
       "      <td>-0.544086</td>\n",
       "    </tr>\n",
       "    <tr>\n",
       "      <th>machine learning</th>\n",
       "      <td>-0.573221</td>\n",
       "    </tr>\n",
       "    <tr>\n",
       "      <th>design</th>\n",
       "      <td>-0.606658</td>\n",
       "    </tr>\n",
       "    <tr>\n",
       "      <th>requirements</th>\n",
       "      <td>-0.611959</td>\n",
       "    </tr>\n",
       "    <tr>\n",
       "      <th>machine</th>\n",
       "      <td>-0.614228</td>\n",
       "    </tr>\n",
       "    <tr>\n",
       "      <th>software</th>\n",
       "      <td>-0.635190</td>\n",
       "    </tr>\n",
       "    <tr>\n",
       "      <th>engineering</th>\n",
       "      <td>-0.635191</td>\n",
       "    </tr>\n",
       "    <tr>\n",
       "      <th>management</th>\n",
       "      <td>-0.661291</td>\n",
       "    </tr>\n",
       "    <tr>\n",
       "      <th>learning</th>\n",
       "      <td>-0.781140</td>\n",
       "    </tr>\n",
       "    <tr>\n",
       "      <th>development</th>\n",
       "      <td>-0.815223</td>\n",
       "    </tr>\n",
       "  </tbody>\n",
       "</table>\n",
       "</div>"
      ],
      "text/plain": [
       "                         0\n",
       "manage           -0.431910\n",
       "solution         -0.442082\n",
       "cloud            -0.454190\n",
       "science          -0.467025\n",
       "gathering        -0.467277\n",
       "performance      -0.485089\n",
       "process          -0.486626\n",
       "functional       -0.490247\n",
       "business         -0.500074\n",
       "business process -0.535130\n",
       "architecture     -0.544086\n",
       "machine learning -0.573221\n",
       "design           -0.606658\n",
       "requirements     -0.611959\n",
       "machine          -0.614228\n",
       "software         -0.635190\n",
       "engineering      -0.635191\n",
       "management       -0.661291\n",
       "learning         -0.781140\n",
       "development      -0.815223"
      ]
     },
     "execution_count": 89,
     "metadata": {},
     "output_type": "execute_result"
    }
   ],
   "source": [
    "pd.DataFrame(lr_imb.coef_, columns=cvt.get_feature_names()).transpose().sort_values(by=0,ascending=False).tail(20)"
   ]
  },
  {
   "cell_type": "code",
   "execution_count": 90,
   "metadata": {},
   "outputs": [
    {
     "data": {
      "text/plain": [
       "0    563\n",
       "1     20\n",
       "Name: y, dtype: int64"
      ]
     },
     "execution_count": 90,
     "metadata": {},
     "output_type": "execute_result"
    }
   ],
   "source": [
    "ml.y.value_counts()"
   ]
  },
  {
   "cell_type": "code",
   "execution_count": 91,
   "metadata": {},
   "outputs": [
    {
     "name": "stdout",
     "output_type": "stream",
     "text": [
      "Upsample Test Score: 0.0\n",
      "                  precision    recall  f1-score   support\n",
      "\n",
      "not_data_analyst       0.97      1.00      0.98       112\n",
      " is_data_analyst       0.00      0.00      0.00         4\n",
      "\n",
      "       micro avg       0.97      0.97      0.97       116\n",
      "       macro avg       0.48      0.50      0.49       116\n",
      "    weighted avg       0.93      0.97      0.95       116\n",
      "\n"
     ]
    }
   ],
   "source": [
    "# Use RF with smote up sampling\n",
    "\n",
    "rf=RandomForestClassifier()\n",
    "\n",
    "rf.fit(X_smote,y_smote)\n",
    "smote_predict = rf.predict(X_test)\n",
    "smote_recall = recall_score(y_test, smote_predict)\n",
    "\n",
    "print (\"Upsample Test Score:\", smote_recall.round(2))\n",
    "\n",
    "print(classification_report(y_test, smote_predict, target_names=['not_data_analyst', 'is_data_analyst']))"
   ]
  },
  {
   "cell_type": "code",
   "execution_count": 92,
   "metadata": {
    "scrolled": true
   },
   "outputs": [
    {
     "data": {
      "text/html": [
       "<div>\n",
       "<style scoped>\n",
       "    .dataframe tbody tr th:only-of-type {\n",
       "        vertical-align: middle;\n",
       "    }\n",
       "\n",
       "    .dataframe tbody tr th {\n",
       "        vertical-align: top;\n",
       "    }\n",
       "\n",
       "    .dataframe thead th {\n",
       "        text-align: right;\n",
       "    }\n",
       "</style>\n",
       "<table border=\"1\" class=\"dataframe\">\n",
       "  <thead>\n",
       "    <tr style=\"text-align: right;\">\n",
       "      <th></th>\n",
       "      <th>importance</th>\n",
       "    </tr>\n",
       "  </thead>\n",
       "  <tbody>\n",
       "    <tr>\n",
       "      <th>integrity</th>\n",
       "      <td>0.074668</td>\n",
       "    </tr>\n",
       "    <tr>\n",
       "      <th>decisions</th>\n",
       "      <td>0.043688</td>\n",
       "    </tr>\n",
       "    <tr>\n",
       "      <th>databases</th>\n",
       "      <td>0.042578</td>\n",
       "    </tr>\n",
       "    <tr>\n",
       "      <th>data analyst</th>\n",
       "      <td>0.040336</td>\n",
       "    </tr>\n",
       "    <tr>\n",
       "      <th>provide</th>\n",
       "      <td>0.029474</td>\n",
       "    </tr>\n",
       "    <tr>\n",
       "      <th>details</th>\n",
       "      <td>0.025587</td>\n",
       "    </tr>\n",
       "    <tr>\n",
       "      <th>queries</th>\n",
       "      <td>0.022160</td>\n",
       "    </tr>\n",
       "    <tr>\n",
       "      <th>record</th>\n",
       "      <td>0.019081</td>\n",
       "    </tr>\n",
       "    <tr>\n",
       "      <th>analysis financial</th>\n",
       "      <td>0.017681</td>\n",
       "    </tr>\n",
       "    <tr>\n",
       "      <th>html</th>\n",
       "      <td>0.017391</td>\n",
       "    </tr>\n",
       "  </tbody>\n",
       "</table>\n",
       "</div>"
      ],
      "text/plain": [
       "                    importance\n",
       "integrity             0.074668\n",
       "decisions             0.043688\n",
       "databases             0.042578\n",
       "data analyst          0.040336\n",
       "provide               0.029474\n",
       "details               0.025587\n",
       "queries               0.022160\n",
       "record                0.019081\n",
       "analysis financial    0.017681\n",
       "html                  0.017391"
      ]
     },
     "execution_count": 92,
     "metadata": {},
     "output_type": "execute_result"
    }
   ],
   "source": [
    "pd.DataFrame(rf.feature_importances_, index=cvt.get_feature_names()\n",
    "             ,columns=['importance']).sort_values('importance',ascending=False).head(10)"
   ]
  },
  {
   "cell_type": "code",
   "execution_count": null,
   "metadata": {},
   "outputs": [],
   "source": []
  }
 ],
 "metadata": {
  "kernelspec": {
   "display_name": "Python 3",
   "language": "python",
   "name": "python3"
  },
  "language_info": {
   "codemirror_mode": {
    "name": "ipython",
    "version": 3
   },
   "file_extension": ".py",
   "mimetype": "text/x-python",
   "name": "python",
   "nbconvert_exporter": "python",
   "pygments_lexer": "ipython3",
   "version": "3.7.3"
  }
 },
 "nbformat": 4,
 "nbformat_minor": 2
}
