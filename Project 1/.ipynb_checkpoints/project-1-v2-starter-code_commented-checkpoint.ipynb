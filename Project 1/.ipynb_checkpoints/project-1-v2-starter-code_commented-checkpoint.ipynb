{
 "cells": [
  {
   "cell_type": "markdown",
   "metadata": {},
   "source": [
    "<img src=\"http://imgur.com/1ZcRyrc.png\" style=\"float: left; margin: 15px; height: 80px\">\n",
    "\n",
    "# Project 1\n",
    "\n",
    "### Building \"Pokemon Stay\"\n",
    "\n",
    "---\n",
    "You are an analyst at a \"scrappy\" online gaming company that specializes in remakes of last year's fads.\n",
    "\n",
    "Your boss, who runs the product development team, is convinced that Pokemon Go's fatal flaw was that you had to actually move around outside. She has design mock-ups for a new game called Pokemon Stay: in this version players still need to move, but just from website to website. Pokemon gyms are now popular online destinations, and catching Pokemon in the \"wild\" simply requires browsing the internet for hours in the comfort of your home.\n",
    "\n",
    "She wants you to program a prototype version of the game, and analyze the planned content to help the team calibrate the design."
   ]
  },
  {
   "cell_type": "markdown",
   "metadata": {},
   "source": [
    "---\n",
    "<p><font  color=\"9966FF\">***COMMENTS:***.<br>\n",
    "<p>*Command of basic Python data structures:* Student used correct data structers</p>\n",
    "<p>*Command of basic Python syntax and control flow:* Student demonstrated a good understanding of Python syntax and control flow.</p>\n",
    "<p>*Comfort with calculating basic descriptive statistics:*  Student demonstrated a good understanding of basic descriptive statistics </p>\n",
    "\n",
    "<b><p> The code is clean and well commented. Please, see more detailed comments after each question. </p></b></font></p>\n",
    "\n",
    "--- \n",
    "\n"
   ]
  },
  {
   "cell_type": "markdown",
   "metadata": {},
   "source": [
    "#### Package imports\n",
    "\n",
    "The pprint package below is the only package imported here, and it's not even strictly required to do any of the project. Printing python variables and objects with pprint can help to format them in a \"prettier\" way."
   ]
  },
  {
   "cell_type": "code",
   "execution_count": 1,
   "metadata": {
    "collapsed": true
   },
   "outputs": [],
   "source": [
    "from pprint import pprint"
   ]
  },
  {
   "cell_type": "markdown",
   "metadata": {},
   "source": [
    "<img src=\"http://imgur.com/l5NasQj.png\" style=\"float: left; margin: 25px 15px 0px 0px; height: 25px\">\n",
    "\n",
    "## 1. Defining a player\n",
    "\n",
    "---\n",
    "\n",
    "The player variables are:\n",
    "\n",
    "    player_id : id code unique to each player (integer)\n",
    "    player_name : entered name of the player (string)\n",
    "    time_played : number of time played the game in minutes (float)\n",
    "    player_pokemon: the player's captured pokemon (dictionary)\n",
    "    gyms_visited: ids of the gyms that a player has visited (list)\n",
    "    \n",
    "Create the components for a player object by defining each of these variables. The dictionary and list variables should just be defined as empty; you can use any (correctly typed) values for the others."
   ]
  },
  {
   "cell_type": "code",
   "execution_count": 2,
   "metadata": {},
   "outputs": [
    {
     "ename": "SyntaxError",
     "evalue": "invalid syntax (<ipython-input-2-414cf32baf7b>, line 3)",
     "output_type": "error",
     "traceback": [
      "\u001b[0;36m  File \u001b[0;32m\"<ipython-input-2-414cf32baf7b>\"\u001b[0;36m, line \u001b[0;32m3\u001b[0m\n\u001b[0;31m    player_name : 'Andrew'\u001b[0m\n\u001b[0m                ^\u001b[0m\n\u001b[0;31mSyntaxError\u001b[0m\u001b[0;31m:\u001b[0m invalid syntax\n"
     ]
    }
   ],
   "source": [
    "# a list containing a dictionary is to facilitate storing of multiple players' database\n",
    "player_id =1\n",
    "player_name : 'Andrew'  \n",
    "time_played : 123.45  \n",
    "player_pokemon : { } \n",
    "gyms_visited : [ ] "
   ]
  },
  {
   "cell_type": "markdown",
   "metadata": {},
   "source": [
    "---\n",
    "<p><font size=\"3\" color=\"9966FF\">Before submission you should run all your cells and check whether they all work. I can guess what you was trying to do, but the Python syntax is not correct. </font></p>\n",
    "\n",
    "--- "
   ]
  },
  {
   "cell_type": "markdown",
   "metadata": {},
   "source": [
    "<img src=\"http://imgur.com/l5NasQj.png\" style=\"float: left; margin: 25px 15px 0px 0px; height: 25px\">\n",
    "\n",
    "## 2. Defining \"gym\" locations\n",
    "\n",
    "---\n",
    "\n",
    "As the sole programmer, Pokemon Stay will have to start small. To begin, there will be 10 different gym location websites on the internet. The gym locations are:\n",
    "\n",
    "    1. 'reddit.com'\n",
    "    2. 'amazon.com'\n",
    "    3. 'twitter.com'\n",
    "    4. 'linkedin.com'\n",
    "    5. 'ebay.com'\n",
    "    6. 'netflix.com'\n",
    "    7. 'sporcle.com'\n",
    "    8. 'stackoverflow.com'\n",
    "    9. 'github.com'\n",
    "    10. 'quora.com'\n",
    "\n",
    "1. Set up a list of all the gym locations. This will be a list of strings.\n",
    "2. Append two of these locations to your player's list of visited gyms.\n",
    "3. Print the list."
   ]
  },
  {
   "cell_type": "code",
   "execution_count": 3,
   "metadata": {},
   "outputs": [
    {
     "name": "stdout",
     "output_type": "stream",
     "text": [
      "['reddit.com', 'amazon.com']\n"
     ]
    }
   ],
   "source": [
    "#list of total gyms available\n",
    "\n",
    "pokemon_gyms =  ['reddit.com',\n",
    "                'amazon.com',\n",
    "                'twitter.com',\n",
    "                'linkedin.com',\n",
    "                'ebay.com',\n",
    "                'netflix.com',\n",
    "                'sporcle.com',\n",
    "                'stackoverflow.com',\n",
    "                'github.com',\n",
    "                'quora.com' ]\n",
    "\n",
    "\n",
    "#append 2 locations to the gyms_visited by the player\n",
    "gyms_visited = [pokemon_gyms[0],pokemon_gyms[1]] \n",
    "pprint(gyms_visited)"
   ]
  },
  {
   "cell_type": "markdown",
   "metadata": {},
   "source": [
    "---\n",
    "<p><font size=\"3\" color=\"9966FF\">***Correct***.</font></p>\n",
    "\n",
    "--- "
   ]
  },
  {
   "cell_type": "markdown",
   "metadata": {},
   "source": [
    "<img src=\"http://imgur.com/l5NasQj.png\" style=\"float: left; margin: 25px 15px 0px 0px; height: 25px\">\n",
    "\n",
    "## 3. Create a pokedex\n",
    "\n",
    "---\n",
    "\n",
    "We also need to create some pokemon to catch. Each pokemon will be defined by these variables:\n",
    "\n",
    "    pokemon_id : unique identifier for each pokemon (integer)\n",
    "    name : the name of the pokemon (string)\n",
    "    type : the category of pokemon (string)\n",
    "    hp : base hitpoints (integer)\n",
    "    attack : base attack (integer)\n",
    "    defense : base defense (integer)\n",
    "    special_attack : base special attack (integer)\n",
    "    special_defense : base sepecial defense (integer)\n",
    "    speed : base speed (integer)\n",
    "\n",
    "We are only going to create 3 different pokemon with these `pokemon_id` and `pokemon_name` values:\n",
    "\n",
    "    1 : 'charmander'\n",
    "    2 : 'squirtle'\n",
    "    3 : 'bulbasaur'\n",
    "\n",
    "Create a dictionary that will contain the pokemon. The keys of the dictionary will be the `pokemon_id` and the values will themselves dictionaries that contain the other pokemon variables. The structure of the pokedex dictionary will start like so:\n",
    "     \n",
    "     {\n",
    "         1: {\n",
    "                 'name':'charmander',\n",
    "                 'type':'fire',\n",
    "                 ...\n",
    "                 \n",
    "The `type` of charmander, squirtle, and bulbasaur should be `'fire'`, `'water'`, and `'poison'` respectively. The other values are up to you, make them anything you like!\n",
    "\n",
    "Print (or pretty print) the pokedex dictionary with the 3 pokemon."
   ]
  },
  {
   "cell_type": "code",
   "execution_count": 4,
   "metadata": {
    "scrolled": true
   },
   "outputs": [
    {
     "name": "stdout",
     "output_type": "stream",
     "text": [
      "{1: {'attack': 5,\n",
      "     'defence': 6,\n",
      "     'hp': 4,\n",
      "     'name': 'charmander',\n",
      "     'special_attack': 7,\n",
      "     'special_defense': 8,\n",
      "     'speed': 9,\n",
      "     'type': 'fire'},\n",
      " 2: {'attack': 7,\n",
      "     'defence': 8,\n",
      "     'hp': 4,\n",
      "     'name': 'squirtle',\n",
      "     'special_attack': 7,\n",
      "     'special_defense': 8,\n",
      "     'speed': 9,\n",
      "     'type': 'water'},\n",
      " 3: {'attack': 9,\n",
      "     'defence': 10,\n",
      "     'hp': 4,\n",
      "     'name': 'bulbasaur',\n",
      "     'special_attack': 7,\n",
      "     'special_defense': 8,\n",
      "     'speed': 9,\n",
      "     'type': 'poison'}}\n"
     ]
    }
   ],
   "source": [
    "def func_pokedex(a,b,c,d,e,f,g,h,i):\n",
    "    \"\"\"\n",
    "    This function create pokemon monster based on the following parameters.\n",
    "    \n",
    "    a pokemon_id : unique identifier for each pokemon (integer)\n",
    "    b name : the name of the pokemon (string)\n",
    "    c type : the category of pokemon (string)\n",
    "    d hp : base hitpoints (integer)\n",
    "    e attack : base attack (integer)\n",
    "    f defense : base defense (integer)\n",
    "    g special_attack : base special attack (integer)\n",
    "    h special_defense : base sepecial defense (integer)\n",
    "    i speed : base speed (integer)\n",
    "    \n",
    "    \"\"\"\n",
    "    \n",
    "    \n",
    "    return {a:{'name': b,\n",
    "             'type': c,\n",
    "             'hp': d,\n",
    "             'attack' : e,\n",
    "             'defence': f,\n",
    "             'special_attack':g,\n",
    "             'special_defense':h,\n",
    "             'speed': i}}\n",
    "\n",
    "poke_dex={}\n",
    "\n",
    "poke_dex=func_pokedex(1,'charmander','fire',4,5,6,7,8,9)\n",
    "poke_dex.update(func_pokedex(2,'squirtle','water',4,7,8,7,8,9))\n",
    "poke_dex.update(func_pokedex(3,'bulbasaur','poison',4,9,10,7,8,9))\n",
    "\n",
    "\n",
    "pprint(poke_dex)"
   ]
  },
  {
   "cell_type": "markdown",
   "metadata": {},
   "source": [
    "---\n",
    "<p><font size=\"3\" color=\"9966FF\">***Correct*** But argument's names should be meaningful. Eventhrough you added the description, please rename them. </font></p>\n",
    "\n",
    "--- "
   ]
  },
  {
   "cell_type": "markdown",
   "metadata": {},
   "source": [
    "<img src=\"http://imgur.com/l5NasQj.png\" style=\"float: left; margin: 25px 15px 0px 0px; height: 25px\">\n",
    "\n",
    "## 4. Create a data structure for players\n",
    "\n",
    "---\n",
    "\n",
    "### 4.1 \n",
    "\n",
    "In order to maintain a database of multiple players, create a dictionary that keeps track of players indexed by `player_id`. \n",
    "\n",
    "The keys of the dictionary will be `player_id` and values will be dictionaries containing each player's variables (from question 1). \n",
    "\n",
    "Construct the `players` dictionary and insert the player that you defined in question 1, then print `players`."
   ]
  },
  {
   "cell_type": "code",
   "execution_count": 4,
   "metadata": {
    "scrolled": true
   },
   "outputs": [
    {
     "name": "stdout",
     "output_type": "stream",
     "text": [
      "{1: {'gyms_visited': ['reddit.com', 'amazon.com'],\n",
      "     'player_name': 'Andrew',\n",
      "     'player_pokemon': {},\n",
      "     'time_played': 2.22}}\n"
     ]
    }
   ],
   "source": [
    "def func_player(a,b,c,d,e):\n",
    "    \"\"\"\n",
    "   This simple function will create players based on the following parameters\n",
    "   \n",
    "   a player_id : id code unique to each player (integer)\n",
    "   b player_name : entered name of the player (string)\n",
    "   c time_played : number of time played the game in minutes (float)\n",
    "   d player_pokemon: the player's captured pokemon (dictionary)\n",
    "   e gyms_visited: ids of the gyms that a player has visited (list)\n",
    "    \n",
    "    \"\"\"\n",
    "    \n",
    "    return {a:{'player_name': b,\n",
    "             'time_played': c,\n",
    "             'player_pokemon': d,\n",
    "             'gyms_visited': e\n",
    "            }}\n",
    "             \n",
    "             \n",
    "players=func_player(1,'Andrew',2.22,{},gyms_visited)\n",
    "\n",
    "pprint(players)"
   ]
  },
  {
   "cell_type": "markdown",
   "metadata": {},
   "source": [
    "---\n",
    "<p><font size=\"3\" color=\"9966FF\">***Correct*** But argument's names should be meaningful. Eventhrough you added the description, please rename them.</font></p>\n",
    "\n",
    "--- "
   ]
  },
  {
   "cell_type": "markdown",
   "metadata": {},
   "source": [
    "---\n",
    "\n",
    "### 4.2\n",
    "\n",
    "Create a new player with `player_id = 2` in the `players` dictionary. Leave the `'player_pokemon'` dictionary empty. Append `'alcatraz'` and `'pacific_beach'` to the `'gyms_visited'` list for player 2.\n",
    "\n",
    "The `'player_name'` and `'time_played'` values are up to you, but must be a string and float, respectively.\n",
    "\n",
    "Remember, the player_id is the key for the player in the players dictionary.\n",
    "\n",
    "Print the `players` dictionary with the new player inserted."
   ]
  },
  {
   "cell_type": "code",
   "execution_count": 5,
   "metadata": {
    "scrolled": true
   },
   "outputs": [
    {
     "name": "stdout",
     "output_type": "stream",
     "text": [
      "{1: {'gyms_visited': ['reddit.com', 'amazon.com'],\n",
      "     'player_name': 'Andrew',\n",
      "     'player_pokemon': {},\n",
      "     'time_played': 2.22},\n",
      " 2: {'gyms_visited': ['alcatraz', 'pacific_beach', 'netflix.com'],\n",
      "     'player_name': 'Alibaba',\n",
      "     'player_pokemon': {},\n",
      "     'time_played': 2.22}}\n"
     ]
    }
   ],
   "source": [
    "#create player 2\n",
    "players.update(func_player(2,'Alibaba',2.22,{},[]))\n",
    "\n",
    "#append player 2 so that he has visited 2 + 1 more gyms\n",
    "#also, added netflix for q6 demo purposes\n",
    "players[2]['gyms_visited'] = ['alcatraz','pacific_beach','netflix.com']\n",
    "\n",
    "pprint(players)"
   ]
  },
  {
   "cell_type": "markdown",
   "metadata": {},
   "source": [
    "---\n",
    "<p><font size=\"3\" color=\"9966FF\">***Correct***  </font></p>\n",
    "\n",
    "--- "
   ]
  },
  {
   "cell_type": "markdown",
   "metadata": {},
   "source": [
    "<img src=\"http://imgur.com/l5NasQj.png\" style=\"float: left; margin: 25px 15px 0px 0px; height: 25px\">\n",
    "\n",
    "## 5. Add captured pokemon for each player\n",
    "\n",
    "---\n",
    "\n",
    "The `'player_pokemon'` keyed dictionaries for each player keep track of which of the pokemon each player has.\n",
    "\n",
    "The keys of the `'player_pokemon'` dictionaries are the pokemon ids that correspond to the ids in the `pokedex` dictionary you created earlier. The values are integers specifying the stats for the pokemon.\n",
    "\n",
    "Give player 1 a squirtle. Give player 2 charmander and a bulbasaur.\n",
    "\n",
    "Print the players dictionary after adding the pokemon for each player.\n"
   ]
  },
  {
   "cell_type": "code",
   "execution_count": 7,
   "metadata": {},
   "outputs": [
    {
     "name": "stdout",
     "output_type": "stream",
     "text": [
      "{1: {'gyms_visited': ['reddit.com', 'amazon.com'],\n",
      "     'player_name': 'Andrew',\n",
      "     'player_pokemon': {2: {'attack': 7,\n",
      "                            'defence': 8,\n",
      "                            'hp': 4,\n",
      "                            'name': 'squirtle',\n",
      "                            'special_attack': 7,\n",
      "                            'special_defense': 8,\n",
      "                            'speed': 9,\n",
      "                            'type': 'water'}},\n",
      "     'time_played': 2.22},\n",
      " 2: {'gyms_visited': ['alcatraz', 'pacific_beach', 'netflix.com'],\n",
      "     'player_name': 'Alibaba',\n",
      "     'player_pokemon': {1: {'attack': 5,\n",
      "                            'defence': 6,\n",
      "                            'hp': 4,\n",
      "                            'name': 'charmander',\n",
      "                            'special_attack': 7,\n",
      "                            'special_defense': 8,\n",
      "                            'speed': 9,\n",
      "                            'type': 'fire'},\n",
      "                        3: {'attack': 9,\n",
      "                            'defence': 10,\n",
      "                            'hp': 4,\n",
      "                            'name': 'bulbasaur',\n",
      "                            'special_attack': 7,\n",
      "                            'special_defense': 8,\n",
      "                            'speed': 9,\n",
      "                            'type': 'poison'}},\n",
      "     'time_played': 2.22}}\n"
     ]
    }
   ],
   "source": [
    "#use players function from above to append pokemons from another dictionary to the players dictionary\n",
    "\n",
    "players[1]['player_pokemon'][2] = poke_dex[2]\n",
    "players[2]['player_pokemon'][1] = poke_dex[1]\n",
    "players[2]['player_pokemon'][3] = poke_dex[3]\n",
    "pprint(players)"
   ]
  },
  {
   "cell_type": "markdown",
   "metadata": {},
   "source": [
    "---\n",
    "<p><font size=\"3\" color=\"9966FF\">***Correct***  </font></p>\n",
    "\n",
    "--- "
   ]
  },
  {
   "cell_type": "markdown",
   "metadata": {},
   "source": [
    "\n",
    "\n",
    "## 6. What gyms have players visited?\n",
    "\n",
    "---\n",
    "<img src=\"http://imgur.com/l5NasQj.png\" style=\"float: left; margin: 25px 15px 0px 0px; height: 25px\">\n",
    "### 6.1\n",
    "\n",
    "Write a for-loop that:\n",
    "\n",
    "1. Iterates through the `pokemon_gyms` list of gym locations you defined before.\n",
    "2. For each gym, iterate through each player in the `players` dictionary with a second, internal for-loop.\n",
    "3. If the player has visited the gym, print out \"[player] has visited [gym location].\", filling in [player] and [gym location] with the current player's name and current gym location."
   ]
  },
  {
   "cell_type": "code",
   "execution_count": 8,
   "metadata": {},
   "outputs": [
    {
     "name": "stdout",
     "output_type": "stream",
     "text": [
      "Andrew has visited reddit.com.\n",
      "Andrew has visited amazon.com.\n",
      "Alibaba has visited netflix.com.\n"
     ]
    }
   ],
   "source": [
    "#iterate through the gyms\n",
    "for gym in pokemon_gyms:\n",
    "   #iterate through the players\n",
    "    for id in players:\n",
    "        #check if the gym has been visited\n",
    "        if gym in players[id]['gyms_visited']:\n",
    "            #print the following if the above is true.\n",
    "            print('{} has visited {}.'.format(players[id]['player_name'],gym))\n",
    "        "
   ]
  },
  {
   "cell_type": "markdown",
   "metadata": {},
   "source": [
    "---\n",
    "<p><font size=\"3\" color=\"9966FF\">***Correct***  </font></p>\n",
    "\n",
    "--- "
   ]
  },
  {
   "cell_type": "markdown",
   "metadata": {},
   "source": [
    "<img src=\"http://imgur.com/xDpSobf.png\" style=\"float: left; margin: 25px 15px 0px 0px; height: 25px\">\n",
    "### 6.2\n",
    "\n",
    "How many times did that loop run? If you have N gyms and also N players, how many times would it run as a function of N?\n",
    "\n",
    "Can you think of a more efficient way to accomplish the same thing? \n",
    "\n",
    "(You can write your answer as Markdown text.)"
   ]
  },
  {
   "cell_type": "markdown",
   "metadata": {},
   "source": [
    "Q: How many times did that loop run?\n",
    "A: for gym in pokemon_gyms ( 10 loops )\n",
    "   for id in players ( 2 loops )\n",
    "   It will run for 20 loops\n",
    "\n",
    "Q: If you have N gyms and also N players, how many times would it run as a function of N?\n",
    "A: It will run for ( Ngyms * Nplayers) times\n",
    " \n",
    "Q: Can you think of a more efficient way to accomplish the same thing?\n",
    "A: It can be run using list comprehension.\n"
   ]
  },
  {
   "cell_type": "markdown",
   "metadata": {},
   "source": [
    "<img src=\"http://imgur.com/l5NasQj.png\" style=\"float: left; margin: 25px 15px 0px 0px; height: 25px\">\n",
    "\n",
    "## 7. Calculate player \"power\".\n",
    "\n",
    "---\n",
    "\n",
    "Define a function that will calculate a player's \"power\". Player power is defined as the sum of the base statistics all of their pokemon.\n",
    "\n",
    "Your function will:\n",
    "\n",
    "1. Accept the `players` dictionary, `pokedex` dictionary, and a player_id as arguments.\n",
    "2. For the specified player_id, look up that player's pokemon and their level(s).\n",
    "3. Find and aggregate the attack and defense values for each of the player's pokemon from the `pokedex` dictionary.\n",
    "4. Print \"[player name]'s power is [player power].\", where the player power is the sum of the base statistics for all of their pokemon.\n",
    "5. Return the player's power value.\n",
    "\n",
    "Print out the pokemon power for each of your players."
   ]
  },
  {
   "cell_type": "code",
   "execution_count": 9,
   "metadata": {},
   "outputs": [
    {
     "name": "stdout",
     "output_type": "stream",
     "text": [
      "Andrew's power is 15\n",
      "15\n",
      "Alibaba's power is 30\n",
      "30\n"
     ]
    }
   ],
   "source": [
    "def power(players_,pokedex_,player_id_):\n",
    "    \"\"\"\n",
    "   This function will fetch the player_id_ and outputs it's power\n",
    "   \n",
    "   players_ : dictionary\n",
    "   pokedex_ : pokedex\n",
    "   player_id_ : player_id\n",
    "    \n",
    "    \"\"\"\n",
    "    score=[] #collect the values of attack and defence for pokemons owned by players\n",
    "    for k,v in players_[player_id_]['player_pokemon'].items():\n",
    "\n",
    "        for x,y in v.items():\n",
    "            if x==\"attack\" or x==\"defence\":\n",
    "                score.append(y)\n",
    "    print(f\"{players_[player_id_]['player_name']}'s power is {sum(score)}\")\n",
    "    \n",
    "    return sum(score) #return the player's power value.\n",
    "\n",
    "print(power(players,poke_dex,1))\n",
    "print(power(players,poke_dex,2))    "
   ]
  },
  {
   "cell_type": "markdown",
   "metadata": {},
   "source": [
    "---\n",
    "<p><font size=\"3\" color=\"9966FF\">***Correct***  </font></p>\n",
    "\n",
    "--- "
   ]
  },
  {
   "cell_type": "markdown",
   "metadata": {
    "collapsed": true
   },
   "source": [
    "<img src=\"http://imgur.com/l5NasQj.png\" style=\"float: left; margin: 25px 15px 0px 0px; height: 25px\">\n",
    "\n",
    "## 8. Load a pokedex file containing all the pokemon\n",
    "\n",
    "---\n",
    "\n",
    "### 8.1\n",
    "\n",
    "While you were putting together the prototype code, your colleagues were preparing a dataset of Pokemon and their attributes. (This was a rush job, so they may have picked some crazy values for some...)\n",
    "\n",
    "The code below loads information from a comma separated value (csv) file. You need to parse this string into a more useable format. The format of the string is:\n",
    "\n",
    "- Rows are separated by newline characters: \\n\n",
    "- Columns are separated by commas: ,\n",
    "- All cells in the csv are double quoted. Ex: \"PokedexNumber\" is the first cell of the first row.\n",
    "\n",
    "\n",
    "Using for-loops, create a list of lists where each list within the overall list is a row of the csv/matrix, and each element in that list is a cell in that row. Additional criteria:\n",
    "\n",
    "1. Quotes are removed from each cell item.\n",
    "2. Numeric column values are converted to floats.\n",
    "3. There are some cells that are empty and have no information. For these cells put a -1 value in place.\n",
    "\n",
    "Your end result is effectively a matrix. Each list in the outer list is a row, and the *j*th elements of list together form the *j*th column, which represents a data attribute. The first three lists in your pokedex list should look like this:\n",
    "\n",
    "    ['PokedexNumber', 'Name', 'Type', 'Total', 'HP', 'Attack', 'Defense', 'SpecialAttack', 'SpecialDefense', 'Speed']\n",
    "    [1.0, 'Bulbasaur', 'GrassPoison', 318.0, 45.0, 49.0, 49.0, 65.0, 65.0, 45.0]\n",
    "    [2.0, 'Ivysaur', 'GrassPoison', 405.0, 60.0, 62.0, 63.0, 80.0, 80.0, 60.0]"
   ]
  },
  {
   "cell_type": "code",
   "execution_count": 11,
   "metadata": {
    "collapsed": true
   },
   "outputs": [],
   "source": [
    "# Code to read in pokedex info\n",
    "raw_pd = ''\n",
    "pokedex_file = 'pokedex_basic.csv'\n",
    "with open(pokedex_file, 'r') as f:\n",
    "    raw_pd = f.read()\n",
    "\n",
    "# the pokedex string is assigned to the raw_pd variable"
   ]
  },
  {
   "cell_type": "code",
   "execution_count": 12,
   "metadata": {},
   "outputs": [
    {
     "data": {
      "text/plain": [
       "['PokedexNumber,Name,Type,Total,HP,Attack,Defense,SpecialAttack,SpecialDefense,Speed',\n",
       " '001,Bulbasaur,GrassPoison,318,45,49,49,65,65,45',\n",
       " '002,Ivysaur,GrassPoison,405,60,62,63,80,80,60',\n",
       " '003,Venusaur,GrassPoison,525,80,82,83,100,100,80',\n",
       " '003,VenusaurMega Venusaur,GrassPoison,625,80,100,123,122,120,80']"
      ]
     },
     "execution_count": 12,
     "metadata": {},
     "output_type": "execute_result"
    }
   ],
   "source": [
    "clean1=raw_pd.replace('\"','').split('\\n') #1. Replace doublequotes with nothing and 2. split based on \\n \n",
    "clean1[:5] #print first 5 lines"
   ]
  },
  {
   "cell_type": "code",
   "execution_count": 13,
   "metadata": {},
   "outputs": [
    {
     "data": {
      "text/plain": [
       "[['PokedexNumber',\n",
       "  'Name',\n",
       "  'Type',\n",
       "  'Total',\n",
       "  'HP',\n",
       "  'Attack',\n",
       "  'Defense',\n",
       "  'SpecialAttack',\n",
       "  'SpecialDefense',\n",
       "  'Speed'],\n",
       " ['001',\n",
       "  'Bulbasaur',\n",
       "  'GrassPoison',\n",
       "  '318',\n",
       "  '45',\n",
       "  '49',\n",
       "  '49',\n",
       "  '65',\n",
       "  '65',\n",
       "  '45'],\n",
       " ['002', 'Ivysaur', 'GrassPoison', '405', '60', '62', '63', '80', '80', '60'],\n",
       " ['003',\n",
       "  'Venusaur',\n",
       "  'GrassPoison',\n",
       "  '525',\n",
       "  '80',\n",
       "  '82',\n",
       "  '83',\n",
       "  '100',\n",
       "  '100',\n",
       "  '80'],\n",
       " ['003',\n",
       "  'VenusaurMega Venusaur',\n",
       "  'GrassPoison',\n",
       "  '625',\n",
       "  '80',\n",
       "  '100',\n",
       "  '123',\n",
       "  '122',\n",
       "  '120',\n",
       "  '80']]"
      ]
     },
     "execution_count": 13,
     "metadata": {},
     "output_type": "execute_result"
    }
   ],
   "source": [
    "clean2=[] #initialize clean2 empty list \n",
    "for string in clean1: #run loop based on each string at clean1\n",
    "    clean2.append(string.split(',')) #obtain the string based on split function and store at clean2\n",
    "clean2[:5] #print first 5 lines"
   ]
  },
  {
   "cell_type": "code",
   "execution_count": 14,
   "metadata": {
    "scrolled": false
   },
   "outputs": [],
   "source": [
    "\n",
    "clean4=[] #initialize clean4 empty list\n",
    "\n",
    "for lst in clean2: #run loop based on each lst at clean2\n",
    "    clean3=[] #initialize clean3 empty list , it acts a temporary storage for each row(list)\n",
    "\n",
    "    for element in lst: #run loop based on each element at lst\n",
    "        if element.isdigit(): #if it's a number, float it and store at temp clean 3\n",
    "            clean3.append(float(element))\n",
    "        elif element == '': #if it's a space, input -1 and store at temp clean 3\n",
    "            clean3.append('-1')\n",
    "        else: #anything else, do nothing and store at temp clean 3\n",
    "            clean3.append(element)\n",
    "    \n",
    "    clean4.append(clean3) #consolidate processed lst and append to clean4\n",
    "\n",
    "#clean4\n",
    "        "
   ]
  },
  {
   "cell_type": "markdown",
   "metadata": {},
   "source": [
    "---\n",
    "<p><font size=\"3\" color=\"9966FF\">***Correct***  </font></p>\n",
    "\n",
    "--- "
   ]
  },
  {
   "cell_type": "markdown",
   "metadata": {},
   "source": [
    "<img src=\"http://imgur.com/xDpSobf.png\" style=\"float: left; margin: 25px 15px 0px 0px; height: 25px\">\n",
    "\n",
    "### 8.2 Parse the raw pokedex with list comprehensions\n",
    "\n",
    "---\n",
    "\n",
    "Perform the same parsing as above, but **using only a single list comprehension** instead of for loops. You may have nested list comprehensions within the main list comprehension! The output should be exactly the same."
   ]
  },
  {
   "cell_type": "markdown",
   "metadata": {},
   "source": [
    "<img src=\"http://imgur.com/l5NasQj.png\" style=\"float: left; margin: 25px 15px 0px 0px; height: 25px\">\n",
    "\n",
    "## 9. Write a function to generate the full pokedex\n",
    "\n",
    "---\n",
    "\n",
    "Write a function that recreates the pokedex you made before, but with the data read in from the full pokemon file. The `PokedexNumber` should be used as the `pokemon_id` key values for the dictionary of pokemon.\n",
    "\n",
    "Your function should:\n",
    "\n",
    "1. Take the parsed pokedex information you created above as an argument.\n",
    "2. Return a dictionary in the same format as your original pokedex you created before containing the information from the parsed full pokedex file.\n",
    "\n",
    "To test the function, print out the pokemon with id = 100."
   ]
  },
  {
   "cell_type": "code",
   "execution_count": 15,
   "metadata": {
    "scrolled": true
   },
   "outputs": [],
   "source": [
    "def pokedex_func(pokaemon_clean4):\n",
    "    \"\"\"\n",
    "    This function creates pokemon mega nested dictionary with an input from a list of list aka Matrix.\n",
    "    It is recommended that the following columns and values are required for it to run.\n",
    "    ['PokedexNumber', 'Name', 'Type', 'Total', 'HP', 'Attack', 'Defense', 'SpecialAttack', 'SpecialDefense', 'Speed']\n",
    "    PokedexNumber must be unique else the latest same PokedexNumber will be overwritten\n",
    "    \n",
    "    \"\"\"\n",
    "    pokedex={} #initialize pokedex dictionary\n",
    "    \n",
    "    #The loop will start from 0 and ends at the end of the table which is len(pokaemon_clean4)-1\n",
    "    #A -1 is required because we start from row 1 rather 0 and -1 is required to compensate.\n",
    "    \n",
    "    for row_num in range(len(pokaemon_clean4)-1): \n",
    "        # ext_key = PokedexNumber as col 0, row 1. Start from row 1 because row 0 is column name\n",
    "        ext_key=clean4[row_num+1][0] \n",
    "        \n",
    "        # inner_key = Column Names. Start from col 1 till the end.\n",
    "        # 'Name', 'Type', 'Total', 'HP', 'Attack', 'Defense', 'SpecialAttack', 'SpecialDefense', 'Speed'\n",
    "        inner_key = clean4[0][1:]     \n",
    "        \n",
    "        #inner value = VALUES for 'Name', 'Type', 'Total', 'HP', 'Attack', 'Defense', 'SpecialAttack', 'SpecialDefense', 'Speed'\n",
    "        #Start from row 1 because row 0 is column name\n",
    "        inner_value=clean4[row_num+1][1:] \n",
    "        \n",
    "        #the zip_inner_value = inner dictionary is created based on inner_key and inner_value\n",
    "        zip_inner_value=dict(zip(inner_key,inner_value))\n",
    "        \n",
    "        #the pokedex dictionary is created based on ext_key = pokedexNumber\n",
    "        pokedex[ext_key]=zip_inner_value\n",
    "        \n",
    "    return pokedex #the whole pokedex dictionary is returned as per question requirement\n",
    "\n",
    "pokedex_dictionary=pokedex_func(clean4) #clean4 is the cleaned table from the previous questions\n",
    "pprint(pokedex_dictionary)"
   ]
  },
  {
   "cell_type": "markdown",
   "metadata": {},
   "source": [
    "---\n",
    "<p><font size=\"3\" color=\"9966FF\">***It works*** However, in line 20 and 24 you start using your global variable `clean4` instead of your argument `pokaemon_clean4` . This is not a good practice. For instance, if you have two different pokedex datasets, whenever you call `pokedex_func` for this two pokedex, you will get results related to the `clean4`. Potentially you will get an error also, because for loop iterates through defferent lists `pokaemon_clean4` and then on `clean4`.   </font></p>\n",
    "\n",
    "--- "
   ]
  },
  {
   "cell_type": "code",
   "execution_count": 16,
   "metadata": {},
   "outputs": [
    {
     "data": {
      "text/plain": [
       "{'Attack': 30.0,\n",
       " 'Defense': 50.0,\n",
       " 'HP': 40.0,\n",
       " 'Name': 'Voltorb',\n",
       " 'SpecialAttack': 55.0,\n",
       " 'SpecialDefense': 55.0,\n",
       " 'Speed': 100.0,\n",
       " 'Total': 330.0,\n",
       " 'Type': 'Electric'}"
      ]
     },
     "execution_count": 16,
     "metadata": {},
     "output_type": "execute_result"
    }
   ],
   "source": [
    "def display_pokedex_func(pkm_id):\n",
    "    \"\"\"\n",
    "    This function returns the pokaemon profile when the ID is provided.\n",
    "    \n",
    "    \"\"\"\n",
    "    return pokedex_dictionary[pkm_id]\n",
    "\n",
    "display_pokedex_func(100) #input pokemon ID #100 "
   ]
  },
  {
   "cell_type": "code",
   "execution_count": 17,
   "metadata": {
    "scrolled": false
   },
   "outputs": [],
   "source": [
    "def pokedex_func_rev2(pokaemon_clean4):\n",
    "    \"\"\"\n",
    "    This function is the same as the original version but it will accept all Pokaemons('autocorrects') \n",
    "    as a running counter is used rather than using the pokedexNumber. All codes are the same except line #10\n",
    "    Counter will superseed PokedexNumber.\n",
    "    \"\"\"\n",
    "    pokedex_rev2={} \n",
    "    \n",
    "    for row_num in range(len(pokaemon_clean4)-1):     \n",
    "        ext_key=row_num+1 # ext_key = counter\n",
    "        inner_key = clean4[0][1:]      \n",
    "        inner_value=clean4[row_num+1][1:] \n",
    "        zip_inner_value=dict(zip(inner_key,inner_value))\n",
    "        pokedex_rev2[ext_key]=zip_inner_value\n",
    "    \n",
    "    return pokedex_rev2 #the whole pokedex dictionary inclusive of redundant IDs are returned as per question requirement\n",
    "\n",
    "pokedex_dictionary_v2=pokedex_func_rev2(clean4) #clean4 is the cleaned table from the previous questions\n",
    "\n",
    "#pokedex_dictionary_v2"
   ]
  },
  {
   "cell_type": "markdown",
   "metadata": {},
   "source": [
    "---\n",
    "<p><font size=\"3\" color=\"9966FF\">***It works*** Same issues as with previous function. And you do not need to create two functions, use only one which can handle the rows with same ids. If you are not sure what to do with duplicates, explore them. In this case it is obvious that pokemons are different, so we need to keep all of them. </font></p>\n",
    "\n",
    "--- "
   ]
  },
  {
   "cell_type": "markdown",
   "metadata": {},
   "source": [
    "<img src=\"http://i.imgur.com/GCAf1UX.png\" style=\"float: left; margin: 25px 15px 0px 0px; height: 25px\">\n",
    "\n",
    "## 10. Write a function to generate a \"filtered\" pokedex\n",
    "---\n",
    "Your function should:\n",
    "1. Take the parsed pokedex information you created above as an argument.\n",
    "1. Take a dictionary as a parameter with keys matching the features of the Pokedex, filtering by exact match for string type values, and/or filter continuous variables specified value that is greater than or equal to the dictionary key parameter.\n",
    "1. Return multiple elements from the Pokedex\n",
    "\n",
    "Example:\n",
    "\n",
    "```python\n",
    "\n",
    "# Only filter based on parameters passed\n",
    "filter_options = {\n",
    "    'Attack':   25,\n",
    "    'Defense':  30,\n",
    "    'Type':     'Electric'\n",
    "}\n",
    "\n",
    "# Return records with attack >= 24, defense >= 30, and type == \"Electric\"\n",
    "# Also anticipate that other paramters can also be passed such as \"SpecialAttack\", \"Speed\", etc.\n",
    "filtered_pokedex(pokedex_data, filter=filter_options)\n",
    "\n",
    "# Example output:\n",
    "# [{'Attack': 30.0,\n",
    "#  'Defense': 50.0,\n",
    "#  'HP': 40.0,\n",
    "#  'Name': 'Voltorb',\n",
    "#  'SpecialAttack': 55.0,\n",
    "#  'SpecialDefense': 55.0,\n",
    "#  'Speed': 100.0,\n",
    "#  'Total': 330.0,\n",
    "#  'Type': 'Electric'},\n",
    "#  {'Attack': 30.0,\n",
    "#  'Defense': 33.0,\n",
    "#  'HP': 32.0,\n",
    "#  'Name': 'Pikachu',\n",
    "#  'SpecialAttack': 55.0,\n",
    "#  'SpecialDefense': 55.0,\n",
    "#  'Speed': 100.0,\n",
    "#  'Total': 330.0,\n",
    "#  'Type': 'Electric'},\n",
    "#  ... etc\n",
    "#  ]\n",
    "\n",
    "```\n",
    "\n"
   ]
  },
  {
   "cell_type": "code",
   "execution_count": 26,
   "metadata": {
    "collapsed": true
   },
   "outputs": [],
   "source": [
    "#stuck at the conditions, i leave it at a==a for no errors purposes\n",
    "\n",
    "a= filter_options = {\n",
    "    'Attack':   25,\n",
    "    'Defense':  30,\n",
    "    'Type':     'Electric'\n",
    "}\n",
    "\n",
    "#filtered_dict = {k:v for k,v in pokedex_dictionary.items() if a > a }"
   ]
  },
  {
   "cell_type": "markdown",
   "metadata": {
    "collapsed": true
   },
   "source": [
    "\n",
    "## 9. Descriptive statistics on the prototype pokedex\n",
    "\n",
    "<img src=\"http://imgur.com/l5NasQj.png\" style=\"float: left; margin: 25px 15px 0px 0px; height: 25px\">\n",
    "### 9.1\n",
    "\n",
    "What is the population mean and standard deviation of the \"Total\" attribute for all characters in the Pokedex?\n",
    "\n"
   ]
  },
  {
   "cell_type": "code",
   "execution_count": 18,
   "metadata": {},
   "outputs": [
    {
     "name": "stdout",
     "output_type": "stream",
     "text": [
      "This calculation is for pokedex dictionary whereby the pokemons values are truncated\n",
      "\n",
      "The mean is 424.950069348\n",
      "The standard deviation is 118.711775818\n"
     ]
    }
   ],
   "source": [
    "import numpy as np\n",
    "print('This calculation is for pokedex dictionary whereby the pokemons values are truncated\\n')\n",
    "\n",
    "# get value of 'Total' column in a list by using list comprehension\n",
    "# loop through all items in the pokedex_dictionary\n",
    "total_list = [ pokedex_dictionary[poke_id].get('Total') for poke_id in pokedex_dictionary]\n",
    "\n",
    "print('The mean is {}'.format(np.mean(total_list))) #use np.mean() to calculate mean of total_list\n",
    "print('The standard deviation is {}'.format(np.std(total_list))) #use np.std() to calculate std dev. of total_list"
   ]
  },
  {
   "cell_type": "markdown",
   "metadata": {},
   "source": [
    "---\n",
    "<p><font size=\"3\" color=\"9966FF\">***Correct***. </font></p>\n",
    "\n",
    "--- "
   ]
  },
  {
   "cell_type": "code",
   "execution_count": 19,
   "metadata": {},
   "outputs": [
    {
     "name": "stdout",
     "output_type": "stream",
     "text": [
      "This calculation is for pokedex dictionary whereby all the pokemons values are encounted for\n",
      "\n",
      "The mean is 435.1275\n",
      "The standard deviation is 119.962020005\n"
     ]
    }
   ],
   "source": [
    "# same as above but I'm using total_list_v2 dictionary (all values preserved)\n",
    "import numpy as np\n",
    "print('This calculation is for pokedex dictionary whereby all the pokemons values are encounted for\\n')\n",
    "total_list_v2 = [ pokedex_dictionary_v2[poke_id].get('Total') for poke_id in pokedex_dictionary_v2]\n",
    "\n",
    "print('The mean is {}'.format(np.mean(total_list_v2)))\n",
    "print('The standard deviation is {}'.format(np.std(total_list_v2)))"
   ]
  },
  {
   "cell_type": "markdown",
   "metadata": {},
   "source": [
    "<img src=\"http://imgur.com/l5NasQj.png\" style=\"float: left; margin: 25px 15px 0px 0px; height: 25px\">\n",
    "### 9.2\n",
    "\n",
    "The game is no fun if the characters are wildly unbalanced! Are any characters \"overpowered\", which we'll define as having a \"Total\" more than three standard deviations from the population mean?"
   ]
  },
  {
   "cell_type": "code",
   "execution_count": 20,
   "metadata": {
    "scrolled": true
   },
   "outputs": [
    {
     "name": "stdout",
     "output_type": "stream",
     "text": [
      "This is the calculation for Truncated values\n",
      "\n",
      "Mean + 3 standard deviation is 781.085396801\n",
      "Mean - 3 standard deviation is 68.8147418956\n",
      "\n",
      "With the aid of the histogram, one can see that there are values that approx ~781\n"
     ]
    },
    {
     "data": {
      "image/png": "[encoded data removed]",
      "text/plain": [
       "<matplotlib.figure.Figure at 0x1043aa690>"
      ]
     },
     "metadata": {},
     "output_type": "display_data"
    },
    {
     "name": "stdout",
     "output_type": "stream",
     "text": [
      "We can see that there are no pokemon that is > 781\n",
      "But I am curious there should be some that is close to 781\n",
      "('MewtwoMega Mewtwo Y', 780.0)\n",
      "('KyogrePrimal Kyogre', 770.0)\n",
      "('GroudonPrimal Groudon', 770.0)\n",
      "('RayquazaMega Rayquaza', 780.0)\n",
      "\n",
      "Indeed the above pokemon are those that are close to 780\n"
     ]
    }
   ],
   "source": [
    "print('This is the calculation for Truncated values\\n')\n",
    "\n",
    "#import matplotlib and inline display\n",
    "import matplotlib.pyplot as plt\n",
    "%matplotlib inline \n",
    "\n",
    "#calculate ( mean + 3*std deviaton ) and ( mean - 3*std deviaton )\n",
    "positive_3sd = np.mean(total_list) + 3*np.std(total_list)\n",
    "print('Mean + 3 standard deviation is {}'.format(positive_3sd))\n",
    "negative_3sd = np.mean(total_list) - 3*np.std(total_list)\n",
    "print('Mean - 3 standard deviation is {}'.format(negative_3sd))\n",
    "print('\\nWith the aid of the histogram, one can see that there are values that approx ~781')\n",
    "\n",
    "#print out histogram\n",
    "plt.hist(total_list,bins=100)\n",
    "plt.xlabel('Total')\n",
    "plt.ylabel('frequency')\n",
    "plt.title(\"Pokaemon 'Total' distribution for Truncated Values\")\n",
    "plt.show()\n",
    "\n",
    "#we check if there are any pokemons total more than 781 which is value of  mean + 3std deviation)\n",
    "for num in range(1,len(pokedex_dictionary)): #pokedex key starts at 1 not 0\n",
    "    #no error means all pokemon below 781\n",
    "    assert pokedex_dictionary[num].get('Total') < ( np.mean(total_list) + 3*np.std(total_list))\n",
    "        \n",
    "print('We can see that there are no pokemon that is > 781') \n",
    "print('But I am curious there should be some that is close to 781')  \n",
    "\n",
    "#we check if there is any pokemons total > 750\n",
    "for num in range(1,len(pokedex_dictionary)):\n",
    "    if pokedex_dictionary[num].get('Total') > 750 :   \n",
    "        print(pokedex_dictionary[num]['Name'],pokedex_dictionary[num].get('Total'))\n",
    "\n",
    "print('\\nIndeed the above pokemon are those that are close to 780')\n"
   ]
  },
  {
   "cell_type": "code",
   "execution_count": 24,
   "metadata": {
    "scrolled": true
   },
   "outputs": [
    {
     "name": "stdout",
     "output_type": "stream",
     "text": [
      "This is the calculation for the full pokemon values\n",
      "\n",
      "Mean + 3 standard deviation is 795.0135600158751\n",
      "Mean - 3 standard deviation is 75.24143998412495\n",
      "\n",
      "With the aid of the histogram, one can see that there are values that approx ~800\n"
     ]
    },
    {
     "data": {
      "image/png": "[encoded data removed]",
      "text/plain": [
       "<Figure size 432x288 with 1 Axes>"
      ]
     },
     "metadata": {
      "needs_background": "light"
     },
     "output_type": "display_data"
    },
    {
     "name": "stdout",
     "output_type": "stream",
     "text": [
      "MewtwoMega Mewtwo X 800.0\n",
      "\n",
      "Indeed the above pokemon is OVERPOWERED\n"
     ]
    }
   ],
   "source": [
    "print('This is the calculation for the full pokemon values\\n')\n",
    "\n",
    "#import matplotlib and inline display\n",
    "import matplotlib.pyplot as plt\n",
    "%matplotlib inline \n",
    "\n",
    "#calculate mean + 3*std deviaton and mean - 3*std deviaton\n",
    "positive_3sd = np.mean(total_list_v2) + 3*np.std(total_list_v2)\n",
    "print('Mean + 3 standard deviation is {}'.format(positive_3sd))\n",
    "negative_3sd = np.mean(total_list_v2) - 3*np.std(total_list_v2)\n",
    "print('Mean - 3 standard deviation is {}'.format(negative_3sd))\n",
    "print('\\nWith the aid of the histogram, one can see that there are values that approx ~800')\n",
    "\n",
    "#print out histogram\n",
    "plt.hist(total_list_v2,bins=100)\n",
    "plt.xlabel('Total')\n",
    "plt.ylabel('frequency')\n",
    "plt.title(\"Pokaemon 'Total' distribution for ALL Values\")\n",
    "plt.show()\n",
    "\n",
    "#we check if there is any pokemons total > 795\n",
    "for num in range(1,len(pokedex_dictionary_v2)):\n",
    "    if pokedex_dictionary_v2[num].get('Total') > ( np.mean(total_list_v2) + 3*np.std(total_list_v2) ):   \n",
    "        print(pokedex_dictionary_v2[num]['Name'],pokedex_dictionary_v2[num].get('Total'))\n",
    "\n",
    "print('\\nIndeed the above pokemon is OVERPOWERED')\n"
   ]
  },
  {
   "cell_type": "markdown",
   "metadata": {},
   "source": [
    "---\n",
    "<p><font size=\"3\" color=\"9966FF\">***Very good***. </font></p>\n",
    "\n",
    "--- "
   ]
  },
  {
   "cell_type": "markdown",
   "metadata": {},
   "source": [
    "<img src=\"http://imgur.com/xDpSobf.png\" style=\"float: left; margin: 25px 15px 0px 0px; height: 25px\">\n",
    "\n",
    "## 10. Calibrate the frequency of Pokemon\n",
    "\n",
    "The design team wants you to make the powerful Pokemon rare, and the weaklings more common. How would you set the probability $p_i$ of finding Pokemon *i* each time a player visits a gym?\n",
    "\n",
    "Write a function that takes in a Pokedex number and returns a value $p_i$ for that character.\n",
    "\n",
    "Hint: there are many ways you could do this. What do _you_ think makes sense? Start with simplifying assumptions: for example, you could assume that the probabilities of encountering any two Pokemon on one visit to a gym are independent of each other."
   ]
  },
  {
   "cell_type": "code",
   "execution_count": 45,
   "metadata": {},
   "outputs": [
    {
     "name": "stdout",
     "output_type": "stream",
     "text": [
      "Probabililty of the rarest pokaemon= 0.08466303624921934\n",
      "Probabililty of commonest pokaemon= 0.8355598055997988\n",
      "\n",
      " 0.836 > 0.084 , 0.836 is easier to find at the gym than 0.084  \n"
     ]
    }
   ],
   "source": [
    "#https://stackoverflow.com/questions/20864847/probability-to-z-score-and-vice-versa-in-python\n",
    "#the blueprint/concept is out due to time constraints \n",
    "#it can be improved by tweaking the X value. \n",
    "#Means some engineering is required to obtain the sweet spot for the commonest pokaemon and the rarest pokaemon\n",
    "\n",
    "import scipy.stats as st\n",
    "\n",
    "def get_probability_func(pokedex_number):\n",
    "    \"\"\"\n",
    "    This function calculates the probability by taking a Pokedex number \n",
    "    and returns a value probability for that pokemon.\n",
    "    \n",
    "    \"\"\"\n",
    "    \n",
    "    #get all total values from pokedex_dictionary_v2 ( repeated list comprehension from previous question) \n",
    "    total_list_v2 = [ pokedex_dictionary_v2[pokedex_number].get('Total') for pokedex_number in pokedex_dictionary_v2]\n",
    "    \n",
    "    X = pokedex_dictionary_v2[pokedex_number].get('Total') # get single pokemon total value\n",
    "    Z = ( X - np.mean(total_list_v2) ) / np.std(total_list_v2) # (Z = X - mean ) / std deviaton\n",
    "    p = 1 - st.norm.cdf(Z) # reverse look-up to obtain the p-value\n",
    "    \n",
    "    return p\n",
    "\n",
    "\n",
    "lowest_power= get_probability_func(1)  #0.836\n",
    "highest_power = get_probability_func(800) #0.0847\n",
    "\n",
    "print('Probabililty of the rarest pokaemon= {}'.format(highest_power))\n",
    "print('Probabililty of commonest pokaemon= {}'.format(lowest_power))\n",
    "print('\\n 0.836 > 0.084 , 0.836 is easier to find at the gym than 0.084')"
   ]
  }
 ],
 "metadata": {
  "anaconda-cloud": {},
  "kernelspec": {
   "display_name": "Python 3",
   "language": "python",
   "name": "python3"
  },
  "language_info": {
   "codemirror_mode": {
    "name": "ipython",
    "version": 3
   },
   "file_extension": ".py",
   "mimetype": "text/x-python",
   "name": "python",
   "nbconvert_exporter": "python",
   "pygments_lexer": "ipython3",
   "version": "3.7.1"
  }
 },
 "nbformat": 4,
 "nbformat_minor": 1
}
