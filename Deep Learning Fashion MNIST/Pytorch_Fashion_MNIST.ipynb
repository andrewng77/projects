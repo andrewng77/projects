{
  "nbformat": 4,
  "nbformat_minor": 0,
  "metadata": {
    "kernelspec": {
      "name": "python3",
      "display_name": "Python 3"
    },
    "language_info": {
      "codemirror_mode": {
        "name": "ipython",
        "version": 3
      },
      "file_extension": ".py",
      "mimetype": "text/x-python",
      "name": "python",
      "nbconvert_exporter": "python",
      "pygments_lexer": "ipython3",
      "version": "3.6.7"
    },
    "colab": {
      "name": "Pytorch Fashion-MNIST.ipynb",
      "provenance": [],
      "collapsed_sections": []
    },
    "accelerator": "GPU"
  },
  "cells": [
    {
      "cell_type": "markdown",
      "metadata": {
        "id": "Fw5UOTtxlJ6h",
        "colab_type": "text"
      },
      "source": [
        "# Classifying Fashion-MNIST ( Multiclass )\n",
        "\n",
        "We'd be using the [Fashion-MNIST dataset](https://github.com/zalandoresearch/fashion-mnist), a drop-in replacement for the MNIST dataset. Fashion-MNIST is a set of 28x28 greyscale images of clothes. It's more complex than MNIST, so it's a better representation of the actual performance of the network, and a better representation of datasets you'll use in the real world.\n",
        "\n",
        "In this notebook, we'll build a neural network using PyTorch framework. \n",
        "\n",
        "First off, let's load the dataset through torchvision."
      ]
    },
    {
      "cell_type": "code",
      "metadata": {
        "id": "TeZ3h_KHlJ6k",
        "colab_type": "code",
        "colab": {
          "base_uri": "https://localhost:8080/",
          "height": 272
        },
        "outputId": "84e14f8a-1cea-4eda-d7db-2647d7527121"
      },
      "source": [
        "import torch\n",
        "from torchvision import datasets, transforms\n",
        "import torch.nn.functional as F\n",
        "\n",
        "# Define a transform to normalize the data\n",
        "transform = transforms.Compose([transforms.ToTensor(),\n",
        "                                transforms.Normalize((0.5,), (0.5,))])\n",
        "# Download and load the training data\n",
        "trainset = datasets.FashionMNIST('~/.pytorch/F_MNIST_data/', download=True, train=True, transform=transform)\n",
        "trainloader = torch.utils.data.DataLoader(trainset, batch_size=64, shuffle=True)\n",
        "\n",
        "# Download and load the test data\n",
        "testset = datasets.FashionMNIST('~/.pytorch/F_MNIST_data/', download=True, train=False, transform=transform)\n",
        "testloader = torch.utils.data.DataLoader(testset, batch_size=64, shuffle=True)"
      ],
      "execution_count": 1,
      "outputs": [
        {
          "output_type": "stream",
          "text": [
            "  0%|          | 40960/26421880 [00:00<01:11, 367490.91it/s]"
          ],
          "name": "stderr"
        },
        {
          "output_type": "stream",
          "text": [
            "Downloading http://fashion-mnist.s3-website.eu-central-1.amazonaws.com/train-images-idx3-ubyte.gz to /root/.pytorch/F_MNIST_data/FashionMNIST/raw/train-images-idx3-ubyte.gz\n"
          ],
          "name": "stdout"
        },
        {
          "output_type": "stream",
          "text": [
            "26427392it [00:00, 76492499.41it/s]                            \n"
          ],
          "name": "stderr"
        },
        {
          "output_type": "stream",
          "text": [
            "Extracting /root/.pytorch/F_MNIST_data/FashionMNIST/raw/train-images-idx3-ubyte.gz to /root/.pytorch/F_MNIST_data/FashionMNIST/raw\n"
          ],
          "name": "stdout"
        },
        {
          "output_type": "stream",
          "text": [
            "32768it [00:00, 452485.84it/s]\n",
            "  2%|▏         | 98304/4422102 [00:00<00:04, 919428.65it/s]"
          ],
          "name": "stderr"
        },
        {
          "output_type": "stream",
          "text": [
            "Downloading http://fashion-mnist.s3-website.eu-central-1.amazonaws.com/train-labels-idx1-ubyte.gz to /root/.pytorch/F_MNIST_data/FashionMNIST/raw/train-labels-idx1-ubyte.gz\n",
            "Extracting /root/.pytorch/F_MNIST_data/FashionMNIST/raw/train-labels-idx1-ubyte.gz to /root/.pytorch/F_MNIST_data/FashionMNIST/raw\n",
            "Downloading http://fashion-mnist.s3-website.eu-central-1.amazonaws.com/t10k-images-idx3-ubyte.gz to /root/.pytorch/F_MNIST_data/FashionMNIST/raw/t10k-images-idx3-ubyte.gz\n"
          ],
          "name": "stdout"
        },
        {
          "output_type": "stream",
          "text": [
            "4423680it [00:00, 20832945.46it/s]                            \n",
            "8192it [00:00, 164747.50it/s]\n"
          ],
          "name": "stderr"
        },
        {
          "output_type": "stream",
          "text": [
            "Extracting /root/.pytorch/F_MNIST_data/FashionMNIST/raw/t10k-images-idx3-ubyte.gz to /root/.pytorch/F_MNIST_data/FashionMNIST/raw\n",
            "Downloading http://fashion-mnist.s3-website.eu-central-1.amazonaws.com/t10k-labels-idx1-ubyte.gz to /root/.pytorch/F_MNIST_data/FashionMNIST/raw/t10k-labels-idx1-ubyte.gz\n",
            "Extracting /root/.pytorch/F_MNIST_data/FashionMNIST/raw/t10k-labels-idx1-ubyte.gz to /root/.pytorch/F_MNIST_data/FashionMNIST/raw\n",
            "Processing...\n",
            "Done!\n"
          ],
          "name": "stdout"
        }
      ]
    },
    {
      "cell_type": "markdown",
      "metadata": {
        "id": "TpV0_LnTlJ6o",
        "colab_type": "text"
      },
      "source": [
        "Here we can see one of the images. The following are utility functions"
      ]
    },
    {
      "cell_type": "code",
      "metadata": {
        "id": "HQP2Wprkl4OJ",
        "colab_type": "code",
        "colab": {}
      },
      "source": [
        "import matplotlib.pyplot as plt\n",
        "import numpy as np\n",
        "from torch import nn, optim\n",
        "from torch.autograd import Variable\n",
        "\n",
        "def imshow(image, ax=None, title=None, normalize=True):\n",
        "    \"\"\"Imshow for Tensor.\"\"\"\n",
        "    if ax is None:\n",
        "        fig, ax = plt.subplots()\n",
        "    image = image.numpy().transpose((1, 2, 0))\n",
        "\n",
        "    if normalize:\n",
        "        mean = np.array([0.485, 0.456, 0.406])\n",
        "        std = np.array([0.229, 0.224, 0.225])\n",
        "        image = std * image + mean\n",
        "        image = np.clip(image, 0, 1)\n",
        "\n",
        "    ax.imshow(image)\n",
        "    ax.spines['top'].set_visible(False)\n",
        "    ax.spines['right'].set_visible(False)\n",
        "    ax.spines['left'].set_visible(False)\n",
        "    ax.spines['bottom'].set_visible(False)\n",
        "    ax.tick_params(axis='both', length=0)\n",
        "    ax.set_xticklabels('')\n",
        "    ax.set_yticklabels('')\n",
        "\n",
        "    return ax\n",
        "\n",
        "def view_classify(img, ps, version=\"MNIST\"):\n",
        "    ''' Function for viewing an image and it's predicted classes.\n",
        "    '''\n",
        "    ps = ps.data.numpy().squeeze()\n",
        "\n",
        "    fig, (ax1, ax2) = plt.subplots(figsize=(6,9), ncols=2)\n",
        "    ax1.imshow(img.resize_(1, 28, 28).numpy().squeeze())\n",
        "    ax1.axis('off')\n",
        "    ax2.barh(np.arange(10), ps)\n",
        "    ax2.set_aspect(0.1)\n",
        "    ax2.set_yticks(np.arange(10))\n",
        "    if version == \"MNIST\":\n",
        "        ax2.set_yticklabels(np.arange(10))\n",
        "    elif version == \"Fashion\":\n",
        "        ax2.set_yticklabels(['T-shirt/top',\n",
        "                            'Trouser',\n",
        "                            'Pullover',\n",
        "                            'Dress',\n",
        "                            'Coat',\n",
        "                            'Sandal',\n",
        "                            'Shirt',\n",
        "                            'Sneaker',\n",
        "                            'Bag',\n",
        "                            'Ankle Boot'], size='small');\n",
        "    ax2.set_title('Class Probability')\n",
        "    ax2.set_xlim(0, 1.1)\n",
        "\n",
        "    plt.tight_layout()"
      ],
      "execution_count": 0,
      "outputs": []
    },
    {
      "cell_type": "code",
      "metadata": {
        "id": "E2qGgLh9lJ6p",
        "colab_type": "code",
        "outputId": "ff0b2c0e-42e7-4d76-e4ae-af263bb3e652",
        "colab": {
          "base_uri": "https://localhost:8080/",
          "height": 248
        }
      },
      "source": [
        "image, label = next(iter(trainloader))\n",
        "imshow(image[0,:]);"
      ],
      "execution_count": 3,
      "outputs": [
        {
          "output_type": "display_data",
          "data": {
            "image/png": "[encoded data removed]",
            "text/plain": [
              "<Figure size 432x288 with 1 Axes>"
            ]
          },
          "metadata": {
            "tags": []
          }
        }
      ]
    },
    {
      "cell_type": "markdown",
      "metadata": {
        "id": "yVDVT8-PlJ6t",
        "colab_type": "text"
      },
      "source": [
        "## Building the network\n",
        "\n",
        "As with MNIST, each image is 28x28 which is a total of 784 pixels, and there are 10 classes. \n",
        "\n",
        "2 Hidden Layers are used with RelU activations for the layers and to return the logits or log-softmax from the forward pass. "
      ]
    },
    {
      "cell_type": "code",
      "metadata": {
        "id": "euLoUg5ntHrq",
        "colab_type": "code",
        "outputId": "2a3b7a30-e4bd-4ae2-db19-e12fedb36294",
        "colab": {
          "base_uri": "https://localhost:8080/",
          "height": 34
        }
      },
      "source": [
        "#check tensor size \n",
        "#64 images and 784 features that are flattened\n",
        "image.view(64, -1).shape"
      ],
      "execution_count": 4,
      "outputs": [
        {
          "output_type": "execute_result",
          "data": {
            "text/plain": [
              "torch.Size([64, 784])"
            ]
          },
          "metadata": {
            "tags": []
          },
          "execution_count": 4
        }
      ]
    },
    {
      "cell_type": "code",
      "metadata": {
        "id": "qeUFH-68lJ6u",
        "colab_type": "code",
        "colab": {}
      },
      "source": [
        "# TODO: Define your network architecture here\n",
        "class Classifier(nn.Module):\n",
        "  def __init__(self):\n",
        "    super().__init__()\n",
        "    # Defining the layers : 256, 128, 64 each\n",
        "    self.fc1 = nn.Linear(784, 256)\n",
        "    self.fc2 = nn.Linear(256,128)\n",
        "    self.fc3 = nn.Linear(128,64)\n",
        "    # Output layer, 10 classes\n",
        "    self.fc4 = nn.Linear(64, 10)\n",
        "\n",
        "  def forward(self,x):\n",
        "    ''' Forward pass through the network, returns the output logits '''\n",
        "    #ensure the image is flattened\n",
        "    x = x.view(x.shape[0], -1)\n",
        "    # Apply ReLu activation for all layers except for LogSoftmax for the output\n",
        "    x = F.relu(self.fc1(x))\n",
        "    x = F.relu(self.fc2(x))\n",
        "    x = F.relu(self.fc3(x))\n",
        "    x = F.log_softmax(self.fc4(x),dim=1)\n",
        "\n",
        "    return x"
      ],
      "execution_count": 0,
      "outputs": []
    },
    {
      "cell_type": "markdown",
      "metadata": {
        "id": "fumHLKNllJ6w",
        "colab_type": "text"
      },
      "source": [
        "# Train the network\n",
        "\n",
        "CrossEntropyLoss and Adam Optimization are used\n",
        "https://gombru.github.io/2018/05/23/cross_entropy_loss/\n",
        "\n",
        "Basically,\n",
        "\n",
        "* We will make a forward pass through the network to get the logits \n",
        "* Use the logits to calculate the loss\n",
        "* Perform a backward pass through the network with `loss.backward()` to calculate the gradients\n",
        "* Take a step with the optimizer to update the weights"
      ]
    },
    {
      "cell_type": "code",
      "metadata": {
        "id": "KqrVJ0eO2dl4",
        "colab_type": "code",
        "colab": {}
      },
      "source": [
        "from torch import nn, optim\n",
        "import torch.nn.functional as F"
      ],
      "execution_count": 0,
      "outputs": []
    },
    {
      "cell_type": "code",
      "metadata": {
        "id": "_m8DsbFtlJ6x",
        "colab_type": "code",
        "colab": {}
      },
      "source": [
        "# TODO: Create the network, define the criterion and optimizer\n",
        "\n",
        "model = Classifier()\n",
        "\n",
        "# Define the loss\n",
        "criterion = nn.NLLLoss()\n",
        "\n",
        "# Optimizers require the parameters to optimize and a learning rate\n",
        "optimizer = optim.Adam(model.parameters(), lr=0.001)"
      ],
      "execution_count": 0,
      "outputs": []
    },
    {
      "cell_type": "code",
      "metadata": {
        "id": "IJUeE_uilJ6z",
        "colab_type": "code",
        "outputId": "7a0a7101-ee7a-4281-a26c-00234000fa38",
        "colab": {
          "base_uri": "https://localhost:8080/",
          "height": 857
        }
      },
      "source": [
        "# TODO: Train the network here\n",
        "\n",
        "EPOCHS = 50\n",
        "\n",
        "for epoch in range(EPOCHS):\n",
        "  running_loss = 0\n",
        "  # Train all the images , Forward pass, then backward pass, then update weights\n",
        "  for images, labels in trainloader:\n",
        "    log_ps = model(images)\n",
        "    loss = criterion(log_ps, labels)\n",
        "    \n",
        "    # Clear the gradients, do this because gradients are accumulated\n",
        "    optimizer.zero_grad()\n",
        "    loss.backward()\n",
        "    # Performs a parameter update based on the current gradient\n",
        "    optimizer.step()\n",
        "    # Update weights\n",
        "    running_loss += loss.item()\n",
        "  else:\n",
        "    print(f\"Training loss: {running_loss/len(trainloader)}\")"
      ],
      "execution_count": 8,
      "outputs": [
        {
          "output_type": "stream",
          "text": [
            "Training loss: 0.5194597618221474\n",
            "Training loss: 0.37774019386531954\n",
            "Training loss: 0.3364722140943572\n",
            "Training loss: 0.3112931296165818\n",
            "Training loss: 0.29159777201632703\n",
            "Training loss: 0.2763667010676378\n",
            "Training loss: 0.26506000783429473\n",
            "Training loss: 0.25191031869794767\n",
            "Training loss: 0.23990132587789093\n",
            "Training loss: 0.22860112561504725\n",
            "Training loss: 0.22064562730475276\n",
            "Training loss: 0.21118609434855518\n",
            "Training loss: 0.20572035958660817\n",
            "Training loss: 0.19462665031030615\n",
            "Training loss: 0.1859349768076624\n",
            "Training loss: 0.17899913663890507\n",
            "Training loss: 0.17048118790504393\n",
            "Training loss: 0.16708828649743757\n",
            "Training loss: 0.1571082736867895\n",
            "Training loss: 0.1542219133900681\n",
            "Training loss: 0.14879498017161513\n",
            "Training loss: 0.14364464784156222\n",
            "Training loss: 0.1411117925139855\n",
            "Training loss: 0.1336150592697391\n",
            "Training loss: 0.1269697187774217\n",
            "Training loss: 0.12328044562114042\n",
            "Training loss: 0.11948423399212661\n",
            "Training loss: 0.11680802240717544\n",
            "Training loss: 0.111056921492293\n",
            "Training loss: 0.10941194830788002\n",
            "Training loss: 0.10534975299143048\n",
            "Training loss: 0.10030098978692153\n",
            "Training loss: 0.10238834919640298\n",
            "Training loss: 0.09721513251527779\n",
            "Training loss: 0.09670924916932944\n",
            "Training loss: 0.09192517680078269\n",
            "Training loss: 0.08715968514218736\n",
            "Training loss: 0.08694580364535485\n",
            "Training loss: 0.08962858501158512\n",
            "Training loss: 0.07970844582616807\n",
            "Training loss: 0.07951081195783649\n",
            "Training loss: 0.07969511985165208\n",
            "Training loss: 0.07601131528724175\n",
            "Training loss: 0.07351700543810222\n",
            "Training loss: 0.07063117932785413\n",
            "Training loss: 0.07049548544132633\n",
            "Training loss: 0.06858811263135994\n",
            "Training loss: 0.06681041075112815\n",
            "Training loss: 0.07098051575976841\n",
            "Training loss: 0.0636719260756959\n"
          ],
          "name": "stdout"
        }
      ]
    },
    {
      "cell_type": "code",
      "metadata": {
        "id": "53xWbja4lJ61",
        "colab_type": "code",
        "outputId": "4c99b4c7-484e-4797-ad39-47d49690d28c",
        "colab": {
          "base_uri": "https://localhost:8080/",
          "height": 233
        }
      },
      "source": [
        "%matplotlib inline\n",
        "%config InlineBackend.figure_format = 'retina'\n",
        "\n",
        "# Test out our network with the rest variable\n",
        "\n",
        "dataiter = iter(testloader)\n",
        "images, labels = dataiter.next()\n",
        "img = images[0]\n",
        "# Convert 2D image to 1D vector\n",
        "img = img.resize_(1, 784)\n",
        "\n",
        "# Turn off gradients to speed up this part\n",
        "with torch.no_grad():\n",
        "    ps = torch.exp(model(img))\n",
        " \n",
        "# Plot the image and probabilities\n",
        "view_classify(img.resize_(1, 28, 28), ps, version='Fashion')"
      ],
      "execution_count": 9,
      "outputs": [
        {
          "output_type": "display_data",
          "data": {
            "image/png": "[encoded data removed]",
            "text/plain": [
              "<Figure size 432x648 with 2 Axes>"
            ]
          },
          "metadata": {
            "tags": [],
            "image/png": {
              "width": 424,
              "height": 216
            }
          }
        }
      ]
    }
  ]
}