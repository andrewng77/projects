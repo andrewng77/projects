{
 "cells": [
  {
   "cell_type": "markdown",
   "metadata": {},
   "source": [
    "# Predict A Doctor's Consultation Fee Hackathon"
   ]
  },
  {
   "cell_type": "code",
   "execution_count": 1,
   "metadata": {},
   "outputs": [],
   "source": [
    "#https://www.machinehack.com/course/predict-a-doctors-consultation-fees-hackathon/"
   ]
  },
  {
   "cell_type": "markdown",
   "metadata": {},
   "source": [
    "# Data processing"
   ]
  },
  {
   "cell_type": "code",
   "execution_count": 2,
   "metadata": {},
   "outputs": [],
   "source": [
    "import numpy as np\n",
    "import pandas as pd\n",
    "import re\n",
    "import seaborn as sns\n",
    "import matplotlib.pyplot as plt\n",
    "\n",
    "sns.set_style('whitegrid')\n",
    "\n",
    "from sklearn.model_selection import GridSearchCV\n",
    "from sklearn.preprocessing import StandardScaler\n",
    "from sklearn.model_selection import train_test_split\n",
    "\n",
    "from nltk.corpus import stopwords\n",
    "\n",
    "%matplotlib inline\n",
    "\n",
    "import warnings\n",
    "def ignore_warn(*args, **kwargs):\n",
    "    pass\n",
    "warnings.warn = ignore_warn #ignore annoying warning (from sklearn and seaborn)"
   ]
  },
  {
   "cell_type": "code",
   "execution_count": 3,
   "metadata": {},
   "outputs": [],
   "source": [
    "#read csv to df\n",
    "df = pd.read_csv('.\\dataset\\Final_Train.csv')"
   ]
  },
  {
   "cell_type": "code",
   "execution_count": 4,
   "metadata": {},
   "outputs": [
    {
     "data": {
      "text/plain": [
       "(5961, 7)"
      ]
     },
     "execution_count": 4,
     "metadata": {},
     "output_type": "execute_result"
    }
   ],
   "source": [
    "#5961 rows and 7 columns\n",
    "df.shape"
   ]
  },
  {
   "cell_type": "code",
   "execution_count": 5,
   "metadata": {
    "scrolled": true
   },
   "outputs": [
    {
     "data": {
      "text/html": [
       "<div>\n",
       "<style scoped>\n",
       "    .dataframe tbody tr th:only-of-type {\n",
       "        vertical-align: middle;\n",
       "    }\n",
       "\n",
       "    .dataframe tbody tr th {\n",
       "        vertical-align: top;\n",
       "    }\n",
       "\n",
       "    .dataframe thead th {\n",
       "        text-align: right;\n",
       "    }\n",
       "</style>\n",
       "<table border=\"1\" class=\"dataframe\">\n",
       "  <thead>\n",
       "    <tr style=\"text-align: right;\">\n",
       "      <th></th>\n",
       "      <th>Qualification</th>\n",
       "      <th>Experience</th>\n",
       "      <th>Rating</th>\n",
       "      <th>Place</th>\n",
       "      <th>Profile</th>\n",
       "      <th>Miscellaneous_Info</th>\n",
       "      <th>Fees</th>\n",
       "    </tr>\n",
       "  </thead>\n",
       "  <tbody>\n",
       "    <tr>\n",
       "      <th>4762</th>\n",
       "      <td>MBBS, MS - ENT</td>\n",
       "      <td>26 years experience</td>\n",
       "      <td>NaN</td>\n",
       "      <td>Jubilee Hills, Hyderabad</td>\n",
       "      <td>ENT Specialist</td>\n",
       "      <td>NaN</td>\n",
       "      <td>500</td>\n",
       "    </tr>\n",
       "    <tr>\n",
       "      <th>3807</th>\n",
       "      <td>BDS, MDS - Paedodontics And Preventive Dentistry</td>\n",
       "      <td>10 years experience</td>\n",
       "      <td>NaN</td>\n",
       "      <td>Nizamuddin East, Delhi</td>\n",
       "      <td>Dentist</td>\n",
       "      <td>Sedation Dentistry Teeth Whitening Sports Dent...</td>\n",
       "      <td>500</td>\n",
       "    </tr>\n",
       "    <tr>\n",
       "      <th>4449</th>\n",
       "      <td>MBBS</td>\n",
       "      <td>39 years experience</td>\n",
       "      <td>NaN</td>\n",
       "      <td>Nanganallur, Chennai</td>\n",
       "      <td>General Medicine</td>\n",
       "      <td>NaN</td>\n",
       "      <td>350</td>\n",
       "    </tr>\n",
       "    <tr>\n",
       "      <th>2543</th>\n",
       "      <td>MBBS, Diploma in Otorhinolaryngology (DLO)</td>\n",
       "      <td>15 years experience</td>\n",
       "      <td>82%</td>\n",
       "      <td>Siddapura, Bangalore</td>\n",
       "      <td>ENT Specialist</td>\n",
       "      <td>NaN</td>\n",
       "      <td>350</td>\n",
       "    </tr>\n",
       "    <tr>\n",
       "      <th>2366</th>\n",
       "      <td>MBBS, DNB - ENT</td>\n",
       "      <td>10 years experience</td>\n",
       "      <td>NaN</td>\n",
       "      <td>Old Rajendra Nagar, Delhi</td>\n",
       "      <td>ENT Specialist</td>\n",
       "      <td>NaN</td>\n",
       "      <td>100</td>\n",
       "    </tr>\n",
       "    <tr>\n",
       "      <th>3755</th>\n",
       "      <td>MBBS, MS - Otorhinolaryngology</td>\n",
       "      <td>9 years experience</td>\n",
       "      <td>NaN</td>\n",
       "      <td>Dwarka, Delhi</td>\n",
       "      <td>ENT Specialist</td>\n",
       "      <td>NaN</td>\n",
       "      <td>550</td>\n",
       "    </tr>\n",
       "    <tr>\n",
       "      <th>4654</th>\n",
       "      <td>BDS, MDS - Orthodontics</td>\n",
       "      <td>12 years experience</td>\n",
       "      <td>99%</td>\n",
       "      <td>Kingsway Camp, Delhi</td>\n",
       "      <td>Dentist</td>\n",
       "      <td>Tooth Extraction Dental Fillings Scaling / Pol...</td>\n",
       "      <td>100</td>\n",
       "    </tr>\n",
       "    <tr>\n",
       "      <th>2659</th>\n",
       "      <td>FRCS - General Surgery, MBBS</td>\n",
       "      <td>38 years experience</td>\n",
       "      <td>NaN</td>\n",
       "      <td>Saibaba Colony, Coimbatore</td>\n",
       "      <td>General Medicine</td>\n",
       "      <td>NaN</td>\n",
       "      <td>300</td>\n",
       "    </tr>\n",
       "    <tr>\n",
       "      <th>1208</th>\n",
       "      <td>BDS, MDS - Oral &amp; Maxillofacial Surgery, MRCPs...</td>\n",
       "      <td>14 years experience</td>\n",
       "      <td>99%</td>\n",
       "      <td>Kilpauk, Chennai</td>\n",
       "      <td>Dentist</td>\n",
       "      <td>Oral &amp; Maxillofacial Surgery Cosmetology Smile...</td>\n",
       "      <td>300</td>\n",
       "    </tr>\n",
       "    <tr>\n",
       "      <th>2161</th>\n",
       "      <td>MBBS, MD - General Medicine</td>\n",
       "      <td>27 years experience</td>\n",
       "      <td>73%</td>\n",
       "      <td>Old Airport Road, Bangalore</td>\n",
       "      <td>General Medicine</td>\n",
       "      <td>73% 13 Feedback Old Airport Road, Bangalore</td>\n",
       "      <td>650</td>\n",
       "    </tr>\n",
       "  </tbody>\n",
       "</table>\n",
       "</div>"
      ],
      "text/plain": [
       "                                          Qualification           Experience  \\\n",
       "4762                                     MBBS, MS - ENT  26 years experience   \n",
       "3807   BDS, MDS - Paedodontics And Preventive Dentistry  10 years experience   \n",
       "4449                                               MBBS  39 years experience   \n",
       "2543         MBBS, Diploma in Otorhinolaryngology (DLO)  15 years experience   \n",
       "2366                                    MBBS, DNB - ENT  10 years experience   \n",
       "3755                     MBBS, MS - Otorhinolaryngology   9 years experience   \n",
       "4654                            BDS, MDS - Orthodontics  12 years experience   \n",
       "2659                       FRCS - General Surgery, MBBS  38 years experience   \n",
       "1208  BDS, MDS - Oral & Maxillofacial Surgery, MRCPs...  14 years experience   \n",
       "2161                        MBBS, MD - General Medicine  27 years experience   \n",
       "\n",
       "     Rating                        Place           Profile  \\\n",
       "4762    NaN     Jubilee Hills, Hyderabad    ENT Specialist   \n",
       "3807    NaN       Nizamuddin East, Delhi           Dentist   \n",
       "4449    NaN         Nanganallur, Chennai  General Medicine   \n",
       "2543    82%         Siddapura, Bangalore    ENT Specialist   \n",
       "2366    NaN    Old Rajendra Nagar, Delhi    ENT Specialist   \n",
       "3755    NaN                Dwarka, Delhi    ENT Specialist   \n",
       "4654    99%         Kingsway Camp, Delhi           Dentist   \n",
       "2659    NaN   Saibaba Colony, Coimbatore  General Medicine   \n",
       "1208    99%             Kilpauk, Chennai           Dentist   \n",
       "2161    73%  Old Airport Road, Bangalore  General Medicine   \n",
       "\n",
       "                                     Miscellaneous_Info  Fees  \n",
       "4762                                                NaN   500  \n",
       "3807  Sedation Dentistry Teeth Whitening Sports Dent...   500  \n",
       "4449                                                NaN   350  \n",
       "2543                                                NaN   350  \n",
       "2366                                                NaN   100  \n",
       "3755                                                NaN   550  \n",
       "4654  Tooth Extraction Dental Fillings Scaling / Pol...   100  \n",
       "2659                                                NaN   300  \n",
       "1208  Oral & Maxillofacial Surgery Cosmetology Smile...   300  \n",
       "2161        73% 13 Feedback Old Airport Road, Bangalore   650  "
      ]
     },
     "execution_count": 5,
     "metadata": {},
     "output_type": "execute_result"
    }
   ],
   "source": [
    "# get a feel of the df\n",
    "#'Rating' are already extracted from Miscellaneous_Info\n",
    "#'Fees' are our target variable\n",
    "# Experience seems to be a very good predictor , plus we have no null values\n",
    "\n",
    "df.sample(10)"
   ]
  },
  {
   "cell_type": "code",
   "execution_count": 6,
   "metadata": {},
   "outputs": [
    {
     "name": "stdout",
     "output_type": "stream",
     "text": [
      "<class 'pandas.core.frame.DataFrame'>\n",
      "RangeIndex: 5961 entries, 0 to 5960\n",
      "Data columns (total 7 columns):\n",
      "Qualification         5961 non-null object\n",
      "Experience            5961 non-null object\n",
      "Rating                2659 non-null object\n",
      "Place                 5936 non-null object\n",
      "Profile               5961 non-null object\n",
      "Miscellaneous_Info    3341 non-null object\n",
      "Fees                  5961 non-null int64\n",
      "dtypes: int64(1), object(6)\n",
      "memory usage: 326.1+ KB\n"
     ]
    }
   ],
   "source": [
    "#'Fees' and 'Experience' should be numerical\n",
    "# the rest should be categorical ( dummified later )\n",
    "df.info()"
   ]
  },
  {
   "cell_type": "code",
   "execution_count": 7,
   "metadata": {},
   "outputs": [
    {
     "data": {
      "text/html": [
       "<div>\n",
       "<style scoped>\n",
       "    .dataframe tbody tr th:only-of-type {\n",
       "        vertical-align: middle;\n",
       "    }\n",
       "\n",
       "    .dataframe tbody tr th {\n",
       "        vertical-align: top;\n",
       "    }\n",
       "\n",
       "    .dataframe thead th {\n",
       "        text-align: right;\n",
       "    }\n",
       "</style>\n",
       "<table border=\"1\" class=\"dataframe\">\n",
       "  <thead>\n",
       "    <tr style=\"text-align: right;\">\n",
       "      <th></th>\n",
       "      <th>is_null</th>\n",
       "      <th>Percentage</th>\n",
       "    </tr>\n",
       "  </thead>\n",
       "  <tbody>\n",
       "    <tr>\n",
       "      <th>Rating</th>\n",
       "      <td>3302</td>\n",
       "      <td>0.55</td>\n",
       "    </tr>\n",
       "    <tr>\n",
       "      <th>Miscellaneous_Info</th>\n",
       "      <td>2620</td>\n",
       "      <td>0.44</td>\n",
       "    </tr>\n",
       "    <tr>\n",
       "      <th>Place</th>\n",
       "      <td>25</td>\n",
       "      <td>0.00</td>\n",
       "    </tr>\n",
       "  </tbody>\n",
       "</table>\n",
       "</div>"
      ],
      "text/plain": [
       "                    is_null  Percentage\n",
       "Rating                 3302        0.55\n",
       "Miscellaneous_Info     2620        0.44\n",
       "Place                    25        0.00"
      ]
     },
     "execution_count": 7,
     "metadata": {},
     "output_type": "execute_result"
    }
   ],
   "source": [
    "#check % data that is null\n",
    "#Rating and Miscellaneous_Info has close to half values that are null\n",
    "total=pd.DataFrame({'is_null':df.isnull().sum().sort_values(ascending=False)}) #determine columns with missing values\n",
    "total['Percentage']= (total.is_null/len(df)).round(2)\n",
    "total=total[total.is_null!=0]\n",
    "total"
   ]
  },
  {
   "cell_type": "markdown",
   "metadata": {},
   "source": [
    "# Qualification ( re-visit )"
   ]
  },
  {
   "cell_type": "code",
   "execution_count": 8,
   "metadata": {},
   "outputs": [
    {
     "data": {
      "text/plain": [
       "array(['BHMS, MD - Homeopathy', 'BAMS, MD - Ayurveda Medicine',\n",
       "       'MBBS, MS - Otorhinolaryngology', ...,\n",
       "       'MD - Dermatology , Venereology & Leprosy, MBBS, Fellowship In Dermatosurgery',\n",
       "       'BDS, certification in smile designing',\n",
       "       'MD - Homeopathy, Post Graduate Diploma in Healthcare Management(PGDHM), DHMS (Diploma in Homeopathic Medicine and Surgery)'],\n",
       "      dtype=object)"
      ]
     },
     "execution_count": 8,
     "metadata": {},
     "output_type": "execute_result"
    }
   ],
   "source": [
    "df.Qualification.unique()"
   ]
  },
  {
   "cell_type": "code",
   "execution_count": 9,
   "metadata": {},
   "outputs": [
    {
     "data": {
      "text/html": [
       "<div>\n",
       "<style scoped>\n",
       "    .dataframe tbody tr th:only-of-type {\n",
       "        vertical-align: middle;\n",
       "    }\n",
       "\n",
       "    .dataframe tbody tr th {\n",
       "        vertical-align: top;\n",
       "    }\n",
       "\n",
       "    .dataframe thead th {\n",
       "        text-align: right;\n",
       "    }\n",
       "</style>\n",
       "<table border=\"1\" class=\"dataframe\">\n",
       "  <thead>\n",
       "    <tr style=\"text-align: right;\">\n",
       "      <th></th>\n",
       "      <th>Qualification</th>\n",
       "      <th>Experience</th>\n",
       "      <th>Rating</th>\n",
       "      <th>Place</th>\n",
       "      <th>Profile</th>\n",
       "      <th>Miscellaneous_Info</th>\n",
       "      <th>Fees</th>\n",
       "    </tr>\n",
       "  </thead>\n",
       "  <tbody>\n",
       "    <tr>\n",
       "      <th>91</th>\n",
       "      <td>Get inspired by remarkable stories of people l...</td>\n",
       "      <td>0 years experience</td>\n",
       "      <td>NaN</td>\n",
       "      <td>NaN</td>\n",
       "      <td>Dermatologists</td>\n",
       "      <td>NaN</td>\n",
       "      <td>100</td>\n",
       "    </tr>\n",
       "    <tr>\n",
       "      <th>502</th>\n",
       "      <td>Get inspired by remarkable stories of people l...</td>\n",
       "      <td>0 years experience</td>\n",
       "      <td>NaN</td>\n",
       "      <td>NaN</td>\n",
       "      <td>Dermatologists</td>\n",
       "      <td>NaN</td>\n",
       "      <td>100</td>\n",
       "    </tr>\n",
       "    <tr>\n",
       "      <th>599</th>\n",
       "      <td>Get inspired by remarkable stories of people l...</td>\n",
       "      <td>0 years experience</td>\n",
       "      <td>NaN</td>\n",
       "      <td>NaN</td>\n",
       "      <td>Dermatologists</td>\n",
       "      <td>NaN</td>\n",
       "      <td>100</td>\n",
       "    </tr>\n",
       "    <tr>\n",
       "      <th>605</th>\n",
       "      <td>Get inspired by remarkable stories of people l...</td>\n",
       "      <td>0 years experience</td>\n",
       "      <td>NaN</td>\n",
       "      <td>NaN</td>\n",
       "      <td>Dermatologists</td>\n",
       "      <td>NaN</td>\n",
       "      <td>100</td>\n",
       "    </tr>\n",
       "    <tr>\n",
       "      <th>724</th>\n",
       "      <td>Get inspired by remarkable stories of people l...</td>\n",
       "      <td>0 years experience</td>\n",
       "      <td>NaN</td>\n",
       "      <td>NaN</td>\n",
       "      <td>Dermatologists</td>\n",
       "      <td>NaN</td>\n",
       "      <td>100</td>\n",
       "    </tr>\n",
       "    <tr>\n",
       "      <th>1002</th>\n",
       "      <td>Get inspired by remarkable stories of people l...</td>\n",
       "      <td>0 years experience</td>\n",
       "      <td>NaN</td>\n",
       "      <td>NaN</td>\n",
       "      <td>Dermatologists</td>\n",
       "      <td>NaN</td>\n",
       "      <td>100</td>\n",
       "    </tr>\n",
       "    <tr>\n",
       "      <th>1083</th>\n",
       "      <td>Get inspired by remarkable stories of people l...</td>\n",
       "      <td>0 years experience</td>\n",
       "      <td>NaN</td>\n",
       "      <td>NaN</td>\n",
       "      <td>Dermatologists</td>\n",
       "      <td>NaN</td>\n",
       "      <td>100</td>\n",
       "    </tr>\n",
       "    <tr>\n",
       "      <th>1210</th>\n",
       "      <td>Get inspired by remarkable stories of people l...</td>\n",
       "      <td>0 years experience</td>\n",
       "      <td>NaN</td>\n",
       "      <td>NaN</td>\n",
       "      <td>Dermatologists</td>\n",
       "      <td>NaN</td>\n",
       "      <td>100</td>\n",
       "    </tr>\n",
       "    <tr>\n",
       "      <th>2078</th>\n",
       "      <td>Get inspired by remarkable stories of people l...</td>\n",
       "      <td>0 years experience</td>\n",
       "      <td>NaN</td>\n",
       "      <td>NaN</td>\n",
       "      <td>Dermatologists</td>\n",
       "      <td>NaN</td>\n",
       "      <td>100</td>\n",
       "    </tr>\n",
       "    <tr>\n",
       "      <th>2178</th>\n",
       "      <td>Get inspired by remarkable stories of people l...</td>\n",
       "      <td>0 years experience</td>\n",
       "      <td>NaN</td>\n",
       "      <td>NaN</td>\n",
       "      <td>Dermatologists</td>\n",
       "      <td>NaN</td>\n",
       "      <td>100</td>\n",
       "    </tr>\n",
       "    <tr>\n",
       "      <th>2328</th>\n",
       "      <td>Get inspired by remarkable stories of people l...</td>\n",
       "      <td>0 years experience</td>\n",
       "      <td>NaN</td>\n",
       "      <td>NaN</td>\n",
       "      <td>Dermatologists</td>\n",
       "      <td>NaN</td>\n",
       "      <td>100</td>\n",
       "    </tr>\n",
       "    <tr>\n",
       "      <th>3099</th>\n",
       "      <td>Get inspired by remarkable stories of people l...</td>\n",
       "      <td>0 years experience</td>\n",
       "      <td>NaN</td>\n",
       "      <td>NaN</td>\n",
       "      <td>Dermatologists</td>\n",
       "      <td>NaN</td>\n",
       "      <td>100</td>\n",
       "    </tr>\n",
       "    <tr>\n",
       "      <th>3228</th>\n",
       "      <td>Get inspired by remarkable stories of people l...</td>\n",
       "      <td>0 years experience</td>\n",
       "      <td>NaN</td>\n",
       "      <td>NaN</td>\n",
       "      <td>Dermatologists</td>\n",
       "      <td>NaN</td>\n",
       "      <td>100</td>\n",
       "    </tr>\n",
       "    <tr>\n",
       "      <th>3418</th>\n",
       "      <td>Get inspired by remarkable stories of people l...</td>\n",
       "      <td>0 years experience</td>\n",
       "      <td>NaN</td>\n",
       "      <td>NaN</td>\n",
       "      <td>Dermatologists</td>\n",
       "      <td>NaN</td>\n",
       "      <td>100</td>\n",
       "    </tr>\n",
       "    <tr>\n",
       "      <th>3443</th>\n",
       "      <td>Get inspired by remarkable stories of people l...</td>\n",
       "      <td>0 years experience</td>\n",
       "      <td>NaN</td>\n",
       "      <td>NaN</td>\n",
       "      <td>Dermatologists</td>\n",
       "      <td>NaN</td>\n",
       "      <td>100</td>\n",
       "    </tr>\n",
       "    <tr>\n",
       "      <th>3744</th>\n",
       "      <td>Get inspired by remarkable stories of people l...</td>\n",
       "      <td>0 years experience</td>\n",
       "      <td>NaN</td>\n",
       "      <td>NaN</td>\n",
       "      <td>Dermatologists</td>\n",
       "      <td>NaN</td>\n",
       "      <td>100</td>\n",
       "    </tr>\n",
       "    <tr>\n",
       "      <th>3804</th>\n",
       "      <td>Get inspired by remarkable stories of people l...</td>\n",
       "      <td>0 years experience</td>\n",
       "      <td>NaN</td>\n",
       "      <td>NaN</td>\n",
       "      <td>Dermatologists</td>\n",
       "      <td>NaN</td>\n",
       "      <td>100</td>\n",
       "    </tr>\n",
       "    <tr>\n",
       "      <th>4004</th>\n",
       "      <td>Get inspired by remarkable stories of people l...</td>\n",
       "      <td>0 years experience</td>\n",
       "      <td>NaN</td>\n",
       "      <td>NaN</td>\n",
       "      <td>Dermatologists</td>\n",
       "      <td>NaN</td>\n",
       "      <td>100</td>\n",
       "    </tr>\n",
       "    <tr>\n",
       "      <th>4758</th>\n",
       "      <td>Get inspired by remarkable stories of people l...</td>\n",
       "      <td>0 years experience</td>\n",
       "      <td>NaN</td>\n",
       "      <td>NaN</td>\n",
       "      <td>Dermatologists</td>\n",
       "      <td>NaN</td>\n",
       "      <td>100</td>\n",
       "    </tr>\n",
       "    <tr>\n",
       "      <th>4847</th>\n",
       "      <td>Get inspired by remarkable stories of people l...</td>\n",
       "      <td>0 years experience</td>\n",
       "      <td>NaN</td>\n",
       "      <td>NaN</td>\n",
       "      <td>Dermatologists</td>\n",
       "      <td>NaN</td>\n",
       "      <td>100</td>\n",
       "    </tr>\n",
       "    <tr>\n",
       "      <th>5058</th>\n",
       "      <td>Get inspired by remarkable stories of people l...</td>\n",
       "      <td>0 years experience</td>\n",
       "      <td>NaN</td>\n",
       "      <td>NaN</td>\n",
       "      <td>Dermatologists</td>\n",
       "      <td>NaN</td>\n",
       "      <td>100</td>\n",
       "    </tr>\n",
       "    <tr>\n",
       "      <th>5187</th>\n",
       "      <td>Get inspired by remarkable stories of people l...</td>\n",
       "      <td>0 years experience</td>\n",
       "      <td>NaN</td>\n",
       "      <td>NaN</td>\n",
       "      <td>Dermatologists</td>\n",
       "      <td>NaN</td>\n",
       "      <td>100</td>\n",
       "    </tr>\n",
       "    <tr>\n",
       "      <th>5551</th>\n",
       "      <td>Get inspired by remarkable stories of people l...</td>\n",
       "      <td>0 years experience</td>\n",
       "      <td>NaN</td>\n",
       "      <td>NaN</td>\n",
       "      <td>Dermatologists</td>\n",
       "      <td>NaN</td>\n",
       "      <td>100</td>\n",
       "    </tr>\n",
       "    <tr>\n",
       "      <th>5723</th>\n",
       "      <td>Get inspired by remarkable stories of people l...</td>\n",
       "      <td>0 years experience</td>\n",
       "      <td>NaN</td>\n",
       "      <td>NaN</td>\n",
       "      <td>Dermatologists</td>\n",
       "      <td>NaN</td>\n",
       "      <td>100</td>\n",
       "    </tr>\n",
       "  </tbody>\n",
       "</table>\n",
       "</div>"
      ],
      "text/plain": [
       "                                          Qualification          Experience  \\\n",
       "91    Get inspired by remarkable stories of people l...  0 years experience   \n",
       "502   Get inspired by remarkable stories of people l...  0 years experience   \n",
       "599   Get inspired by remarkable stories of people l...  0 years experience   \n",
       "605   Get inspired by remarkable stories of people l...  0 years experience   \n",
       "724   Get inspired by remarkable stories of people l...  0 years experience   \n",
       "1002  Get inspired by remarkable stories of people l...  0 years experience   \n",
       "1083  Get inspired by remarkable stories of people l...  0 years experience   \n",
       "1210  Get inspired by remarkable stories of people l...  0 years experience   \n",
       "2078  Get inspired by remarkable stories of people l...  0 years experience   \n",
       "2178  Get inspired by remarkable stories of people l...  0 years experience   \n",
       "2328  Get inspired by remarkable stories of people l...  0 years experience   \n",
       "3099  Get inspired by remarkable stories of people l...  0 years experience   \n",
       "3228  Get inspired by remarkable stories of people l...  0 years experience   \n",
       "3418  Get inspired by remarkable stories of people l...  0 years experience   \n",
       "3443  Get inspired by remarkable stories of people l...  0 years experience   \n",
       "3744  Get inspired by remarkable stories of people l...  0 years experience   \n",
       "3804  Get inspired by remarkable stories of people l...  0 years experience   \n",
       "4004  Get inspired by remarkable stories of people l...  0 years experience   \n",
       "4758  Get inspired by remarkable stories of people l...  0 years experience   \n",
       "4847  Get inspired by remarkable stories of people l...  0 years experience   \n",
       "5058  Get inspired by remarkable stories of people l...  0 years experience   \n",
       "5187  Get inspired by remarkable stories of people l...  0 years experience   \n",
       "5551  Get inspired by remarkable stories of people l...  0 years experience   \n",
       "5723  Get inspired by remarkable stories of people l...  0 years experience   \n",
       "\n",
       "     Rating Place         Profile Miscellaneous_Info  Fees  \n",
       "91      NaN   NaN  Dermatologists                NaN   100  \n",
       "502     NaN   NaN  Dermatologists                NaN   100  \n",
       "599     NaN   NaN  Dermatologists                NaN   100  \n",
       "605     NaN   NaN  Dermatologists                NaN   100  \n",
       "724     NaN   NaN  Dermatologists                NaN   100  \n",
       "1002    NaN   NaN  Dermatologists                NaN   100  \n",
       "1083    NaN   NaN  Dermatologists                NaN   100  \n",
       "1210    NaN   NaN  Dermatologists                NaN   100  \n",
       "2078    NaN   NaN  Dermatologists                NaN   100  \n",
       "2178    NaN   NaN  Dermatologists                NaN   100  \n",
       "2328    NaN   NaN  Dermatologists                NaN   100  \n",
       "3099    NaN   NaN  Dermatologists                NaN   100  \n",
       "3228    NaN   NaN  Dermatologists                NaN   100  \n",
       "3418    NaN   NaN  Dermatologists                NaN   100  \n",
       "3443    NaN   NaN  Dermatologists                NaN   100  \n",
       "3744    NaN   NaN  Dermatologists                NaN   100  \n",
       "3804    NaN   NaN  Dermatologists                NaN   100  \n",
       "4004    NaN   NaN  Dermatologists                NaN   100  \n",
       "4758    NaN   NaN  Dermatologists                NaN   100  \n",
       "4847    NaN   NaN  Dermatologists                NaN   100  \n",
       "5058    NaN   NaN  Dermatologists                NaN   100  \n",
       "5187    NaN   NaN  Dermatologists                NaN   100  \n",
       "5551    NaN   NaN  Dermatologists                NaN   100  \n",
       "5723    NaN   NaN  Dermatologists                NaN   100  "
      ]
     },
     "execution_count": 9,
     "metadata": {},
     "output_type": "execute_result"
    }
   ],
   "source": [
    "#Erraneous data & del the rows\n",
    "df[df.Qualification=='Get inspired by remarkable stories of people like you']"
   ]
  },
  {
   "cell_type": "code",
   "execution_count": 10,
   "metadata": {},
   "outputs": [],
   "source": [
    "#del the erraneous rows\n",
    "remove=df[df.Qualification=='Get inspired by remarkable stories of people like you'].index\n",
    "df=df.drop(remove,axis=0)"
   ]
  },
  {
   "cell_type": "code",
   "execution_count": 11,
   "metadata": {},
   "outputs": [
    {
     "data": {
      "text/plain": [
       "0    24\n",
       "1    12\n",
       "2     9\n",
       "3    12\n",
       "4    20\n",
       "5     8\n",
       "6    42\n",
       "7    10\n",
       "8    14\n",
       "9    23\n",
       "Name: Experience, dtype: int32"
      ]
     },
     "execution_count": 11,
     "metadata": {},
     "output_type": "execute_result"
    }
   ],
   "source": [
    "#extract years and convert to INT\n",
    "df['Experience']=df['Experience'].str.extract(pat='(\\d+)')\n",
    "df['Experience']=df['Experience'].astype(np.int)\n",
    "df.Experience[:10]"
   ]
  },
  {
   "cell_type": "markdown",
   "metadata": {},
   "source": [
    "# Rating"
   ]
  },
  {
   "cell_type": "code",
   "execution_count": 12,
   "metadata": {},
   "outputs": [],
   "source": [
    "#remove the '%'' suffix\n",
    "df['Rating']=df.Rating.str.replace('%','')"
   ]
  },
  {
   "cell_type": "code",
   "execution_count": 13,
   "metadata": {},
   "outputs": [
    {
     "data": {
      "text/plain": [
       "array(['100', '98', nan, '99', '79', '95', '97', '94', '88', '90', '80',\n",
       "       '93', '36', '78', '87', '96', '82', '89', '74', '86', '92', '83',\n",
       "       '76', '85', '56', '91', '68', '60', '75', '69', '73', '67', '77',\n",
       "       '33', '55', '71', '84', '45', '63', '72', '81', '62', '57', '7',\n",
       "       '48', '40', '70', '64', '65', '47', '58', '53'], dtype=object)"
      ]
     },
     "execution_count": 13,
     "metadata": {},
     "output_type": "execute_result"
    }
   ],
   "source": [
    "df.Rating.unique()"
   ]
  },
  {
   "cell_type": "code",
   "execution_count": 14,
   "metadata": {},
   "outputs": [],
   "source": [
    "#convert that can to numeric ,errors='coerce' forces non-convertible elements to NaN.\n",
    "df['Rating'] = df.Rating.apply(pd.to_numeric, errors='coerce')"
   ]
  },
  {
   "cell_type": "code",
   "execution_count": 15,
   "metadata": {},
   "outputs": [],
   "source": [
    "#apply median of each 'Profile', rather than apply a blanket median value\n",
    "df['Rating']=df.groupby('Profile')['Rating'].transform(lambda x : x.fillna(x.median()))"
   ]
  },
  {
   "cell_type": "code",
   "execution_count": 16,
   "metadata": {},
   "outputs": [],
   "source": [
    "mask=df.Rating.isnull()\n",
    "temp=df[~mask]\n",
    "temp['Rating']=temp.Rating.astype(np.int)"
   ]
  },
  {
   "cell_type": "code",
   "execution_count": 17,
   "metadata": {},
   "outputs": [
    {
     "data": {
      "text/plain": [
       "Profile\n",
       "Ayurveda            97\n",
       "Dentist             98\n",
       "Dermatologists      96\n",
       "ENT Specialist      93\n",
       "General Medicine    95\n",
       "Homeopath           99\n",
       "Name: Rating, dtype: int32"
      ]
     },
     "execution_count": 17,
     "metadata": {},
     "output_type": "execute_result"
    }
   ],
   "source": [
    "temp.groupby('Profile')['Rating'].median()"
   ]
  },
  {
   "cell_type": "code",
   "execution_count": 18,
   "metadata": {},
   "outputs": [
    {
     "data": {
      "text/plain": [
       "Qualification            0\n",
       "Experience               0\n",
       "Rating                   0\n",
       "Place                    1\n",
       "Profile                  0\n",
       "Miscellaneous_Info    2596\n",
       "Fees                     0\n",
       "dtype: int64"
      ]
     },
     "execution_count": 18,
     "metadata": {},
     "output_type": "execute_result"
    }
   ],
   "source": [
    "df.isnull().sum()"
   ]
  },
  {
   "cell_type": "markdown",
   "metadata": {},
   "source": [
    "# Place"
   ]
  },
  {
   "cell_type": "code",
   "execution_count": 19,
   "metadata": {},
   "outputs": [
    {
     "data": {
      "text/html": [
       "<div>\n",
       "<style scoped>\n",
       "    .dataframe tbody tr th:only-of-type {\n",
       "        vertical-align: middle;\n",
       "    }\n",
       "\n",
       "    .dataframe tbody tr th {\n",
       "        vertical-align: top;\n",
       "    }\n",
       "\n",
       "    .dataframe thead th {\n",
       "        text-align: right;\n",
       "    }\n",
       "</style>\n",
       "<table border=\"1\" class=\"dataframe\">\n",
       "  <thead>\n",
       "    <tr style=\"text-align: right;\">\n",
       "      <th></th>\n",
       "      <th>Qualification</th>\n",
       "      <th>Experience</th>\n",
       "      <th>Rating</th>\n",
       "      <th>Place</th>\n",
       "      <th>Profile</th>\n",
       "      <th>Miscellaneous_Info</th>\n",
       "      <th>Fees</th>\n",
       "    </tr>\n",
       "  </thead>\n",
       "  <tbody>\n",
       "    <tr>\n",
       "      <th>4823</th>\n",
       "      <td>MBBS, DDVL</td>\n",
       "      <td>22</td>\n",
       "      <td>96.0</td>\n",
       "      <td>NaN</td>\n",
       "      <td>Dermatologists</td>\n",
       "      <td>NaN</td>\n",
       "      <td>150</td>\n",
       "    </tr>\n",
       "  </tbody>\n",
       "</table>\n",
       "</div>"
      ],
      "text/plain": [
       "     Qualification  Experience  Rating Place         Profile  \\\n",
       "4823    MBBS, DDVL          22    96.0   NaN  Dermatologists   \n",
       "\n",
       "     Miscellaneous_Info  Fees  \n",
       "4823                NaN   150  "
      ]
     },
     "execution_count": 19,
     "metadata": {},
     "output_type": "execute_result"
    }
   ],
   "source": [
    "df[df.Place.isnull()]"
   ]
  },
  {
   "cell_type": "code",
   "execution_count": 20,
   "metadata": {},
   "outputs": [
    {
     "data": {
      "text/plain": [
       "Banjara Hills, Hyderabad    18\n",
       "Andheri West, Mumbai        17\n",
       "Dwarka, Delhi               14\n",
       "Bandra West, Mumbai         14\n",
       "HSR Layout, Bangalore       13\n",
       "Indiranagar, Bangalore      13\n",
       "Kandivali West, Mumbai      11\n",
       "Jubilee Hills, Hyderabad    11\n",
       "Pitampura, Delhi            11\n",
       "Vileparle West, Mumbai      10\n",
       "Name: Place, dtype: int64"
      ]
     },
     "execution_count": 20,
     "metadata": {},
     "output_type": "execute_result"
    }
   ],
   "source": [
    "df[df.Profile=='Dermatologists']['Place'].value_counts()[:10]"
   ]
  },
  {
   "cell_type": "code",
   "execution_count": 21,
   "metadata": {},
   "outputs": [],
   "source": [
    "df.Place.fillna('Banjara Hills, Hyderabad',inplace=True)"
   ]
  },
  {
   "cell_type": "markdown",
   "metadata": {},
   "source": [
    "# Place - Feature Engineering"
   ]
  },
  {
   "cell_type": "code",
   "execution_count": 22,
   "metadata": {},
   "outputs": [],
   "source": [
    "#split 'Place'\n",
    "temp=df['Place'].str.split(',',n=1,expand=True)"
   ]
  },
  {
   "cell_type": "code",
   "execution_count": 23,
   "metadata": {},
   "outputs": [
    {
     "data": {
      "text/html": [
       "<div>\n",
       "<style scoped>\n",
       "    .dataframe tbody tr th:only-of-type {\n",
       "        vertical-align: middle;\n",
       "    }\n",
       "\n",
       "    .dataframe tbody tr th {\n",
       "        vertical-align: top;\n",
       "    }\n",
       "\n",
       "    .dataframe thead th {\n",
       "        text-align: right;\n",
       "    }\n",
       "</style>\n",
       "<table border=\"1\" class=\"dataframe\">\n",
       "  <thead>\n",
       "    <tr style=\"text-align: right;\">\n",
       "      <th></th>\n",
       "      <th>0</th>\n",
       "      <th>1</th>\n",
       "    </tr>\n",
       "  </thead>\n",
       "  <tbody>\n",
       "    <tr>\n",
       "      <th>0</th>\n",
       "      <td>Kakkanad</td>\n",
       "      <td>Ernakulam</td>\n",
       "    </tr>\n",
       "    <tr>\n",
       "      <th>1</th>\n",
       "      <td>Whitefield</td>\n",
       "      <td>Bangalore</td>\n",
       "    </tr>\n",
       "    <tr>\n",
       "      <th>2</th>\n",
       "      <td>Mathikere - BEL</td>\n",
       "      <td>Bangalore</td>\n",
       "    </tr>\n",
       "    <tr>\n",
       "      <th>3</th>\n",
       "      <td>Bannerghatta Road</td>\n",
       "      <td>Bangalore</td>\n",
       "    </tr>\n",
       "    <tr>\n",
       "      <th>4</th>\n",
       "      <td>Keelkattalai</td>\n",
       "      <td>Chennai</td>\n",
       "    </tr>\n",
       "  </tbody>\n",
       "</table>\n",
       "</div>"
      ],
      "text/plain": [
       "                   0           1\n",
       "0           Kakkanad   Ernakulam\n",
       "1         Whitefield   Bangalore\n",
       "2    Mathikere - BEL   Bangalore\n",
       "3  Bannerghatta Road   Bangalore\n",
       "4       Keelkattalai     Chennai"
      ]
     },
     "execution_count": 23,
     "metadata": {},
     "output_type": "execute_result"
    }
   ],
   "source": [
    "temp.head()"
   ]
  },
  {
   "cell_type": "code",
   "execution_count": 24,
   "metadata": {},
   "outputs": [
    {
     "data": {
      "text/plain": [
       "866"
      ]
     },
     "execution_count": 24,
     "metadata": {},
     "output_type": "execute_result"
    }
   ],
   "source": [
    "#there are 866 neighbourhoods\n",
    "len(temp[0].unique())"
   ]
  },
  {
   "cell_type": "code",
   "execution_count": 25,
   "metadata": {},
   "outputs": [
    {
     "data": {
      "text/plain": [
       "10"
      ]
     },
     "execution_count": 25,
     "metadata": {},
     "output_type": "execute_result"
    }
   ],
   "source": [
    "#there are 10 cities\n",
    "len(temp[1].unique())"
   ]
  },
  {
   "cell_type": "code",
   "execution_count": 26,
   "metadata": {},
   "outputs": [],
   "source": [
    "#assign locality and city\n",
    "df['locality']=temp[0]\n",
    "df['city']=temp[1]"
   ]
  },
  {
   "cell_type": "markdown",
   "metadata": {},
   "source": [
    "# Profile & Fees"
   ]
  },
  {
   "cell_type": "code",
   "execution_count": 27,
   "metadata": {},
   "outputs": [
    {
     "data": {
      "text/plain": [
       "0"
      ]
     },
     "execution_count": 27,
     "metadata": {},
     "output_type": "execute_result"
    }
   ],
   "source": [
    "df.Profile.isnull().sum()"
   ]
  },
  {
   "cell_type": "code",
   "execution_count": 28,
   "metadata": {},
   "outputs": [
    {
     "data": {
      "text/plain": [
       "0"
      ]
     },
     "execution_count": 28,
     "metadata": {},
     "output_type": "execute_result"
    }
   ],
   "source": [
    "df.Fees.isnull().sum()"
   ]
  },
  {
   "cell_type": "markdown",
   "metadata": {},
   "source": [
    "# Miscellaneous_Info"
   ]
  },
  {
   "cell_type": "code",
   "execution_count": 29,
   "metadata": {},
   "outputs": [
    {
     "data": {
      "text/plain": [
       "210                      96% 2 Feedback Kaloor, Ernakulam\n",
       "122     Skin Allergy Treatment Skin Tag Treatment Dark...\n",
       "5716              100% 5 Feedback Chanda Nagar, Hyderabad\n",
       "1149                  81% 48 Feedback Bandra West, Mumbai\n",
       "968                   77% 8 Feedback Manikonda, Hyderabad\n",
       "1726    Presurgical Orthodontics Cosmetic/ Aesthetic D...\n",
       "3774          100% 4 Feedback Ramamurthy Nagar, Bangalore\n",
       "565     Allergy Treatment Viral Fever Treatment Skin T...\n",
       "3309                                                  NaN\n",
       "5882                                                  NaN\n",
       "Name: Miscellaneous_Info, dtype: object"
      ]
     },
     "execution_count": 29,
     "metadata": {},
     "output_type": "execute_result"
    }
   ],
   "source": [
    "df.Miscellaneous_Info.sample(10)"
   ]
  },
  {
   "cell_type": "code",
   "execution_count": 30,
   "metadata": {},
   "outputs": [],
   "source": [
    "#not useful as the Rating has already been extracted to another column\n",
    "df.drop(columns='Miscellaneous_Info',inplace=True)"
   ]
  },
  {
   "cell_type": "markdown",
   "metadata": {},
   "source": [
    "# Qualification"
   ]
  },
  {
   "cell_type": "code",
   "execution_count": 31,
   "metadata": {},
   "outputs": [
    {
     "data": {
      "text/plain": [
       "0                                   BHMS, MD - Homeopathy\n",
       "1                            BAMS, MD - Ayurveda Medicine\n",
       "2                          MBBS, MS - Otorhinolaryngology\n",
       "3                                     BSc - Zoology, BAMS\n",
       "4                                                    BAMS\n",
       "5                                                    BAMS\n",
       "6                                                    BHMS\n",
       "7                                                     BDS\n",
       "8                             MBBS, MD - General Medicine\n",
       "9                                                BSc, BDS\n",
       "10                                    MBBS, MS, DNB - ENT\n",
       "11                                                   BAMS\n",
       "12                                               BDS, MDS\n",
       "13                BDS, MDS - Oral & Maxillofacial Surgery\n",
       "14      MBBS, Diploma in Otorhinolaryngology (DLO), DN...\n",
       "15                            MBBS, MD - General Medicine\n",
       "16             MBBS, Diploma in Otorhinolaryngology (DLO)\n",
       "17                                   MBBS, MF- Homeopathy\n",
       "18                                         MBBS, MS - ENT\n",
       "19                                                   MBBS\n",
       "20                                          MDS, DNB, BDS\n",
       "21                                        MBBS, DNB - ENT\n",
       "22                                                   MBBS\n",
       "23      MBBS, Fellowship of College of General Practic...\n",
       "24                                             MBBS, DDVL\n",
       "25                                                    BDS\n",
       "26                                      MBBS, IBCLC (USA)\n",
       "27      MBBS, MD - General Medicine, Post Graduate Dip...\n",
       "28                                               BDS, MDS\n",
       "29                           Diploma in Dermatology, MBBS\n",
       "                              ...                        \n",
       "5931    MBBS, MRCP (UK), Post Graduate Diploma in Diab...\n",
       "5932                                                  BDS\n",
       "5933                                BHMS, MD - Homeopathy\n",
       "5934                                                 BHMS\n",
       "5935      MDS - Periodontology and Oral Implantology, BDS\n",
       "5936    MD - Homeopathy, LCEH, Diploma in Preventive &...\n",
       "5937                                            BHMS, MSc\n",
       "5938                                                 MBBS\n",
       "5939                                BHMS, MD - Pediatrics\n",
       "5940                               MBBS, MD - Dermatology\n",
       "5941                                                 BHMS\n",
       "5942                          MBBS, MD - General Medicine\n",
       "5943                                                  BDS\n",
       "5944                                             MS - ENT\n",
       "5945    BDS, FDS Endodontics, Certified in Advanced Or...\n",
       "5946                                                  BDS\n",
       "5947                                                 BHMS\n",
       "5948                                                 BAMS\n",
       "5949                                                 BHMS\n",
       "5950    MD - Dermatology , Venereology & Leprosy, MBBS...\n",
       "5951                BDS, certification in smile designing\n",
       "5952                                                 MBBS\n",
       "5953    MD - Homeopathy, Post Graduate Diploma in Heal...\n",
       "5954                                                 BHMS\n",
       "5955                                      MD - Homeopathy\n",
       "5956                                       MBBS, MS - ENT\n",
       "5957                                                 MBBS\n",
       "5958                                                 MBBS\n",
       "5959                          MBBS, MD - General Medicine\n",
       "5960                              BDS, MDS - Orthodontics\n",
       "Name: Qualification, Length: 5937, dtype: object"
      ]
     },
     "execution_count": 31,
     "metadata": {},
     "output_type": "execute_result"
    }
   ],
   "source": [
    "df.Qualification"
   ]
  },
  {
   "cell_type": "code",
   "execution_count": 32,
   "metadata": {},
   "outputs": [],
   "source": [
    "stopWords = set(stopwords.words('english'))\n",
    "\n",
    "REPLACE_BY_SPACE_RE = re.compile('[/(){}\\[\\]\\|@,;]')\n",
    "BAD_SYMBOLS_RE = re.compile('[^0-9a-z #+_]')\n",
    "STOPWORDS = set(stopwords.words('english'))\n",
    "\n",
    "def clean_text(text):\n",
    "    \"\"\"\n",
    "        text: a string\n",
    "        \n",
    "        return: modified initial string\n",
    "    \"\"\"\n",
    "    text = text.lower() # lowercase text\n",
    "    text = REPLACE_BY_SPACE_RE.sub(' ', text) # replace REPLACE_BY_SPACE_RE symbols by space in text\n",
    "    text = BAD_SYMBOLS_RE.sub('', text) # delete symbols which are in BAD_SYMBOLS_RE from text\n",
    "    text = ' '.join(word for word in text.split() if word not in STOPWORDS) # delete stopwors from text\n",
    "    return text"
   ]
  },
  {
   "cell_type": "code",
   "execution_count": 33,
   "metadata": {},
   "outputs": [],
   "source": [
    "#retain words that is between 2 to 4 chars and remove redundancy\n",
    "def two_four_chars(text):\n",
    "    clean=[]\n",
    "    for word in text.split():\n",
    "        if len(word) in (2,3,4):\n",
    "            clean.append(word)\n",
    "        else: pass\n",
    "    return list(dict.fromkeys(clean)) #remove redundancy"
   ]
  },
  {
   "cell_type": "code",
   "execution_count": 34,
   "metadata": {},
   "outputs": [],
   "source": [
    "df['Qualification'] = df['Qualification'].apply(two_four_chars)"
   ]
  },
  {
   "cell_type": "code",
   "execution_count": 71,
   "metadata": {},
   "outputs": [],
   "source": [
    "#join the words for countvectorising\n",
    "df['Qualification'] = df['Qualification'].apply(lambda x : ' '.join(x))"
   ]
  },
  {
   "cell_type": "code",
   "execution_count": 126,
   "metadata": {},
   "outputs": [],
   "source": [
    "#min_df is used to limit total columns of 46 vs more than 240 if the whole corpus is included\n",
    "from sklearn.feature_extraction.text import CountVectorizer\n",
    "\n",
    "cv = CountVectorizer(min_df=10)\n",
    "count_vect=cv.fit_transform(df['Qualification']).A"
   ]
  },
  {
   "cell_type": "code",
   "execution_count": 127,
   "metadata": {},
   "outputs": [
    {
     "data": {
      "text/plain": [
       "array([[0, 0, 1, ..., 0, 0, 0],\n",
       "       [1, 0, 0, ..., 0, 0, 0],\n",
       "       [0, 0, 0, ..., 0, 0, 0],\n",
       "       ...,\n",
       "       [0, 0, 0, ..., 0, 0, 0],\n",
       "       [0, 0, 0, ..., 0, 0, 0],\n",
       "       [0, 1, 0, ..., 0, 0, 0]], dtype=int64)"
      ]
     },
     "execution_count": 127,
     "metadata": {},
     "output_type": "execute_result"
    }
   ],
   "source": [
    "count_vect"
   ]
  },
  {
   "cell_type": "code",
   "execution_count": 128,
   "metadata": {},
   "outputs": [
    {
     "name": "stdout",
     "output_type": "stream",
     "text": [
      "There are 46 unique words in this corpus\n"
     ]
    }
   ],
   "source": [
    "print(f'There are {len(cv.get_feature_names())} unique words in this corpus')"
   ]
  },
  {
   "cell_type": "code",
   "execution_count": 129,
   "metadata": {},
   "outputs": [
    {
     "data": {
      "text/plain": [
       "mbbs    2805\n",
       "md      1550\n",
       "bds     1362\n",
       "bams     762\n",
       "mds      750\n",
       "bhms     748\n",
       "ms       627\n",
       "ent      483\n",
       "dnb      407\n",
       "dlo      266\n",
       "oral     252\n",
       "ddvl     161\n",
       "post     146\n",
       "ddv      129\n",
       "uk        58\n",
       "pgdd      56\n",
       "phd       53\n",
       "skin      51\n",
       "dhms      50\n",
       "dvd       46\n",
       "vd        43\n",
       "pg        42\n",
       "msc       36\n",
       "dm        34\n",
       "yoga      31\n",
       "fcps      30\n",
       "fage      29\n",
       "mrcp      27\n",
       "mch       26\n",
       "cgo       25\n",
       "mba       22\n",
       "usa       21\n",
       "dch       20\n",
       "cch       19\n",
       "bsc       18\n",
       "dgo       17\n",
       "frcs      17\n",
       "lceh      16\n",
       "head      15\n",
       "neck      15\n",
       "mrcs      15\n",
       "frcp      14\n",
       "care      13\n",
       "fcgp      13\n",
       "hair      11\n",
       "icoi      10\n",
       "dtype: int64"
      ]
     },
     "execution_count": 129,
     "metadata": {},
     "output_type": "execute_result"
    }
   ],
   "source": [
    "nlp=pd.DataFrame(cv.fit_transform(df['Qualification']).A,columns=cv.get_feature_names())\n",
    "#top 46 words in Qualifications column\n",
    "nlp.sum(axis=0).sort_values(ascending=False)"
   ]
  },
  {
   "cell_type": "code",
   "execution_count": 138,
   "metadata": {},
   "outputs": [
    {
     "data": {
      "text/plain": [
       "(5937, 46)"
      ]
     },
     "execution_count": 138,
     "metadata": {},
     "output_type": "execute_result"
    }
   ],
   "source": [
    "nlp.shape"
   ]
  },
  {
   "cell_type": "code",
   "execution_count": 132,
   "metadata": {},
   "outputs": [
    {
     "data": {
      "text/plain": [
       "(5937, 8)"
      ]
     },
     "execution_count": 132,
     "metadata": {},
     "output_type": "execute_result"
    }
   ],
   "source": [
    "df.shape"
   ]
  },
  {
   "cell_type": "code",
   "execution_count": 141,
   "metadata": {},
   "outputs": [],
   "source": [
    "#save to new dataframe & csv\n",
    "df2=pd.concat([df, nlp], axis=1, join_axes=[df.index]).reset_index()\n",
    "df2.to_csv('.\\dataset\\Clean_Final_Train.csv',index=False)"
   ]
  },
  {
   "cell_type": "code",
   "execution_count": 142,
   "metadata": {},
   "outputs": [],
   "source": []
  },
  {
   "cell_type": "code",
   "execution_count": null,
   "metadata": {},
   "outputs": [],
   "source": [
    "#Median doctor's experience is 14 years\n",
    "df.Experience.describe().round(0)"
   ]
  },
  {
   "cell_type": "code",
   "execution_count": null,
   "metadata": {
    "scrolled": true
   },
   "outputs": [],
   "source": [
    "sns.boxplot(x=df['Experience'],data=df);\n",
    "plt.title('Boxplot of doctor\\'s experience');"
   ]
  },
  {
   "cell_type": "code",
   "execution_count": null,
   "metadata": {},
   "outputs": [],
   "source": [
    "df['city']=new[1]"
   ]
  },
  {
   "cell_type": "code",
   "execution_count": null,
   "metadata": {},
   "outputs": [],
   "source": [
    "df.city.unique()"
   ]
  },
  {
   "cell_type": "code",
   "execution_count": null,
   "metadata": {},
   "outputs": [],
   "source": [
    "#fillna as 'Banjara Hills, Hyderabad' because this is the median Place for 'Dermatologists' \n",
    "df.fillna='Banjara Hills, Hyderabad'"
   ]
  },
  {
   "cell_type": "code",
   "execution_count": null,
   "metadata": {},
   "outputs": [],
   "source": [
    "#definitely a good categorical predictor as different service has different price range\n",
    "df.Profile.unique()"
   ]
  },
  {
   "cell_type": "code",
   "execution_count": null,
   "metadata": {},
   "outputs": [],
   "source": [
    "df.columns"
   ]
  },
  {
   "cell_type": "code",
   "execution_count": null,
   "metadata": {},
   "outputs": [],
   "source": [
    "#Cheapest fees are Ayurveda,Dentist\n",
    "#Most expensive are ENT Specialist, General Medicine and Dermatolgists\n",
    "#Most expensive minium fees is Dermatologists"
   ]
  },
  {
   "cell_type": "code",
   "execution_count": null,
   "metadata": {},
   "outputs": [],
   "source": [
    "df.Miscellaneous_Info"
   ]
  },
  {
   "cell_type": "code",
   "execution_count": null,
   "metadata": {},
   "outputs": [],
   "source": [
    "#not useful as the Rating has already been extracted to another column\n",
    "df.drop(columns='Miscellaneous_Info',inplace=True)"
   ]
  },
  {
   "cell_type": "code",
   "execution_count": null,
   "metadata": {},
   "outputs": [],
   "source": [
    "#There is variance , good categorical variable\n",
    "plt.figure(figsize=(10, 5))\n",
    "sns.boxplot(x=df.Profile , y=df.Fees)\n",
    "plt.title('Fees range for different services');"
   ]
  },
  {
   "cell_type": "code",
   "execution_count": null,
   "metadata": {},
   "outputs": [],
   "source": [
    "df.sample(10)"
   ]
  }
 ],
 "metadata": {
  "kernelspec": {
   "display_name": "Python 3",
   "language": "python",
   "name": "python3"
  },
  "language_info": {
   "codemirror_mode": {
    "name": "ipython",
    "version": 3
   },
   "file_extension": ".py",
   "mimetype": "text/x-python",
   "name": "python",
   "nbconvert_exporter": "python",
   "pygments_lexer": "ipython3",
   "version": "3.7.3"
  }
 },
 "nbformat": 4,
 "nbformat_minor": 2
}
