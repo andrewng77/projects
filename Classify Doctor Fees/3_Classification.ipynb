{
 "cells": [
  {
   "cell_type": "markdown",
   "metadata": {},
   "source": [
    "# Classify A Doctor's Consultation Fee"
   ]
  },
  {
   "cell_type": "code",
   "execution_count": 1,
   "metadata": {},
   "outputs": [],
   "source": [
    "import numpy as np\n",
    "import pandas as pd\n",
    "import seaborn as sns\n",
    "import matplotlib.pyplot as plt\n",
    "\n",
    "sns.set_style('whitegrid')\n",
    "\n",
    "from sklearn.preprocessing import StandardScaler\n",
    "from sklearn.model_selection import train_test_split,cross_val_score,StratifiedKFold\n",
    "\n",
    "from sklearn.linear_model import LogisticRegression\n",
    "from sklearn.ensemble import RandomForestClassifier\n",
    "from sklearn.svm import LinearSVC\n",
    "\n",
    "from sklearn.metrics import f1_score,classification_report,confusion_matrix\n",
    "\n",
    "%matplotlib inline\n",
    "\n",
    "import warnings\n",
    "def ignore_warn(*args, **kwargs):\n",
    "    pass\n",
    "warnings.warn = ignore_warn #ignore annoying warning (from sklearn and seaborn)"
   ]
  },
  {
   "cell_type": "code",
   "execution_count": 2,
   "metadata": {},
   "outputs": [],
   "source": [
    "#read csv to df\n",
    "df = pd.read_csv('.\\dataset\\clean_Final_Train.csv')"
   ]
  },
  {
   "cell_type": "markdown",
   "metadata": {},
   "source": [
    "# Feature engineering"
   ]
  },
  {
   "cell_type": "code",
   "execution_count": 3,
   "metadata": {},
   "outputs": [],
   "source": [
    "df.city.unique()\n",
    "#top tier cities will have a value of 0\n",
    "top=['Bangalore', 'Chennai', 'Delhi', 'Hyderabad' ,'Mumbai']\n",
    "df['top_tier']=df.city.apply(lambda x : 0 if x in top else 1 )"
   ]
  },
  {
   "cell_type": "markdown",
   "metadata": {},
   "source": [
    "# Modelling"
   ]
  },
  {
   "cell_type": "code",
   "execution_count": 4,
   "metadata": {},
   "outputs": [
    {
     "data": {
      "text/plain": [
       "count    5937.0\n",
       "mean      309.0\n",
       "std       191.0\n",
       "min         5.0\n",
       "25%       150.0\n",
       "50%       300.0\n",
       "75%       500.0\n",
       "max       950.0\n",
       "Name: Fees, dtype: float64"
      ]
     },
     "execution_count": 4,
     "metadata": {},
     "output_type": "execute_result"
    }
   ],
   "source": [
    "df.Fees.describe().round()"
   ]
  },
  {
   "cell_type": "code",
   "execution_count": 5,
   "metadata": {},
   "outputs": [],
   "source": [
    "#Median is 300.\n",
    "#Anything below 300 is cheap\n",
    "df['cheap']=df.Fees.apply(lambda x : 1 if x <= 300 else 0)"
   ]
  },
  {
   "cell_type": "code",
   "execution_count": 6,
   "metadata": {},
   "outputs": [
    {
     "data": {
      "text/plain": [
       "1    0.63\n",
       "0    0.37\n",
       "Name: cheap, dtype: float64"
      ]
     },
     "execution_count": 6,
     "metadata": {},
     "output_type": "execute_result"
    }
   ],
   "source": [
    "#there's no extreme imbalance class\n",
    "df.cheap.value_counts(normalize=True).round(2)"
   ]
  },
  {
   "cell_type": "code",
   "execution_count": 7,
   "metadata": {},
   "outputs": [
    {
     "name": "stdout",
     "output_type": "stream",
     "text": [
      "Baseline prediction  = 0.63\n"
     ]
    }
   ],
   "source": [
    "print(f'Baseline prediction  = {round(df.cheap.sum()/len(df),2)}')"
   ]
  },
  {
   "cell_type": "code",
   "execution_count": 8,
   "metadata": {},
   "outputs": [],
   "source": [
    "drop_cols=['Fees','cheap']\n",
    "\n",
    "#assign predictor and target variables\n",
    "X=df.drop(drop_cols,axis=1)\n",
    "y=df.cheap"
   ]
  },
  {
   "cell_type": "code",
   "execution_count": 9,
   "metadata": {},
   "outputs": [],
   "source": [
    "# Create dummy variables( One Hot Encoding) for all categorical columns.\n",
    "\n",
    "def ohe(df):\n",
    "    '''\n",
    "    get_dummies are created by just providing the DataFrame\n",
    "    continuous variables will not be ohe-ed\n",
    "    \n",
    "    remember to include your dependent variable too\n",
    "    function will returned an EXPLODED dataframe\n",
    "    '''    \n",
    "    #cycle through all the columns at the df\n",
    "    for col in df.columns:\n",
    "        #if col if it's an object, get_dummy on it and concat to a df\n",
    "        if col in df.select_dtypes('object').columns.values: \n",
    "            dummy = pd.get_dummies(df[col], drop_first=True, prefix=col,dtype=int)\n",
    "            df = pd.concat([df, dummy], axis=1)\n",
    "            #drop the col after it has been encoded\n",
    "            df.drop(col, axis=1, inplace=True)\n",
    "    return df\n",
    "\n",
    "X=ohe(X)"
   ]
  },
  {
   "cell_type": "code",
   "execution_count": 10,
   "metadata": {},
   "outputs": [],
   "source": [
    "#Train-test split based on Pareto rule, 90% train and 10% test\n",
    "X_train, X_test, y_train, y_test = train_test_split\\\n",
    "                (X, y, test_size=0.1, random_state=42,stratify=y)"
   ]
  },
  {
   "cell_type": "code",
   "execution_count": 11,
   "metadata": {},
   "outputs": [],
   "source": [
    "#Standard Scale the X-train and X_test(only transform)\n",
    "ss=StandardScaler()\n",
    "X_train=ss.fit_transform(X_train)\n",
    "X_test =ss.transform(X_test)"
   ]
  },
  {
   "cell_type": "markdown",
   "metadata": {},
   "source": [
    "## Modelling"
   ]
  },
  {
   "cell_type": "code",
   "execution_count": 12,
   "metadata": {},
   "outputs": [
    {
     "data": {
      "image/png": "[encoded data removed]",
      "text/plain": [
       "<Figure size 432x288 with 1 Axes>"
      ]
     },
     "metadata": {
      "needs_background": "light"
     },
     "output_type": "display_data"
    }
   ],
   "source": [
    "models = [\n",
    "    RandomForestClassifier(n_estimators=200, max_depth=3, random_state=0),\n",
    "    LinearSVC(),\n",
    "    LogisticRegression(random_state=0),\n",
    "]\n",
    "CV = 5\n",
    "cv_df = pd.DataFrame(index=range(CV * len(models)))\n",
    "entries = []\n",
    "for model in models:\n",
    "  model_name = model.__class__.__name__\n",
    "  accuracies = cross_val_score(model, X_train, y_train, scoring='precision', cv=CV)\n",
    "  for fold_idx, accuracy in enumerate(accuracies):\n",
    "    entries.append((model_name, fold_idx, accuracy))\n",
    "cv_df = pd.DataFrame(entries, columns=['model_name', 'fold_idx', 'precision'])\n",
    "import seaborn as sns\n",
    "sns.boxplot(x='model_name', y='precision', data=cv_df)\n",
    "sns.stripplot(x='model_name', y='precision', data=cv_df, \n",
    "              size=8, jitter=True, edgecolor=\"gray\", linewidth=2)\n",
    "plt.show()"
   ]
  },
  {
   "cell_type": "code",
   "execution_count": 13,
   "metadata": {},
   "outputs": [
    {
     "data": {
      "text/plain": [
       "model_name\n",
       "LinearSVC                 0.73\n",
       "LogisticRegression        0.73\n",
       "RandomForestClassifier    0.67\n",
       "Name: precision, dtype: float64"
      ]
     },
     "execution_count": 13,
     "metadata": {},
     "output_type": "execute_result"
    }
   ],
   "source": [
    "#for now it's only 5% better than RF\n",
    "cv_df.groupby('model_name').precision.mean().round(2)"
   ]
  },
  {
   "cell_type": "code",
   "execution_count": 14,
   "metadata": {},
   "outputs": [],
   "source": [
    "logreg=LogisticRegression(solver='liblinear',penalty='l1',n_jobs=-1,random_state=42)"
   ]
  },
  {
   "cell_type": "code",
   "execution_count": 15,
   "metadata": {},
   "outputs": [
    {
     "name": "stdout",
     "output_type": "stream",
     "text": [
      "Cross-Validation Accuracy : mean 0.7 ,  std dev : 0.01\n",
      "\n"
     ]
    }
   ],
   "source": [
    "scores = cross_val_score(logreg,X_train, y_train, cv=5, scoring='accuracy')\n",
    "print('Cross-Validation Accuracy : mean {} ,  std dev : {}\\n'.format(round(np.mean(scores),2), round(np.std(scores),2)))"
   ]
  },
  {
   "cell_type": "code",
   "execution_count": 16,
   "metadata": {},
   "outputs": [],
   "source": [
    "logreg.fit(X_train, y_train)\n",
    "y_pred = logreg.predict(X_test)"
   ]
  },
  {
   "cell_type": "code",
   "execution_count": 17,
   "metadata": {},
   "outputs": [
    {
     "name": "stdout",
     "output_type": "stream",
     "text": [
      "Logistic Regression , Precision 0.79\n",
      "\n",
      "              precision    recall  f1-score   support\n",
      "\n",
      "   expensive       0.64      0.49      0.55       219\n",
      "       cheap       0.74      0.84      0.79       375\n",
      "\n",
      "   micro avg       0.71      0.71      0.71       594\n",
      "   macro avg       0.69      0.66      0.67       594\n",
      "weighted avg       0.70      0.71      0.70       594\n",
      "\n"
     ]
    }
   ],
   "source": [
    "print('Logistic Regression , Precision %s\\n' % f1_score(y_pred, y_test).round(2))\n",
    "print(classification_report(y_test, y_pred,target_names=['expensive','cheap']))"
   ]
  },
  {
   "cell_type": "code",
   "execution_count": 18,
   "metadata": {},
   "outputs": [
    {
     "data": {
      "image/png": "[encoded data removed]",
      "text/plain": [
       "<Figure size 360x216 with 2 Axes>"
      ]
     },
     "metadata": {
      "needs_background": "light"
     },
     "output_type": "display_data"
    }
   ],
   "source": [
    "conf_mat = confusion_matrix(y_test, y_pred)\n",
    "fig, ax = plt.subplots(figsize=(5,3))\n",
    "sns.set(font_scale=1.1)\n",
    "sns.heatmap(conf_mat, annot=True, fmt='d',cmap='Blues',xticklabels=['expensive','cheap'],\\\n",
    "           yticklabels=['         expensive','cheap'])\n",
    "plt.xlabel('Predicted')\n",
    "plt.ylabel('Actual')\n",
    "plt.show()"
   ]
  },
  {
   "cell_type": "code",
   "execution_count": 19,
   "metadata": {},
   "outputs": [],
   "source": [
    "coef=pd.DataFrame(np.transpose(logreg.coef_),index=X.columns,columns=['co-ef'])\n",
    "coef=coef.sort_values(by='co-ef',ascending=False)\n",
    "coef['odds']=round(np.exp(coef['co-ef']),2)"
   ]
  },
  {
   "cell_type": "code",
   "execution_count": 20,
   "metadata": {},
   "outputs": [
    {
     "data": {
      "text/html": [
       "<div>\n",
       "<style scoped>\n",
       "    .dataframe tbody tr th:only-of-type {\n",
       "        vertical-align: middle;\n",
       "    }\n",
       "\n",
       "    .dataframe tbody tr th {\n",
       "        vertical-align: top;\n",
       "    }\n",
       "\n",
       "    .dataframe thead th {\n",
       "        text-align: right;\n",
       "    }\n",
       "</style>\n",
       "<table border=\"1\" class=\"dataframe\">\n",
       "  <thead>\n",
       "    <tr style=\"text-align: right;\">\n",
       "      <th></th>\n",
       "      <th>co-ef</th>\n",
       "      <th>odds</th>\n",
       "    </tr>\n",
       "  </thead>\n",
       "  <tbody>\n",
       "    <tr>\n",
       "      <th>Profile_Dentist</th>\n",
       "      <td>0.610888</td>\n",
       "      <td>1.84</td>\n",
       "    </tr>\n",
       "    <tr>\n",
       "      <th>top_tier</th>\n",
       "      <td>0.499443</td>\n",
       "      <td>1.65</td>\n",
       "    </tr>\n",
       "    <tr>\n",
       "      <th>city_Coimbatore</th>\n",
       "      <td>0.361021</td>\n",
       "      <td>1.43</td>\n",
       "    </tr>\n",
       "    <tr>\n",
       "      <th>city_Chennai</th>\n",
       "      <td>0.203287</td>\n",
       "      <td>1.23</td>\n",
       "    </tr>\n",
       "    <tr>\n",
       "      <th>city_Hyderabad</th>\n",
       "      <td>0.147326</td>\n",
       "      <td>1.16</td>\n",
       "    </tr>\n",
       "    <tr>\n",
       "      <th>bams</th>\n",
       "      <td>0.130323</td>\n",
       "      <td>1.14</td>\n",
       "    </tr>\n",
       "    <tr>\n",
       "      <th>mbbs</th>\n",
       "      <td>0.088777</td>\n",
       "      <td>1.09</td>\n",
       "    </tr>\n",
       "    <tr>\n",
       "      <th>Experience</th>\n",
       "      <td>0.077588</td>\n",
       "      <td>1.08</td>\n",
       "    </tr>\n",
       "    <tr>\n",
       "      <th>ent</th>\n",
       "      <td>0.041602</td>\n",
       "      <td>1.04</td>\n",
       "    </tr>\n",
       "    <tr>\n",
       "      <th>post</th>\n",
       "      <td>0.017867</td>\n",
       "      <td>1.02</td>\n",
       "    </tr>\n",
       "    <tr>\n",
       "      <th>of</th>\n",
       "      <td>0.006574</td>\n",
       "      <td>1.01</td>\n",
       "    </tr>\n",
       "    <tr>\n",
       "      <th>city_Ernakulam</th>\n",
       "      <td>0.003632</td>\n",
       "      <td>1.00</td>\n",
       "    </tr>\n",
       "    <tr>\n",
       "      <th>city_Thiruvananthapuram</th>\n",
       "      <td>0.000000</td>\n",
       "      <td>1.00</td>\n",
       "    </tr>\n",
       "    <tr>\n",
       "      <th>ddv</th>\n",
       "      <td>0.000000</td>\n",
       "      <td>1.00</td>\n",
       "    </tr>\n",
       "    <tr>\n",
       "      <th>city_Mumbai</th>\n",
       "      <td>-0.002095</td>\n",
       "      <td>1.00</td>\n",
       "    </tr>\n",
       "    <tr>\n",
       "      <th>and</th>\n",
       "      <td>-0.006138</td>\n",
       "      <td>0.99</td>\n",
       "    </tr>\n",
       "    <tr>\n",
       "      <th>oral</th>\n",
       "      <td>-0.009426</td>\n",
       "      <td>0.99</td>\n",
       "    </tr>\n",
       "    <tr>\n",
       "      <th>ddvl</th>\n",
       "      <td>-0.012291</td>\n",
       "      <td>0.99</td>\n",
       "    </tr>\n",
       "    <tr>\n",
       "      <th>bhms</th>\n",
       "      <td>-0.013423</td>\n",
       "      <td>0.99</td>\n",
       "    </tr>\n",
       "    <tr>\n",
       "      <th>phd</th>\n",
       "      <td>-0.015401</td>\n",
       "      <td>0.98</td>\n",
       "    </tr>\n",
       "    <tr>\n",
       "      <th>in</th>\n",
       "      <td>-0.028424</td>\n",
       "      <td>0.97</td>\n",
       "    </tr>\n",
       "    <tr>\n",
       "      <th>city_Delhi</th>\n",
       "      <td>-0.094160</td>\n",
       "      <td>0.91</td>\n",
       "    </tr>\n",
       "    <tr>\n",
       "      <th>Profile_Homeopath</th>\n",
       "      <td>-0.098232</td>\n",
       "      <td>0.91</td>\n",
       "    </tr>\n",
       "    <tr>\n",
       "      <th>md</th>\n",
       "      <td>-0.106280</td>\n",
       "      <td>0.90</td>\n",
       "    </tr>\n",
       "    <tr>\n",
       "      <th>dnb</th>\n",
       "      <td>-0.109436</td>\n",
       "      <td>0.90</td>\n",
       "    </tr>\n",
       "    <tr>\n",
       "      <th>bds</th>\n",
       "      <td>-0.117304</td>\n",
       "      <td>0.89</td>\n",
       "    </tr>\n",
       "    <tr>\n",
       "      <th>ms</th>\n",
       "      <td>-0.184816</td>\n",
       "      <td>0.83</td>\n",
       "    </tr>\n",
       "    <tr>\n",
       "      <th>Rating</th>\n",
       "      <td>-0.267178</td>\n",
       "      <td>0.77</td>\n",
       "    </tr>\n",
       "    <tr>\n",
       "      <th>Profile_General Medicine</th>\n",
       "      <td>-0.282051</td>\n",
       "      <td>0.75</td>\n",
       "    </tr>\n",
       "    <tr>\n",
       "      <th>Profile_ENT Specialist</th>\n",
       "      <td>-0.303671</td>\n",
       "      <td>0.74</td>\n",
       "    </tr>\n",
       "    <tr>\n",
       "      <th>mds</th>\n",
       "      <td>-0.349664</td>\n",
       "      <td>0.70</td>\n",
       "    </tr>\n",
       "    <tr>\n",
       "      <th>Profile_Dermatologists</th>\n",
       "      <td>-0.460385</td>\n",
       "      <td>0.63</td>\n",
       "    </tr>\n",
       "  </tbody>\n",
       "</table>\n",
       "</div>"
      ],
      "text/plain": [
       "                             co-ef  odds\n",
       "Profile_Dentist           0.610888  1.84\n",
       "top_tier                  0.499443  1.65\n",
       "city_Coimbatore           0.361021  1.43\n",
       "city_Chennai              0.203287  1.23\n",
       "city_Hyderabad            0.147326  1.16\n",
       "bams                      0.130323  1.14\n",
       "mbbs                      0.088777  1.09\n",
       "Experience                0.077588  1.08\n",
       "ent                       0.041602  1.04\n",
       "post                      0.017867  1.02\n",
       "of                        0.006574  1.01\n",
       "city_Ernakulam            0.003632  1.00\n",
       "city_Thiruvananthapuram   0.000000  1.00\n",
       "ddv                       0.000000  1.00\n",
       "city_Mumbai              -0.002095  1.00\n",
       "and                      -0.006138  0.99\n",
       "oral                     -0.009426  0.99\n",
       "ddvl                     -0.012291  0.99\n",
       "bhms                     -0.013423  0.99\n",
       "phd                      -0.015401  0.98\n",
       "in                       -0.028424  0.97\n",
       "city_Delhi               -0.094160  0.91\n",
       "Profile_Homeopath        -0.098232  0.91\n",
       "md                       -0.106280  0.90\n",
       "dnb                      -0.109436  0.90\n",
       "bds                      -0.117304  0.89\n",
       "ms                       -0.184816  0.83\n",
       "Rating                   -0.267178  0.77\n",
       "Profile_General Medicine -0.282051  0.75\n",
       "Profile_ENT Specialist   -0.303671  0.74\n",
       "mds                      -0.349664  0.70\n",
       "Profile_Dermatologists   -0.460385  0.63"
      ]
     },
     "execution_count": 20,
     "metadata": {},
     "output_type": "execute_result"
    }
   ],
   "source": [
    "coef"
   ]
  }
 ],
 "metadata": {
  "kernelspec": {
   "display_name": "Python 3",
   "language": "python",
   "name": "python3"
  },
  "language_info": {
   "codemirror_mode": {
    "name": "ipython",
    "version": 3
   },
   "file_extension": ".py",
   "mimetype": "text/x-python",
   "name": "python",
   "nbconvert_exporter": "python",
   "pygments_lexer": "ipython3",
   "version": "3.7.3"
  }
 },
 "nbformat": 4,
 "nbformat_minor": 2
}
