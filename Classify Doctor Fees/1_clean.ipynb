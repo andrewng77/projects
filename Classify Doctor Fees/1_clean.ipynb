{
 "cells": [
  {
   "cell_type": "markdown",
   "metadata": {},
   "source": [
    "# Classify A Doctor's Consultation Fee"
   ]
  },
  {
   "cell_type": "code",
   "execution_count": 1,
   "metadata": {},
   "outputs": [],
   "source": [
    "#https://www.machinehack.com/course/predict-a-doctors-consultation-fees-hackathon/"
   ]
  },
  {
   "cell_type": "markdown",
   "metadata": {},
   "source": [
    "# Data processing"
   ]
  },
  {
   "cell_type": "code",
   "execution_count": 2,
   "metadata": {},
   "outputs": [],
   "source": [
    "import numpy as np\n",
    "import pandas as pd\n",
    "import re\n",
    "import seaborn as sns\n",
    "import matplotlib.pyplot as plt\n",
    "\n",
    "sns.set_style('whitegrid')\n",
    "\n",
    "from nltk.corpus import stopwords\n",
    "\n",
    "%matplotlib inline\n",
    "\n",
    "import warnings\n",
    "def ignore_warn(*args, **kwargs):\n",
    "    pass\n",
    "warnings.warn = ignore_warn #ignore annoying warning (from sklearn and seaborn)"
   ]
  },
  {
   "cell_type": "code",
   "execution_count": 3,
   "metadata": {},
   "outputs": [],
   "source": [
    "#read csv to df\n",
    "df = pd.read_csv('.\\dataset\\Final_Train.csv')"
   ]
  },
  {
   "cell_type": "code",
   "execution_count": 4,
   "metadata": {},
   "outputs": [
    {
     "data": {
      "text/plain": [
       "(5961, 7)"
      ]
     },
     "execution_count": 4,
     "metadata": {},
     "output_type": "execute_result"
    }
   ],
   "source": [
    "#5961 rows and 7 columns\n",
    "df.shape"
   ]
  },
  {
   "cell_type": "code",
   "execution_count": 5,
   "metadata": {
    "scrolled": true
   },
   "outputs": [
    {
     "data": {
      "text/html": [
       "<div>\n",
       "<style scoped>\n",
       "    .dataframe tbody tr th:only-of-type {\n",
       "        vertical-align: middle;\n",
       "    }\n",
       "\n",
       "    .dataframe tbody tr th {\n",
       "        vertical-align: top;\n",
       "    }\n",
       "\n",
       "    .dataframe thead th {\n",
       "        text-align: right;\n",
       "    }\n",
       "</style>\n",
       "<table border=\"1\" class=\"dataframe\">\n",
       "  <thead>\n",
       "    <tr style=\"text-align: right;\">\n",
       "      <th></th>\n",
       "      <th>Qualification</th>\n",
       "      <th>Experience</th>\n",
       "      <th>Rating</th>\n",
       "      <th>Place</th>\n",
       "      <th>Profile</th>\n",
       "      <th>Miscellaneous_Info</th>\n",
       "      <th>Fees</th>\n",
       "    </tr>\n",
       "  </thead>\n",
       "  <tbody>\n",
       "    <tr>\n",
       "      <th>608</th>\n",
       "      <td>MBBS</td>\n",
       "      <td>17 years experience</td>\n",
       "      <td>NaN</td>\n",
       "      <td>Sainikpuri, Hyderabad</td>\n",
       "      <td>General Medicine</td>\n",
       "      <td>Type 2 Diabetes Treatment Diabetic Diet Counse...</td>\n",
       "      <td>350</td>\n",
       "    </tr>\n",
       "    <tr>\n",
       "      <th>4302</th>\n",
       "      <td>MS - ENT, MBBS</td>\n",
       "      <td>3 years experience</td>\n",
       "      <td>NaN</td>\n",
       "      <td>Yelahanka, Bangalore</td>\n",
       "      <td>ENT Specialist</td>\n",
       "      <td>NaN</td>\n",
       "      <td>400</td>\n",
       "    </tr>\n",
       "    <tr>\n",
       "      <th>5896</th>\n",
       "      <td>MBBS, MD - Skin,VD &amp; Leprosy, Fellowship in De...</td>\n",
       "      <td>8 years experience</td>\n",
       "      <td>98%</td>\n",
       "      <td>Juhu, Mumbai</td>\n",
       "      <td>Dermatologists</td>\n",
       "      <td>98% 48 Feedback Juhu, Mumbai</td>\n",
       "      <td>100</td>\n",
       "    </tr>\n",
       "    <tr>\n",
       "      <th>3601</th>\n",
       "      <td>MBBS, MS - ENT, DNB - Otorhinolaryngology, Cli...</td>\n",
       "      <td>8 years experience</td>\n",
       "      <td>100%</td>\n",
       "      <td>Rohini Sector 15, Delhi</td>\n",
       "      <td>ENT Specialist</td>\n",
       "      <td>100% 19 Feedback Rohini Sector 15, Delhi</td>\n",
       "      <td>300</td>\n",
       "    </tr>\n",
       "    <tr>\n",
       "      <th>2808</th>\n",
       "      <td>MBBS, Diploma in Otorhinolaryngology (DLO), MD...</td>\n",
       "      <td>17 years experience</td>\n",
       "      <td>95%</td>\n",
       "      <td>Velachery, Chennai</td>\n",
       "      <td>ENT Specialist</td>\n",
       "      <td>95% 45 Feedback Velachery, Chennai</td>\n",
       "      <td>250</td>\n",
       "    </tr>\n",
       "    <tr>\n",
       "      <th>1526</th>\n",
       "      <td>BDS</td>\n",
       "      <td>11 years experience</td>\n",
       "      <td>NaN</td>\n",
       "      <td>Mylapore, Chennai</td>\n",
       "      <td>Dentist</td>\n",
       "      <td>Dental Fillings Zirconia Crowns Scaling / Poli...</td>\n",
       "      <td>100</td>\n",
       "    </tr>\n",
       "    <tr>\n",
       "      <th>3589</th>\n",
       "      <td>BHMS</td>\n",
       "      <td>10 years experience</td>\n",
       "      <td>98%</td>\n",
       "      <td>Sarjapur Road, Bangalore</td>\n",
       "      <td>Homeopath</td>\n",
       "      <td>98% 144 Feedback Sarjapur Road, Bangalore</td>\n",
       "      <td>200</td>\n",
       "    </tr>\n",
       "    <tr>\n",
       "      <th>4778</th>\n",
       "      <td>MD - Dermatology , Venereology &amp; Leprosy, Fell...</td>\n",
       "      <td>8 years experience</td>\n",
       "      <td>93%</td>\n",
       "      <td>Nungambakkam, Chennai</td>\n",
       "      <td>Dermatologists</td>\n",
       "      <td>Skin Boosters and Fillers Permanent Acne Solut...</td>\n",
       "      <td>550</td>\n",
       "    </tr>\n",
       "    <tr>\n",
       "      <th>4820</th>\n",
       "      <td>BAMS, MD - Ayurveda Medicine</td>\n",
       "      <td>20 years experience</td>\n",
       "      <td>100%</td>\n",
       "      <td>Yelahanka, Bangalore</td>\n",
       "      <td>Ayurveda</td>\n",
       "      <td>100% 4 Feedback Yelahanka, Bangalore</td>\n",
       "      <td>400</td>\n",
       "    </tr>\n",
       "    <tr>\n",
       "      <th>626</th>\n",
       "      <td>BDS, MDS - Periodontics</td>\n",
       "      <td>5 years experience</td>\n",
       "      <td>NaN</td>\n",
       "      <td>Thoraipakkam, Chennai</td>\n",
       "      <td>Dentist</td>\n",
       "      <td>Scaling / Polishing Pulpectomy Oral Surgery Pr...</td>\n",
       "      <td>200</td>\n",
       "    </tr>\n",
       "  </tbody>\n",
       "</table>\n",
       "</div>"
      ],
      "text/plain": [
       "                                          Qualification           Experience  \\\n",
       "608                                                MBBS  17 years experience   \n",
       "4302                                     MS - ENT, MBBS   3 years experience   \n",
       "5896  MBBS, MD - Skin,VD & Leprosy, Fellowship in De...   8 years experience   \n",
       "3601  MBBS, MS - ENT, DNB - Otorhinolaryngology, Cli...   8 years experience   \n",
       "2808  MBBS, Diploma in Otorhinolaryngology (DLO), MD...  17 years experience   \n",
       "1526                                                BDS  11 years experience   \n",
       "3589                                               BHMS  10 years experience   \n",
       "4778  MD - Dermatology , Venereology & Leprosy, Fell...   8 years experience   \n",
       "4820                       BAMS, MD - Ayurveda Medicine  20 years experience   \n",
       "626                             BDS, MDS - Periodontics   5 years experience   \n",
       "\n",
       "     Rating                     Place           Profile  \\\n",
       "608     NaN     Sainikpuri, Hyderabad  General Medicine   \n",
       "4302    NaN      Yelahanka, Bangalore    ENT Specialist   \n",
       "5896    98%              Juhu, Mumbai    Dermatologists   \n",
       "3601   100%   Rohini Sector 15, Delhi    ENT Specialist   \n",
       "2808    95%        Velachery, Chennai    ENT Specialist   \n",
       "1526    NaN         Mylapore, Chennai           Dentist   \n",
       "3589    98%  Sarjapur Road, Bangalore         Homeopath   \n",
       "4778    93%     Nungambakkam, Chennai    Dermatologists   \n",
       "4820   100%      Yelahanka, Bangalore          Ayurveda   \n",
       "626     NaN     Thoraipakkam, Chennai           Dentist   \n",
       "\n",
       "                                     Miscellaneous_Info  Fees  \n",
       "608   Type 2 Diabetes Treatment Diabetic Diet Counse...   350  \n",
       "4302                                                NaN   400  \n",
       "5896                       98% 48 Feedback Juhu, Mumbai   100  \n",
       "3601           100% 19 Feedback Rohini Sector 15, Delhi   300  \n",
       "2808                 95% 45 Feedback Velachery, Chennai   250  \n",
       "1526  Dental Fillings Zirconia Crowns Scaling / Poli...   100  \n",
       "3589          98% 144 Feedback Sarjapur Road, Bangalore   200  \n",
       "4778  Skin Boosters and Fillers Permanent Acne Solut...   550  \n",
       "4820               100% 4 Feedback Yelahanka, Bangalore   400  \n",
       "626   Scaling / Polishing Pulpectomy Oral Surgery Pr...   200  "
      ]
     },
     "execution_count": 5,
     "metadata": {},
     "output_type": "execute_result"
    }
   ],
   "source": [
    "# get a feel of the df\n",
    "#'Rating' are already extracted from Miscellaneous_Info\n",
    "#'Fees' are our target variable\n",
    "# Experience seems to be a very good predictor , plus we have no null values\n",
    "\n",
    "df.sample(10)"
   ]
  },
  {
   "cell_type": "code",
   "execution_count": 6,
   "metadata": {},
   "outputs": [
    {
     "name": "stdout",
     "output_type": "stream",
     "text": [
      "<class 'pandas.core.frame.DataFrame'>\n",
      "RangeIndex: 5961 entries, 0 to 5960\n",
      "Data columns (total 7 columns):\n",
      "Qualification         5961 non-null object\n",
      "Experience            5961 non-null object\n",
      "Rating                2659 non-null object\n",
      "Place                 5936 non-null object\n",
      "Profile               5961 non-null object\n",
      "Miscellaneous_Info    3341 non-null object\n",
      "Fees                  5961 non-null int64\n",
      "dtypes: int64(1), object(6)\n",
      "memory usage: 326.1+ KB\n"
     ]
    }
   ],
   "source": [
    "#'Fees' and 'Experience' should be numerical\n",
    "# the rest should be categorical ( dummified later )\n",
    "df.info()"
   ]
  },
  {
   "cell_type": "code",
   "execution_count": 7,
   "metadata": {},
   "outputs": [
    {
     "data": {
      "text/html": [
       "<div>\n",
       "<style scoped>\n",
       "    .dataframe tbody tr th:only-of-type {\n",
       "        vertical-align: middle;\n",
       "    }\n",
       "\n",
       "    .dataframe tbody tr th {\n",
       "        vertical-align: top;\n",
       "    }\n",
       "\n",
       "    .dataframe thead th {\n",
       "        text-align: right;\n",
       "    }\n",
       "</style>\n",
       "<table border=\"1\" class=\"dataframe\">\n",
       "  <thead>\n",
       "    <tr style=\"text-align: right;\">\n",
       "      <th></th>\n",
       "      <th>is_null</th>\n",
       "      <th>Percentage</th>\n",
       "    </tr>\n",
       "  </thead>\n",
       "  <tbody>\n",
       "    <tr>\n",
       "      <th>Rating</th>\n",
       "      <td>3302</td>\n",
       "      <td>0.55</td>\n",
       "    </tr>\n",
       "    <tr>\n",
       "      <th>Miscellaneous_Info</th>\n",
       "      <td>2620</td>\n",
       "      <td>0.44</td>\n",
       "    </tr>\n",
       "    <tr>\n",
       "      <th>Place</th>\n",
       "      <td>25</td>\n",
       "      <td>0.00</td>\n",
       "    </tr>\n",
       "  </tbody>\n",
       "</table>\n",
       "</div>"
      ],
      "text/plain": [
       "                    is_null  Percentage\n",
       "Rating                 3302        0.55\n",
       "Miscellaneous_Info     2620        0.44\n",
       "Place                    25        0.00"
      ]
     },
     "execution_count": 7,
     "metadata": {},
     "output_type": "execute_result"
    }
   ],
   "source": [
    "#check % data that is null\n",
    "#Rating and Miscellaneous_Info has close to half values that are null\n",
    "total=pd.DataFrame({'is_null':df.isnull().sum().sort_values(ascending=False)}) #determine columns with missing values\n",
    "total['Percentage']= (total.is_null/len(df)).round(2)\n",
    "total=total[total.is_null!=0]\n",
    "total"
   ]
  },
  {
   "cell_type": "markdown",
   "metadata": {},
   "source": [
    "# Qualification"
   ]
  },
  {
   "cell_type": "code",
   "execution_count": 8,
   "metadata": {},
   "outputs": [
    {
     "data": {
      "text/plain": [
       "array(['BHMS, MD - Homeopathy', 'BAMS, MD - Ayurveda Medicine',\n",
       "       'MBBS, MS - Otorhinolaryngology', ...,\n",
       "       'MD - Dermatology , Venereology & Leprosy, MBBS, Fellowship In Dermatosurgery',\n",
       "       'BDS, certification in smile designing',\n",
       "       'MD - Homeopathy, Post Graduate Diploma in Healthcare Management(PGDHM), DHMS (Diploma in Homeopathic Medicine and Surgery)'],\n",
       "      dtype=object)"
      ]
     },
     "execution_count": 8,
     "metadata": {},
     "output_type": "execute_result"
    }
   ],
   "source": [
    "df.Qualification.unique()"
   ]
  },
  {
   "cell_type": "code",
   "execution_count": 9,
   "metadata": {},
   "outputs": [
    {
     "data": {
      "text/html": [
       "<div>\n",
       "<style scoped>\n",
       "    .dataframe tbody tr th:only-of-type {\n",
       "        vertical-align: middle;\n",
       "    }\n",
       "\n",
       "    .dataframe tbody tr th {\n",
       "        vertical-align: top;\n",
       "    }\n",
       "\n",
       "    .dataframe thead th {\n",
       "        text-align: right;\n",
       "    }\n",
       "</style>\n",
       "<table border=\"1\" class=\"dataframe\">\n",
       "  <thead>\n",
       "    <tr style=\"text-align: right;\">\n",
       "      <th></th>\n",
       "      <th>Qualification</th>\n",
       "      <th>Experience</th>\n",
       "      <th>Rating</th>\n",
       "      <th>Place</th>\n",
       "      <th>Profile</th>\n",
       "      <th>Miscellaneous_Info</th>\n",
       "      <th>Fees</th>\n",
       "    </tr>\n",
       "  </thead>\n",
       "  <tbody>\n",
       "    <tr>\n",
       "      <th>91</th>\n",
       "      <td>Get inspired by remarkable stories of people l...</td>\n",
       "      <td>0 years experience</td>\n",
       "      <td>NaN</td>\n",
       "      <td>NaN</td>\n",
       "      <td>Dermatologists</td>\n",
       "      <td>NaN</td>\n",
       "      <td>100</td>\n",
       "    </tr>\n",
       "    <tr>\n",
       "      <th>502</th>\n",
       "      <td>Get inspired by remarkable stories of people l...</td>\n",
       "      <td>0 years experience</td>\n",
       "      <td>NaN</td>\n",
       "      <td>NaN</td>\n",
       "      <td>Dermatologists</td>\n",
       "      <td>NaN</td>\n",
       "      <td>100</td>\n",
       "    </tr>\n",
       "    <tr>\n",
       "      <th>599</th>\n",
       "      <td>Get inspired by remarkable stories of people l...</td>\n",
       "      <td>0 years experience</td>\n",
       "      <td>NaN</td>\n",
       "      <td>NaN</td>\n",
       "      <td>Dermatologists</td>\n",
       "      <td>NaN</td>\n",
       "      <td>100</td>\n",
       "    </tr>\n",
       "    <tr>\n",
       "      <th>605</th>\n",
       "      <td>Get inspired by remarkable stories of people l...</td>\n",
       "      <td>0 years experience</td>\n",
       "      <td>NaN</td>\n",
       "      <td>NaN</td>\n",
       "      <td>Dermatologists</td>\n",
       "      <td>NaN</td>\n",
       "      <td>100</td>\n",
       "    </tr>\n",
       "    <tr>\n",
       "      <th>724</th>\n",
       "      <td>Get inspired by remarkable stories of people l...</td>\n",
       "      <td>0 years experience</td>\n",
       "      <td>NaN</td>\n",
       "      <td>NaN</td>\n",
       "      <td>Dermatologists</td>\n",
       "      <td>NaN</td>\n",
       "      <td>100</td>\n",
       "    </tr>\n",
       "    <tr>\n",
       "      <th>1002</th>\n",
       "      <td>Get inspired by remarkable stories of people l...</td>\n",
       "      <td>0 years experience</td>\n",
       "      <td>NaN</td>\n",
       "      <td>NaN</td>\n",
       "      <td>Dermatologists</td>\n",
       "      <td>NaN</td>\n",
       "      <td>100</td>\n",
       "    </tr>\n",
       "    <tr>\n",
       "      <th>1083</th>\n",
       "      <td>Get inspired by remarkable stories of people l...</td>\n",
       "      <td>0 years experience</td>\n",
       "      <td>NaN</td>\n",
       "      <td>NaN</td>\n",
       "      <td>Dermatologists</td>\n",
       "      <td>NaN</td>\n",
       "      <td>100</td>\n",
       "    </tr>\n",
       "    <tr>\n",
       "      <th>1210</th>\n",
       "      <td>Get inspired by remarkable stories of people l...</td>\n",
       "      <td>0 years experience</td>\n",
       "      <td>NaN</td>\n",
       "      <td>NaN</td>\n",
       "      <td>Dermatologists</td>\n",
       "      <td>NaN</td>\n",
       "      <td>100</td>\n",
       "    </tr>\n",
       "    <tr>\n",
       "      <th>2078</th>\n",
       "      <td>Get inspired by remarkable stories of people l...</td>\n",
       "      <td>0 years experience</td>\n",
       "      <td>NaN</td>\n",
       "      <td>NaN</td>\n",
       "      <td>Dermatologists</td>\n",
       "      <td>NaN</td>\n",
       "      <td>100</td>\n",
       "    </tr>\n",
       "    <tr>\n",
       "      <th>2178</th>\n",
       "      <td>Get inspired by remarkable stories of people l...</td>\n",
       "      <td>0 years experience</td>\n",
       "      <td>NaN</td>\n",
       "      <td>NaN</td>\n",
       "      <td>Dermatologists</td>\n",
       "      <td>NaN</td>\n",
       "      <td>100</td>\n",
       "    </tr>\n",
       "    <tr>\n",
       "      <th>2328</th>\n",
       "      <td>Get inspired by remarkable stories of people l...</td>\n",
       "      <td>0 years experience</td>\n",
       "      <td>NaN</td>\n",
       "      <td>NaN</td>\n",
       "      <td>Dermatologists</td>\n",
       "      <td>NaN</td>\n",
       "      <td>100</td>\n",
       "    </tr>\n",
       "    <tr>\n",
       "      <th>3099</th>\n",
       "      <td>Get inspired by remarkable stories of people l...</td>\n",
       "      <td>0 years experience</td>\n",
       "      <td>NaN</td>\n",
       "      <td>NaN</td>\n",
       "      <td>Dermatologists</td>\n",
       "      <td>NaN</td>\n",
       "      <td>100</td>\n",
       "    </tr>\n",
       "    <tr>\n",
       "      <th>3228</th>\n",
       "      <td>Get inspired by remarkable stories of people l...</td>\n",
       "      <td>0 years experience</td>\n",
       "      <td>NaN</td>\n",
       "      <td>NaN</td>\n",
       "      <td>Dermatologists</td>\n",
       "      <td>NaN</td>\n",
       "      <td>100</td>\n",
       "    </tr>\n",
       "    <tr>\n",
       "      <th>3418</th>\n",
       "      <td>Get inspired by remarkable stories of people l...</td>\n",
       "      <td>0 years experience</td>\n",
       "      <td>NaN</td>\n",
       "      <td>NaN</td>\n",
       "      <td>Dermatologists</td>\n",
       "      <td>NaN</td>\n",
       "      <td>100</td>\n",
       "    </tr>\n",
       "    <tr>\n",
       "      <th>3443</th>\n",
       "      <td>Get inspired by remarkable stories of people l...</td>\n",
       "      <td>0 years experience</td>\n",
       "      <td>NaN</td>\n",
       "      <td>NaN</td>\n",
       "      <td>Dermatologists</td>\n",
       "      <td>NaN</td>\n",
       "      <td>100</td>\n",
       "    </tr>\n",
       "    <tr>\n",
       "      <th>3744</th>\n",
       "      <td>Get inspired by remarkable stories of people l...</td>\n",
       "      <td>0 years experience</td>\n",
       "      <td>NaN</td>\n",
       "      <td>NaN</td>\n",
       "      <td>Dermatologists</td>\n",
       "      <td>NaN</td>\n",
       "      <td>100</td>\n",
       "    </tr>\n",
       "    <tr>\n",
       "      <th>3804</th>\n",
       "      <td>Get inspired by remarkable stories of people l...</td>\n",
       "      <td>0 years experience</td>\n",
       "      <td>NaN</td>\n",
       "      <td>NaN</td>\n",
       "      <td>Dermatologists</td>\n",
       "      <td>NaN</td>\n",
       "      <td>100</td>\n",
       "    </tr>\n",
       "    <tr>\n",
       "      <th>4004</th>\n",
       "      <td>Get inspired by remarkable stories of people l...</td>\n",
       "      <td>0 years experience</td>\n",
       "      <td>NaN</td>\n",
       "      <td>NaN</td>\n",
       "      <td>Dermatologists</td>\n",
       "      <td>NaN</td>\n",
       "      <td>100</td>\n",
       "    </tr>\n",
       "    <tr>\n",
       "      <th>4758</th>\n",
       "      <td>Get inspired by remarkable stories of people l...</td>\n",
       "      <td>0 years experience</td>\n",
       "      <td>NaN</td>\n",
       "      <td>NaN</td>\n",
       "      <td>Dermatologists</td>\n",
       "      <td>NaN</td>\n",
       "      <td>100</td>\n",
       "    </tr>\n",
       "    <tr>\n",
       "      <th>4847</th>\n",
       "      <td>Get inspired by remarkable stories of people l...</td>\n",
       "      <td>0 years experience</td>\n",
       "      <td>NaN</td>\n",
       "      <td>NaN</td>\n",
       "      <td>Dermatologists</td>\n",
       "      <td>NaN</td>\n",
       "      <td>100</td>\n",
       "    </tr>\n",
       "    <tr>\n",
       "      <th>5058</th>\n",
       "      <td>Get inspired by remarkable stories of people l...</td>\n",
       "      <td>0 years experience</td>\n",
       "      <td>NaN</td>\n",
       "      <td>NaN</td>\n",
       "      <td>Dermatologists</td>\n",
       "      <td>NaN</td>\n",
       "      <td>100</td>\n",
       "    </tr>\n",
       "    <tr>\n",
       "      <th>5187</th>\n",
       "      <td>Get inspired by remarkable stories of people l...</td>\n",
       "      <td>0 years experience</td>\n",
       "      <td>NaN</td>\n",
       "      <td>NaN</td>\n",
       "      <td>Dermatologists</td>\n",
       "      <td>NaN</td>\n",
       "      <td>100</td>\n",
       "    </tr>\n",
       "    <tr>\n",
       "      <th>5551</th>\n",
       "      <td>Get inspired by remarkable stories of people l...</td>\n",
       "      <td>0 years experience</td>\n",
       "      <td>NaN</td>\n",
       "      <td>NaN</td>\n",
       "      <td>Dermatologists</td>\n",
       "      <td>NaN</td>\n",
       "      <td>100</td>\n",
       "    </tr>\n",
       "    <tr>\n",
       "      <th>5723</th>\n",
       "      <td>Get inspired by remarkable stories of people l...</td>\n",
       "      <td>0 years experience</td>\n",
       "      <td>NaN</td>\n",
       "      <td>NaN</td>\n",
       "      <td>Dermatologists</td>\n",
       "      <td>NaN</td>\n",
       "      <td>100</td>\n",
       "    </tr>\n",
       "  </tbody>\n",
       "</table>\n",
       "</div>"
      ],
      "text/plain": [
       "                                          Qualification          Experience  \\\n",
       "91    Get inspired by remarkable stories of people l...  0 years experience   \n",
       "502   Get inspired by remarkable stories of people l...  0 years experience   \n",
       "599   Get inspired by remarkable stories of people l...  0 years experience   \n",
       "605   Get inspired by remarkable stories of people l...  0 years experience   \n",
       "724   Get inspired by remarkable stories of people l...  0 years experience   \n",
       "1002  Get inspired by remarkable stories of people l...  0 years experience   \n",
       "1083  Get inspired by remarkable stories of people l...  0 years experience   \n",
       "1210  Get inspired by remarkable stories of people l...  0 years experience   \n",
       "2078  Get inspired by remarkable stories of people l...  0 years experience   \n",
       "2178  Get inspired by remarkable stories of people l...  0 years experience   \n",
       "2328  Get inspired by remarkable stories of people l...  0 years experience   \n",
       "3099  Get inspired by remarkable stories of people l...  0 years experience   \n",
       "3228  Get inspired by remarkable stories of people l...  0 years experience   \n",
       "3418  Get inspired by remarkable stories of people l...  0 years experience   \n",
       "3443  Get inspired by remarkable stories of people l...  0 years experience   \n",
       "3744  Get inspired by remarkable stories of people l...  0 years experience   \n",
       "3804  Get inspired by remarkable stories of people l...  0 years experience   \n",
       "4004  Get inspired by remarkable stories of people l...  0 years experience   \n",
       "4758  Get inspired by remarkable stories of people l...  0 years experience   \n",
       "4847  Get inspired by remarkable stories of people l...  0 years experience   \n",
       "5058  Get inspired by remarkable stories of people l...  0 years experience   \n",
       "5187  Get inspired by remarkable stories of people l...  0 years experience   \n",
       "5551  Get inspired by remarkable stories of people l...  0 years experience   \n",
       "5723  Get inspired by remarkable stories of people l...  0 years experience   \n",
       "\n",
       "     Rating Place         Profile Miscellaneous_Info  Fees  \n",
       "91      NaN   NaN  Dermatologists                NaN   100  \n",
       "502     NaN   NaN  Dermatologists                NaN   100  \n",
       "599     NaN   NaN  Dermatologists                NaN   100  \n",
       "605     NaN   NaN  Dermatologists                NaN   100  \n",
       "724     NaN   NaN  Dermatologists                NaN   100  \n",
       "1002    NaN   NaN  Dermatologists                NaN   100  \n",
       "1083    NaN   NaN  Dermatologists                NaN   100  \n",
       "1210    NaN   NaN  Dermatologists                NaN   100  \n",
       "2078    NaN   NaN  Dermatologists                NaN   100  \n",
       "2178    NaN   NaN  Dermatologists                NaN   100  \n",
       "2328    NaN   NaN  Dermatologists                NaN   100  \n",
       "3099    NaN   NaN  Dermatologists                NaN   100  \n",
       "3228    NaN   NaN  Dermatologists                NaN   100  \n",
       "3418    NaN   NaN  Dermatologists                NaN   100  \n",
       "3443    NaN   NaN  Dermatologists                NaN   100  \n",
       "3744    NaN   NaN  Dermatologists                NaN   100  \n",
       "3804    NaN   NaN  Dermatologists                NaN   100  \n",
       "4004    NaN   NaN  Dermatologists                NaN   100  \n",
       "4758    NaN   NaN  Dermatologists                NaN   100  \n",
       "4847    NaN   NaN  Dermatologists                NaN   100  \n",
       "5058    NaN   NaN  Dermatologists                NaN   100  \n",
       "5187    NaN   NaN  Dermatologists                NaN   100  \n",
       "5551    NaN   NaN  Dermatologists                NaN   100  \n",
       "5723    NaN   NaN  Dermatologists                NaN   100  "
      ]
     },
     "execution_count": 9,
     "metadata": {},
     "output_type": "execute_result"
    }
   ],
   "source": [
    "#Erraneous data & del the rows\n",
    "df[df.Qualification=='Get inspired by remarkable stories of people like you']"
   ]
  },
  {
   "cell_type": "code",
   "execution_count": 10,
   "metadata": {},
   "outputs": [],
   "source": [
    "#del the erraneous rows\n",
    "remove=df[df.Qualification=='Get inspired by remarkable stories of people like you'].index\n",
    "df=df.drop(remove,axis=0)"
   ]
  },
  {
   "cell_type": "markdown",
   "metadata": {},
   "source": [
    "# Experience"
   ]
  },
  {
   "cell_type": "code",
   "execution_count": 11,
   "metadata": {},
   "outputs": [
    {
     "data": {
      "text/plain": [
       "0    24\n",
       "1    12\n",
       "2     9\n",
       "3    12\n",
       "4    20\n",
       "5     8\n",
       "6    42\n",
       "7    10\n",
       "8    14\n",
       "9    23\n",
       "Name: Experience, dtype: int32"
      ]
     },
     "execution_count": 11,
     "metadata": {},
     "output_type": "execute_result"
    }
   ],
   "source": [
    "#extract years and convert to INT\n",
    "df['Experience']=df['Experience'].str.extract(pat='(\\d+)')\n",
    "df['Experience']=df['Experience'].astype(np.int)\n",
    "df.Experience[:10]"
   ]
  },
  {
   "cell_type": "markdown",
   "metadata": {},
   "source": [
    "# Rating"
   ]
  },
  {
   "cell_type": "code",
   "execution_count": 12,
   "metadata": {},
   "outputs": [
    {
     "data": {
      "text/plain": [
       "0       100%\n",
       "1        98%\n",
       "2        NaN\n",
       "3        NaN\n",
       "4       100%\n",
       "5        NaN\n",
       "6        NaN\n",
       "7        99%\n",
       "8        NaN\n",
       "9        NaN\n",
       "10       NaN\n",
       "11       NaN\n",
       "12       98%\n",
       "13       NaN\n",
       "14       NaN\n",
       "15       NaN\n",
       "16       NaN\n",
       "17       NaN\n",
       "18       79%\n",
       "19      100%\n",
       "20      100%\n",
       "21       NaN\n",
       "22       NaN\n",
       "23       NaN\n",
       "24       NaN\n",
       "25       NaN\n",
       "26      100%\n",
       "27       95%\n",
       "28       NaN\n",
       "29       97%\n",
       "        ... \n",
       "5931     99%\n",
       "5932     NaN\n",
       "5933     96%\n",
       "5934     NaN\n",
       "5935     99%\n",
       "5936    100%\n",
       "5937     96%\n",
       "5938     NaN\n",
       "5939     NaN\n",
       "5940     80%\n",
       "5941     NaN\n",
       "5942     90%\n",
       "5943     95%\n",
       "5944     NaN\n",
       "5945     NaN\n",
       "5946     99%\n",
       "5947     NaN\n",
       "5948     NaN\n",
       "5949     NaN\n",
       "5950    100%\n",
       "5951     NaN\n",
       "5952     NaN\n",
       "5953     92%\n",
       "5954     NaN\n",
       "5955     NaN\n",
       "5956     98%\n",
       "5957     NaN\n",
       "5958     97%\n",
       "5959     90%\n",
       "5960    100%\n",
       "Name: Rating, Length: 5937, dtype: object"
      ]
     },
     "execution_count": 12,
     "metadata": {},
     "output_type": "execute_result"
    }
   ],
   "source": [
    "df.Rating"
   ]
  },
  {
   "cell_type": "code",
   "execution_count": 13,
   "metadata": {},
   "outputs": [],
   "source": [
    "# Seperate Ratings into bins\n",
    "df[\"Rating\"].fillna(\"-99%\",inplace=True)\n",
    "df[\"Rating\"] = df[\"Rating\"].str[:-1].astype(\"int\")\n",
    "\n",
    "bins = [-99,0,10,20,30,40,50,60,70,80,90,100]\n",
    "labels = [i for i in range(11)]\n",
    "df[\"Rating\"] = pd.cut(df[\"Rating\"],bins=bins,labels=labels,include_lowest=True)"
   ]
  },
  {
   "cell_type": "code",
   "execution_count": 14,
   "metadata": {},
   "outputs": [
    {
     "data": {
      "text/plain": [
       "0     3278\n",
       "1        1\n",
       "2        0\n",
       "3        0\n",
       "4        4\n",
       "5        3\n",
       "6       19\n",
       "7       32\n",
       "8       98\n",
       "9      280\n",
       "10    2222\n",
       "Name: Rating, dtype: int64"
      ]
     },
     "execution_count": 14,
     "metadata": {},
     "output_type": "execute_result"
    }
   ],
   "source": [
    "df[\"Rating\"].value_counts().sort_index()"
   ]
  },
  {
   "cell_type": "code",
   "execution_count": 15,
   "metadata": {},
   "outputs": [],
   "source": [
    "#remove the '%'' suffix\n",
    "#df['Rating']=df.Rating.str.replace('%','')"
   ]
  },
  {
   "cell_type": "code",
   "execution_count": 16,
   "metadata": {},
   "outputs": [],
   "source": [
    "#df.Rating.unique()"
   ]
  },
  {
   "cell_type": "code",
   "execution_count": 17,
   "metadata": {},
   "outputs": [],
   "source": [
    "#convert those that can to numeric ,errors='coerce' forces non-convertible elements to NaN.\n",
    "#df['Rating'] = df.Rating.apply(pd.to_numeric, errors='coerce')"
   ]
  },
  {
   "cell_type": "code",
   "execution_count": 18,
   "metadata": {},
   "outputs": [],
   "source": [
    "#apply median of each 'Profile', rather than apply a blanket median value\n",
    "#df['Rating']=df.groupby('Profile')['Rating'].transform(lambda x : x.fillna(x.median()))"
   ]
  },
  {
   "cell_type": "code",
   "execution_count": 19,
   "metadata": {},
   "outputs": [],
   "source": [
    "#mask=df.Rating.isnull()\n",
    "#temp=df[~mask]\n",
    "#temp['Rating']=temp.Rating.astype(np.int)"
   ]
  },
  {
   "cell_type": "code",
   "execution_count": 20,
   "metadata": {},
   "outputs": [],
   "source": [
    "#temp.groupby('Profile')['Rating'].median()"
   ]
  },
  {
   "cell_type": "code",
   "execution_count": 21,
   "metadata": {},
   "outputs": [
    {
     "data": {
      "text/plain": [
       "Qualification            0\n",
       "Experience               0\n",
       "Rating                   0\n",
       "Place                    1\n",
       "Profile                  0\n",
       "Miscellaneous_Info    2596\n",
       "Fees                     0\n",
       "dtype: int64"
      ]
     },
     "execution_count": 21,
     "metadata": {},
     "output_type": "execute_result"
    }
   ],
   "source": [
    "df.isnull().sum()"
   ]
  },
  {
   "cell_type": "markdown",
   "metadata": {},
   "source": [
    "# Place"
   ]
  },
  {
   "cell_type": "code",
   "execution_count": 22,
   "metadata": {},
   "outputs": [
    {
     "data": {
      "text/html": [
       "<div>\n",
       "<style scoped>\n",
       "    .dataframe tbody tr th:only-of-type {\n",
       "        vertical-align: middle;\n",
       "    }\n",
       "\n",
       "    .dataframe tbody tr th {\n",
       "        vertical-align: top;\n",
       "    }\n",
       "\n",
       "    .dataframe thead th {\n",
       "        text-align: right;\n",
       "    }\n",
       "</style>\n",
       "<table border=\"1\" class=\"dataframe\">\n",
       "  <thead>\n",
       "    <tr style=\"text-align: right;\">\n",
       "      <th></th>\n",
       "      <th>Qualification</th>\n",
       "      <th>Experience</th>\n",
       "      <th>Rating</th>\n",
       "      <th>Place</th>\n",
       "      <th>Profile</th>\n",
       "      <th>Miscellaneous_Info</th>\n",
       "      <th>Fees</th>\n",
       "    </tr>\n",
       "  </thead>\n",
       "  <tbody>\n",
       "    <tr>\n",
       "      <th>4823</th>\n",
       "      <td>MBBS, DDVL</td>\n",
       "      <td>22</td>\n",
       "      <td>0</td>\n",
       "      <td>NaN</td>\n",
       "      <td>Dermatologists</td>\n",
       "      <td>NaN</td>\n",
       "      <td>150</td>\n",
       "    </tr>\n",
       "  </tbody>\n",
       "</table>\n",
       "</div>"
      ],
      "text/plain": [
       "     Qualification  Experience Rating Place         Profile  \\\n",
       "4823    MBBS, DDVL          22      0   NaN  Dermatologists   \n",
       "\n",
       "     Miscellaneous_Info  Fees  \n",
       "4823                NaN   150  "
      ]
     },
     "execution_count": 22,
     "metadata": {},
     "output_type": "execute_result"
    }
   ],
   "source": [
    "df[df.Place.isnull()]"
   ]
  },
  {
   "cell_type": "code",
   "execution_count": 23,
   "metadata": {},
   "outputs": [
    {
     "data": {
      "text/plain": [
       "Banjara Hills, Hyderabad    18\n",
       "Andheri West, Mumbai        17\n",
       "Dwarka, Delhi               14\n",
       "Bandra West, Mumbai         14\n",
       "HSR Layout, Bangalore       13\n",
       "Indiranagar, Bangalore      13\n",
       "Kandivali West, Mumbai      11\n",
       "Pitampura, Delhi            11\n",
       "Jubilee Hills, Hyderabad    11\n",
       "Dilsukhnagar, Hyderabad     10\n",
       "Name: Place, dtype: int64"
      ]
     },
     "execution_count": 23,
     "metadata": {},
     "output_type": "execute_result"
    }
   ],
   "source": [
    "df[df.Profile=='Dermatologists']['Place'].value_counts()[:10]"
   ]
  },
  {
   "cell_type": "code",
   "execution_count": 24,
   "metadata": {},
   "outputs": [],
   "source": [
    "df.Place.fillna('Banjara Hills, Hyderabad',inplace=True)"
   ]
  },
  {
   "cell_type": "code",
   "execution_count": 25,
   "metadata": {},
   "outputs": [
    {
     "data": {
      "text/plain": [
       "R.S. Puram, Coimbatore      26\n",
       "Kondapur, Hyderabad         23\n",
       "Thoraipakkam, Chennai       20\n",
       "HSR Layout, Bangalore       20\n",
       "Banjara Hills, Hyderabad    19\n",
       "Marathahalli, Bangalore     17\n",
       "Jubilee Hills, Hyderabad    16\n",
       "Bandra West, Mumbai         15\n",
       "Adyar, Chennai              14\n",
       "Koramangala, Bangalore      14\n",
       "Name: Place, dtype: int64"
      ]
     },
     "execution_count": 25,
     "metadata": {},
     "output_type": "execute_result"
    }
   ],
   "source": [
    "df[df.Profile=='Dentist']['Place'].value_counts()[:10]"
   ]
  },
  {
   "cell_type": "code",
   "execution_count": 26,
   "metadata": {},
   "outputs": [
    {
     "data": {
      "text/html": [
       "<div>\n",
       "<style scoped>\n",
       "    .dataframe tbody tr th:only-of-type {\n",
       "        vertical-align: middle;\n",
       "    }\n",
       "\n",
       "    .dataframe tbody tr th {\n",
       "        vertical-align: top;\n",
       "    }\n",
       "\n",
       "    .dataframe thead th {\n",
       "        text-align: right;\n",
       "    }\n",
       "</style>\n",
       "<table border=\"1\" class=\"dataframe\">\n",
       "  <thead>\n",
       "    <tr style=\"text-align: right;\">\n",
       "      <th></th>\n",
       "      <th>Qualification</th>\n",
       "      <th>Experience</th>\n",
       "      <th>Rating</th>\n",
       "      <th>Place</th>\n",
       "      <th>Profile</th>\n",
       "      <th>Miscellaneous_Info</th>\n",
       "      <th>Fees</th>\n",
       "    </tr>\n",
       "  </thead>\n",
       "  <tbody>\n",
       "    <tr>\n",
       "      <th>3980</th>\n",
       "      <td>BDS</td>\n",
       "      <td>23</td>\n",
       "      <td>0</td>\n",
       "      <td>e</td>\n",
       "      <td>Dentist</td>\n",
       "      <td>NaN</td>\n",
       "      <td>250</td>\n",
       "    </tr>\n",
       "  </tbody>\n",
       "</table>\n",
       "</div>"
      ],
      "text/plain": [
       "     Qualification  Experience Rating Place  Profile Miscellaneous_Info  Fees\n",
       "3980           BDS          23      0     e  Dentist                NaN   250"
      ]
     },
     "execution_count": 26,
     "metadata": {},
     "output_type": "execute_result"
    }
   ],
   "source": [
    "df.loc[[3980]]"
   ]
  },
  {
   "cell_type": "code",
   "execution_count": 27,
   "metadata": {},
   "outputs": [],
   "source": [
    "#fill in the this value as it has the highest median\n",
    "df.loc[3980,'Place']='R.S. Puram, Coimbatore'"
   ]
  },
  {
   "cell_type": "markdown",
   "metadata": {},
   "source": [
    "# Place - Feature Engineering"
   ]
  },
  {
   "cell_type": "code",
   "execution_count": 28,
   "metadata": {},
   "outputs": [],
   "source": [
    "#split 'Place' by comma\n",
    "temp=df['Place'].str.split(',',n=1,expand=True)"
   ]
  },
  {
   "cell_type": "code",
   "execution_count": 29,
   "metadata": {},
   "outputs": [],
   "source": [
    "#remove leading space\n",
    "temp[1] = temp[1].str.lstrip()"
   ]
  },
  {
   "cell_type": "code",
   "execution_count": 30,
   "metadata": {},
   "outputs": [
    {
     "data": {
      "text/plain": [
       "865"
      ]
     },
     "execution_count": 30,
     "metadata": {},
     "output_type": "execute_result"
    }
   ],
   "source": [
    "#there are 865 neighbourhoods\n",
    "len(temp[0].unique())"
   ]
  },
  {
   "cell_type": "code",
   "execution_count": 31,
   "metadata": {},
   "outputs": [
    {
     "data": {
      "text/plain": [
       "9"
      ]
     },
     "execution_count": 31,
     "metadata": {},
     "output_type": "execute_result"
    }
   ],
   "source": [
    "#there are 9 cities\n",
    "len(temp[1].unique())"
   ]
  },
  {
   "cell_type": "code",
   "execution_count": 32,
   "metadata": {},
   "outputs": [],
   "source": [
    "#assign locality and city\n",
    "df['locality']=temp[0]\n",
    "df['city']=temp[1]"
   ]
  },
  {
   "cell_type": "code",
   "execution_count": 33,
   "metadata": {},
   "outputs": [
    {
     "data": {
      "text/plain": [
       "Bangalore             1258\n",
       "Mumbai                1219\n",
       "Delhi                 1184\n",
       "Hyderabad              952\n",
       "Chennai                855\n",
       "Coimbatore             229\n",
       "Ernakulam              153\n",
       "Thiruvananthapuram      86\n",
       "Sector 5, Delhi          1\n",
       "Name: city, dtype: int64"
      ]
     },
     "execution_count": 33,
     "metadata": {},
     "output_type": "execute_result"
    }
   ],
   "source": [
    "df.city.value_counts()"
   ]
  },
  {
   "cell_type": "code",
   "execution_count": 34,
   "metadata": {},
   "outputs": [],
   "source": [
    "#change Sector 5, Delhi to Delhi\n",
    "df.loc[df.city=='Sector 5, Delhi','city']='Delhi'"
   ]
  },
  {
   "cell_type": "markdown",
   "metadata": {},
   "source": [
    "# Profile & Fees"
   ]
  },
  {
   "cell_type": "code",
   "execution_count": 35,
   "metadata": {},
   "outputs": [
    {
     "data": {
      "text/plain": [
       "0"
      ]
     },
     "execution_count": 35,
     "metadata": {},
     "output_type": "execute_result"
    }
   ],
   "source": [
    "df.Profile.isnull().sum()"
   ]
  },
  {
   "cell_type": "code",
   "execution_count": 36,
   "metadata": {},
   "outputs": [
    {
     "data": {
      "text/plain": [
       "0"
      ]
     },
     "execution_count": 36,
     "metadata": {},
     "output_type": "execute_result"
    }
   ],
   "source": [
    "df.Fees.isnull().sum()"
   ]
  },
  {
   "cell_type": "markdown",
   "metadata": {},
   "source": [
    "# Miscellaneous_Info"
   ]
  },
  {
   "cell_type": "code",
   "execution_count": 37,
   "metadata": {},
   "outputs": [
    {
     "data": {
      "text/plain": [
       "2307                                                  NaN\n",
       "1520                                                  NaN\n",
       "2349                     100% 8 Feedback Kilpauk, Chennai\n",
       "2491                                                  NaN\n",
       "2650                                                  NaN\n",
       "3487    Tooth Extraction Ceramic Veneers / Crowns Fixe...\n",
       "2066              Guduvanchery, Chennai ₹100 Visits Today\n",
       "3362             96% 28 Feedback Hazrat Nizamuddin, Delhi\n",
       "5005                                                  NaN\n",
       "1756                                                  NaN\n",
       "Name: Miscellaneous_Info, dtype: object"
      ]
     },
     "execution_count": 37,
     "metadata": {},
     "output_type": "execute_result"
    }
   ],
   "source": [
    "df.Miscellaneous_Info.sample(10)"
   ]
  },
  {
   "cell_type": "code",
   "execution_count": 38,
   "metadata": {},
   "outputs": [],
   "source": [
    "#not useful as the Rating has already been extracted to another column\n",
    "df.drop(columns='Miscellaneous_Info',inplace=True)"
   ]
  },
  {
   "cell_type": "markdown",
   "metadata": {},
   "source": [
    "# Qualification"
   ]
  },
  {
   "cell_type": "code",
   "execution_count": 39,
   "metadata": {},
   "outputs": [
    {
     "data": {
      "text/plain": [
       "0                                   BHMS, MD - Homeopathy\n",
       "1                            BAMS, MD - Ayurveda Medicine\n",
       "2                          MBBS, MS - Otorhinolaryngology\n",
       "3                                     BSc - Zoology, BAMS\n",
       "4                                                    BAMS\n",
       "5                                                    BAMS\n",
       "6                                                    BHMS\n",
       "7                                                     BDS\n",
       "8                             MBBS, MD - General Medicine\n",
       "9                                                BSc, BDS\n",
       "10                                    MBBS, MS, DNB - ENT\n",
       "11                                                   BAMS\n",
       "12                                               BDS, MDS\n",
       "13                BDS, MDS - Oral & Maxillofacial Surgery\n",
       "14      MBBS, Diploma in Otorhinolaryngology (DLO), DN...\n",
       "15                            MBBS, MD - General Medicine\n",
       "16             MBBS, Diploma in Otorhinolaryngology (DLO)\n",
       "17                                   MBBS, MF- Homeopathy\n",
       "18                                         MBBS, MS - ENT\n",
       "19                                                   MBBS\n",
       "20                                          MDS, DNB, BDS\n",
       "21                                        MBBS, DNB - ENT\n",
       "22                                                   MBBS\n",
       "23      MBBS, Fellowship of College of General Practic...\n",
       "24                                             MBBS, DDVL\n",
       "25                                                    BDS\n",
       "26                                      MBBS, IBCLC (USA)\n",
       "27      MBBS, MD - General Medicine, Post Graduate Dip...\n",
       "28                                               BDS, MDS\n",
       "29                           Diploma in Dermatology, MBBS\n",
       "                              ...                        \n",
       "5931    MBBS, MRCP (UK), Post Graduate Diploma in Diab...\n",
       "5932                                                  BDS\n",
       "5933                                BHMS, MD - Homeopathy\n",
       "5934                                                 BHMS\n",
       "5935      MDS - Periodontology and Oral Implantology, BDS\n",
       "5936    MD - Homeopathy, LCEH, Diploma in Preventive &...\n",
       "5937                                            BHMS, MSc\n",
       "5938                                                 MBBS\n",
       "5939                                BHMS, MD - Pediatrics\n",
       "5940                               MBBS, MD - Dermatology\n",
       "5941                                                 BHMS\n",
       "5942                          MBBS, MD - General Medicine\n",
       "5943                                                  BDS\n",
       "5944                                             MS - ENT\n",
       "5945    BDS, FDS Endodontics, Certified in Advanced Or...\n",
       "5946                                                  BDS\n",
       "5947                                                 BHMS\n",
       "5948                                                 BAMS\n",
       "5949                                                 BHMS\n",
       "5950    MD - Dermatology , Venereology & Leprosy, MBBS...\n",
       "5951                BDS, certification in smile designing\n",
       "5952                                                 MBBS\n",
       "5953    MD - Homeopathy, Post Graduate Diploma in Heal...\n",
       "5954                                                 BHMS\n",
       "5955                                      MD - Homeopathy\n",
       "5956                                       MBBS, MS - ENT\n",
       "5957                                                 MBBS\n",
       "5958                                                 MBBS\n",
       "5959                          MBBS, MD - General Medicine\n",
       "5960                              BDS, MDS - Orthodontics\n",
       "Name: Qualification, Length: 5937, dtype: object"
      ]
     },
     "execution_count": 39,
     "metadata": {},
     "output_type": "execute_result"
    }
   ],
   "source": [
    "df.Qualification"
   ]
  },
  {
   "cell_type": "code",
   "execution_count": 40,
   "metadata": {},
   "outputs": [],
   "source": [
    "stopWords = set(stopwords.words('english'))\n",
    "\n",
    "REPLACE_BY_SPACE_RE = re.compile('[/(){}\\[\\]\\|@,;]')\n",
    "BAD_SYMBOLS_RE = re.compile('[^0-9a-z #+_]')\n",
    "STOPWORDS = set(stopwords.words('english'))\n",
    "\n",
    "def clean_text(text):\n",
    "    \"\"\"\n",
    "        text: a string\n",
    "        \n",
    "        return: modified initial string\n",
    "    \"\"\"\n",
    "    text = text.lower() # lowercase text\n",
    "    text = REPLACE_BY_SPACE_RE.sub(' ', text) # replace REPLACE_BY_SPACE_RE symbols by space in text\n",
    "    text = BAD_SYMBOLS_RE.sub('', text) # delete symbols which are in BAD_SYMBOLS_RE from text\n",
    "    text = ' '.join(word for word in text.split() if word not in STOPWORDS) # delete stopwors from text\n",
    "    return text"
   ]
  },
  {
   "cell_type": "code",
   "execution_count": 41,
   "metadata": {},
   "outputs": [],
   "source": [
    "#retain words that is between 2 to 4 chars and remove redundancy\n",
    "def two_four_chars(text):\n",
    "    clean=[]\n",
    "    for word in text.split():\n",
    "        if len(word) in (2,3,4):\n",
    "            clean.append(word)\n",
    "        else: pass\n",
    "    return list(dict.fromkeys(clean)) #remove redundancy"
   ]
  },
  {
   "cell_type": "code",
   "execution_count": 42,
   "metadata": {},
   "outputs": [],
   "source": [
    "df['Qualification'] = df['Qualification'].apply(two_four_chars)"
   ]
  },
  {
   "cell_type": "code",
   "execution_count": 43,
   "metadata": {},
   "outputs": [],
   "source": [
    "#join the words for countvectorising\n",
    "df['Qualification'] = df['Qualification'].apply(lambda x : ' '.join(x))"
   ]
  },
  {
   "cell_type": "code",
   "execution_count": 44,
   "metadata": {},
   "outputs": [],
   "source": [
    "df.reset_index(drop=True,inplace=True)"
   ]
  },
  {
   "cell_type": "code",
   "execution_count": 45,
   "metadata": {},
   "outputs": [],
   "source": [
    "#min_df is used to limit total columns of 40 vs more than 240 if the whole corpus is included\n",
    "from sklearn.feature_extraction.text import CountVectorizer\n",
    "\n",
    "cv = CountVectorizer(min_df=50)\n",
    "count_vect=cv.fit_transform(df['Qualification']).A"
   ]
  },
  {
   "cell_type": "code",
   "execution_count": 46,
   "metadata": {},
   "outputs": [
    {
     "name": "stdout",
     "output_type": "stream",
     "text": [
      "There are 17 unique words in this corpus\n"
     ]
    }
   ],
   "source": [
    "print(f'There are {len(cv.get_feature_names())} unique words in this corpus')"
   ]
  },
  {
   "cell_type": "code",
   "execution_count": 47,
   "metadata": {},
   "outputs": [
    {
     "data": {
      "text/plain": [
       "md      1542\n",
       "bds     1363\n",
       "in      1070\n",
       "mds      752\n",
       "mbbs     632\n",
       "ms       626\n",
       "bams     515\n",
       "bhms     513\n",
       "ent      512\n",
       "dnb      408\n",
       "and      374\n",
       "oral     252\n",
       "post     143\n",
       "of       134\n",
       "ddv      129\n",
       "ddvl     109\n",
       "phd       51\n",
       "dtype: int64"
      ]
     },
     "execution_count": 47,
     "metadata": {},
     "output_type": "execute_result"
    }
   ],
   "source": [
    "nlp=pd.DataFrame(cv.fit_transform(df['Qualification']).A,columns=cv.get_feature_names())\n",
    "#top 40 columns in Qualifications column\n",
    "nlp.sum(axis=0).sort_values(ascending=False)"
   ]
  },
  {
   "cell_type": "code",
   "execution_count": 48,
   "metadata": {},
   "outputs": [],
   "source": [
    "#columns to drop\n",
    "#Qualification ( as we already countvectorized it )\n",
    "#Place ( as we already split to city and locality)\n",
    "#Locality ( as city is granular enough)\n",
    "drop_col = ['Qualification','Place','locality']"
   ]
  },
  {
   "cell_type": "code",
   "execution_count": 49,
   "metadata": {},
   "outputs": [],
   "source": [
    "df.drop(drop_col,axis=1,inplace=True)"
   ]
  },
  {
   "cell_type": "code",
   "execution_count": 50,
   "metadata": {},
   "outputs": [],
   "source": [
    "#save to new dataframe & csv\n",
    "df=pd.concat([df, nlp], axis=1)\n",
    "df.to_csv('.\\dataset\\Clean_Final_Train.csv',index=False)"
   ]
  },
  {
   "cell_type": "code",
   "execution_count": 51,
   "metadata": {},
   "outputs": [
    {
     "data": {
      "image/png": "[encoded data removed]",
      "text/plain": [
       "<Figure size 432x288 with 1 Axes>"
      ]
     },
     "metadata": {
      "needs_background": "light"
     },
     "output_type": "display_data"
    }
   ],
   "source": [
    "df.Fees.to_frame().plot(kind='hist');"
   ]
  },
  {
   "cell_type": "markdown",
   "metadata": {},
   "source": [
    "# Continue to part 2"
   ]
  }
 ],
 "metadata": {
  "kernelspec": {
   "display_name": "Python 3",
   "language": "python",
   "name": "python3"
  },
  "language_info": {
   "codemirror_mode": {
    "name": "ipython",
    "version": 3
   },
   "file_extension": ".py",
   "mimetype": "text/x-python",
   "name": "python",
   "nbconvert_exporter": "python",
   "pygments_lexer": "ipython3",
   "version": "3.7.3"
  }
 },
 "nbformat": 4,
 "nbformat_minor": 2
}
